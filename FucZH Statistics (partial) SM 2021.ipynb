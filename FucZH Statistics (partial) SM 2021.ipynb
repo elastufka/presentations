{
 "cells": [
  {
   "cell_type": "markdown",
   "metadata": {
    "slideshow": {
     "slide_type": "slide"
    }
   },
   "source": [
    "# Mixed SM 2021 Round 1\n",
    "\n",
    "<table><tr>\n",
    "<td><img src=\"https://raw.githubusercontent.com/elastufka/presentations/master/images/ZU_logo1.png\" width=\"200\"></td>\n",
    " <td><img src=\"https://encrypted-tbn0.gstatic.com/images?q=tbn:ANd9GcSOgmNJ347YwD-sfSxjATPgVkPQh6XknjCv4Q&usqp=CAU\" width='200'></td></tr>\n",
    "    </table>\n",
    "    \n",
    " **Some (incomplete) statistics, now with more information content**\n",
    " "
   ]
  },
  {
   "cell_type": "markdown",
   "metadata": {
    "slideshow": {
     "slide_type": "fragment"
    }
   },
   "source": [
    "## About the Plots\n",
    "\n",
    "They are fully interactive! Just in case you have not encountered this before... it should be pretty easy to figure out when you hover your mouse in random places and it tells you what you can do.\n",
    "\n",
    "I would not advise looking at this on a mobile phone.\n",
    "\n",
    "## About the Data\n",
    "**Skip if you're impatient**\n",
    "\n",
    "- Statistics taken with UltiAnalytics app using GoPro footage. I couldn't always see the endzones. So if a thrower/receiver is marked as Anonymous with an Unknown gender matchup, that's where that comes from.\n",
    "\n",
    "- Limitations of UltiAnalytics: All turns from our team are either drops or throwaways. So if a player got D'd it's counted as one of those (usually depending on how close to the camera it happened - if it was closer chances are higher I counted it as a drop because I could see what was going on)\n",
    "\n",
    "- Timing data was useless here since I was often pausing or rewinding the video feed to try and figure out who was who \n",
    "\n",
    "- Data is anonymized since this is public (but probably hard to find) \n",
    "\n",
    "- Anonymized data and (messy) code available [here](https://github.com/elastufka/better_ultistats) . Feel free to check my work."
   ]
  },
  {
   "cell_type": "code",
   "execution_count": 1,
   "metadata": {
    "slideshow": {
     "slide_type": "skip"
    }
   },
   "outputs": [],
   "source": [
    "#py37\n",
    "import pandas as pd \n",
    "import plotly\n",
    "from plotly import graph_objects as go\n",
    "import plotly.express as px\n",
    "from ultistats_utils import *\n",
    "from visualization_tools import *"
   ]
  },
  {
   "cell_type": "code",
   "execution_count": 3,
   "metadata": {
    "slideshow": {
     "slide_type": "skip"
    }
   },
   "outputs": [],
   "source": [
    "#slideshow stuff\n",
    "from IPython.display import Javascript\n",
    "from plotly.offline import get_plotlyjs\n",
    "Javascript(get_plotlyjs())\n",
    "slidew=850\n",
    "slideh=600\n",
    "set_pride_template()"
   ]
  },
  {
   "cell_type": "code",
   "execution_count": 655,
   "metadata": {
    "slideshow": {
     "slide_type": "skip"
    }
   },
   "outputs": [],
   "source": [
    "pcolors=pride_colors_plotly()\n",
    "bcolors=pride_colors_plotly(flag='bi')\n",
    "logo_layout=global_layout()"
   ]
  },
  {
   "cell_type": "markdown",
   "metadata": {
    "slideshow": {
     "slide_type": "skip"
    }
   },
   "source": [
    "## Load & Prep Data"
   ]
  },
  {
   "cell_type": "code",
   "execution_count": 488,
   "metadata": {
    "slideshow": {
     "slide_type": "skip"
    }
   },
   "outputs": [],
   "source": [
    "df=pd.read_csv('FucZH-stats.csv')"
   ]
  },
  {
   "cell_type": "code",
   "execution_count": 489,
   "metadata": {
    "slideshow": {
     "slide_type": "skip"
    }
   },
   "outputs": [],
   "source": [
    "df.drop(columns=list(df.keys())[20:],inplace=True)"
   ]
  },
  {
   "cell_type": "code",
   "execution_count": 490,
   "metadata": {
    "slideshow": {
     "slide_type": "skip"
    }
   },
   "outputs": [],
   "source": [
    "df['Passer_matchup']=['W' if p in wline else 'M' if p in mline else 'U' if p== 'Anonymous' else p for p in df.Passer]\n",
    "df['Receiver_matchup']=['W' if p in wline else 'M' if p in mline else 'U' if p== 'Anonymous' else p for p in df.Receiver]\n",
    "df['Defender_matchup']=['W' if p in wline else 'M' if p in mline else 'U' if p== 'Anonymous' else p for p in df.Defender]"
   ]
  },
  {
   "cell_type": "code",
   "execution_count": 675,
   "metadata": {
    "slideshow": {
     "slide_type": "skip"
    }
   },
   "outputs": [],
   "source": [
    "break_type,hockey_assist,assist,scorer,gng,gngm,gngn,opp_ta=[],[],[],[],[],[],[],[]\n",
    "turns,touches=[],[]\n",
    "W4_M3=[]\n",
    "M4_W3=[]\n",
    "\n",
    "for idx,row in df.iterrows():\n",
    "    #print(row,row['Line'])\n",
    "    turns.append(is_turn(df,idx,row))\n",
    "    touches.append(sort_touches(idx,row))\n",
    "    seven_on=[row[k] for k in row.keys() if 'Player' in k]\n",
    "    #print(seven_on)\n",
    "    if gender_ratio(seven_on) == 1:\n",
    "        W4_M3.append(1)\n",
    "        M4_W3.append(0)\n",
    "    else:\n",
    "        W4_M3.append(0)\n",
    "        M4_W3.append(1)\n",
    "    #opponent throwaway?\n",
    "    if row.Action=='Throwaway' and type(row.Passer)==float: #nan\n",
    "        opp_ta.append(1)\n",
    "    else:\n",
    "        opp_ta.append(0)\n",
    "    try:\n",
    "        isgng,gm,gn=give_and_go(df,idx,row)\n",
    "        if type(gn)==list:\n",
    "            gn.sort()\n",
    "            gn=tuple(gn)\n",
    "        gng.append(isgng)\n",
    "        gngm.append(gm)\n",
    "        gngn.append(gn)\n",
    "        assist.append(is_assist(df,idx,row))\n",
    "        scorer.append(goal_scorer(df,idx,row))\n",
    "        hockey_assist.append(is_hockey_assist(df,idx,row))\n",
    "    except (KeyError,IndexError) as e:\n",
    "        assist.append(None)\n",
    "        scorer.append(None)\n",
    "        hockey_assist.append(None)\n",
    "        gng.append(None)\n",
    "        gngm.append(None)\n",
    "        gngn.append(None)\n",
    "        pass\n",
    "    if idx >0:\n",
    "        break_type.append(is_break(row['Line'],row['Action'],row['Receiver']))\n",
    "        #print(row['Line'],row['Action'],row['Receiver'],break_type)\n",
    "    else:\n",
    "        break_type.append(None)"
   ]
  },
  {
   "cell_type": "code",
   "execution_count": 670,
   "metadata": {
    "slideshow": {
     "slide_type": "skip"
    }
   },
   "outputs": [],
   "source": [
    "#anonymize - might need to run this at the end just in case\n",
    "for k,v in anony_dict.items():\n",
    "    df.replace(k,v,inplace=True)"
   ]
  },
  {
   "cell_type": "code",
   "execution_count": 493,
   "metadata": {
    "slideshow": {
     "slide_type": "skip"
    }
   },
   "outputs": [],
   "source": [
    "df['W4_M3']=W4_M3\n",
    "df['M4_W3']=M4_W3\n",
    "df['Offense_line']=[1 if l == 'O' else 0 for l in df.Line]"
   ]
  },
  {
   "cell_type": "code",
   "execution_count": 676,
   "metadata": {
    "slideshow": {
     "slide_type": "skip"
    }
   },
   "outputs": [],
   "source": [
    "df['Break']=break_type\n",
    "df['Hockey_assist']=hockey_assist\n",
    "df['Scorer']=scorer\n",
    "df['Assist']=assist\n",
    "df['Turn']=turns\n",
    "df['Touches']=touches\n",
    "df['give-and-go']=gng\n",
    "df['give-and-go_matchup']=gngm\n",
    "df['give-and-go_pairs']=gngn\n",
    "df['opponent_throwaway']=opp_ta"
   ]
  },
  {
   "cell_type": "code",
   "execution_count": 495,
   "metadata": {
    "slideshow": {
     "slide_type": "skip"
    }
   },
   "outputs": [],
   "source": [
    "df['Pass_matchup']=df.Passer_matchup+df.Receiver_matchup\n",
    "df['PointID']=[o+f\"{op:02d}\"+f\"{tp:02d}\" for o,op,tp in zip(df.Opponent,df['Our Score - End of Point'],df['Their Score - End of Point'])]"
   ]
  },
  {
   "cell_type": "code",
   "execution_count": 496,
   "metadata": {
    "slideshow": {
     "slide_type": "skip"
    }
   },
   "outputs": [
    {
     "data": {
      "text/html": [
       "<div>\n",
       "<style scoped>\n",
       "    .dataframe tbody tr th:only-of-type {\n",
       "        vertical-align: middle;\n",
       "    }\n",
       "\n",
       "    .dataframe tbody tr th {\n",
       "        vertical-align: top;\n",
       "    }\n",
       "\n",
       "    .dataframe thead th {\n",
       "        text-align: right;\n",
       "    }\n",
       "</style>\n",
       "<table border=\"1\" class=\"dataframe\">\n",
       "  <thead>\n",
       "    <tr style=\"text-align: right;\">\n",
       "      <th></th>\n",
       "      <th>Date/Time</th>\n",
       "      <th>Tournamemnt</th>\n",
       "      <th>Opponent</th>\n",
       "      <th>Point Elapsed Seconds</th>\n",
       "      <th>Line</th>\n",
       "      <th>Our Score - End of Point</th>\n",
       "      <th>Their Score - End of Point</th>\n",
       "      <th>Event Type</th>\n",
       "      <th>Action</th>\n",
       "      <th>Passer</th>\n",
       "      <th>...</th>\n",
       "      <th>EndOfThirdQuarter</th>\n",
       "      <th>GameOver</th>\n",
       "      <th>Goal</th>\n",
       "      <th>Halftime</th>\n",
       "      <th>Pull</th>\n",
       "      <th>PullOb</th>\n",
       "      <th>Throwaway</th>\n",
       "      <th>Touch_M</th>\n",
       "      <th>Touch_U</th>\n",
       "      <th>Touch_W</th>\n",
       "    </tr>\n",
       "  </thead>\n",
       "  <tbody>\n",
       "    <tr>\n",
       "      <th>0</th>\n",
       "      <td>2021-09-06 16:58</td>\n",
       "      <td>Mixed SM 2021</td>\n",
       "      <td>FSL</td>\n",
       "      <td>6</td>\n",
       "      <td>D</td>\n",
       "      <td>0</td>\n",
       "      <td>1</td>\n",
       "      <td>Defense</td>\n",
       "      <td>Pull</td>\n",
       "      <td>NaN</td>\n",
       "      <td>...</td>\n",
       "      <td>0</td>\n",
       "      <td>0</td>\n",
       "      <td>0</td>\n",
       "      <td>0</td>\n",
       "      <td>1</td>\n",
       "      <td>0</td>\n",
       "      <td>0</td>\n",
       "      <td>0</td>\n",
       "      <td>0</td>\n",
       "      <td>0</td>\n",
       "    </tr>\n",
       "    <tr>\n",
       "      <th>1</th>\n",
       "      <td>2021-09-06 16:58</td>\n",
       "      <td>Mixed SM 2021</td>\n",
       "      <td>FSL</td>\n",
       "      <td>6</td>\n",
       "      <td>D</td>\n",
       "      <td>0</td>\n",
       "      <td>1</td>\n",
       "      <td>Defense</td>\n",
       "      <td>Goal</td>\n",
       "      <td>NaN</td>\n",
       "      <td>...</td>\n",
       "      <td>0</td>\n",
       "      <td>0</td>\n",
       "      <td>1</td>\n",
       "      <td>0</td>\n",
       "      <td>0</td>\n",
       "      <td>0</td>\n",
       "      <td>0</td>\n",
       "      <td>0</td>\n",
       "      <td>0</td>\n",
       "      <td>0</td>\n",
       "    </tr>\n",
       "    <tr>\n",
       "      <th>2</th>\n",
       "      <td>2021-09-06 16:58</td>\n",
       "      <td>Mixed SM 2021</td>\n",
       "      <td>FSL</td>\n",
       "      <td>135</td>\n",
       "      <td>O</td>\n",
       "      <td>1</td>\n",
       "      <td>1</td>\n",
       "      <td>Offense</td>\n",
       "      <td>Catch</td>\n",
       "      <td>FS</td>\n",
       "      <td>...</td>\n",
       "      <td>0</td>\n",
       "      <td>0</td>\n",
       "      <td>0</td>\n",
       "      <td>0</td>\n",
       "      <td>0</td>\n",
       "      <td>0</td>\n",
       "      <td>0</td>\n",
       "      <td>1</td>\n",
       "      <td>0</td>\n",
       "      <td>0</td>\n",
       "    </tr>\n",
       "    <tr>\n",
       "      <th>3</th>\n",
       "      <td>2021-09-06 16:58</td>\n",
       "      <td>Mixed SM 2021</td>\n",
       "      <td>FSL</td>\n",
       "      <td>135</td>\n",
       "      <td>O</td>\n",
       "      <td>1</td>\n",
       "      <td>1</td>\n",
       "      <td>Offense</td>\n",
       "      <td>Catch</td>\n",
       "      <td>GA</td>\n",
       "      <td>...</td>\n",
       "      <td>0</td>\n",
       "      <td>0</td>\n",
       "      <td>0</td>\n",
       "      <td>0</td>\n",
       "      <td>0</td>\n",
       "      <td>0</td>\n",
       "      <td>0</td>\n",
       "      <td>1</td>\n",
       "      <td>0</td>\n",
       "      <td>0</td>\n",
       "    </tr>\n",
       "    <tr>\n",
       "      <th>4</th>\n",
       "      <td>2021-09-06 16:58</td>\n",
       "      <td>Mixed SM 2021</td>\n",
       "      <td>FSL</td>\n",
       "      <td>135</td>\n",
       "      <td>O</td>\n",
       "      <td>1</td>\n",
       "      <td>1</td>\n",
       "      <td>Offense</td>\n",
       "      <td>Catch</td>\n",
       "      <td>EL</td>\n",
       "      <td>...</td>\n",
       "      <td>0</td>\n",
       "      <td>0</td>\n",
       "      <td>0</td>\n",
       "      <td>0</td>\n",
       "      <td>0</td>\n",
       "      <td>0</td>\n",
       "      <td>0</td>\n",
       "      <td>0</td>\n",
       "      <td>0</td>\n",
       "      <td>1</td>\n",
       "    </tr>\n",
       "    <tr>\n",
       "      <th>5</th>\n",
       "      <td>2021-09-06 16:58</td>\n",
       "      <td>Mixed SM 2021</td>\n",
       "      <td>FSL</td>\n",
       "      <td>135</td>\n",
       "      <td>O</td>\n",
       "      <td>1</td>\n",
       "      <td>1</td>\n",
       "      <td>Offense</td>\n",
       "      <td>Catch</td>\n",
       "      <td>SH</td>\n",
       "      <td>...</td>\n",
       "      <td>0</td>\n",
       "      <td>0</td>\n",
       "      <td>0</td>\n",
       "      <td>0</td>\n",
       "      <td>0</td>\n",
       "      <td>0</td>\n",
       "      <td>0</td>\n",
       "      <td>1</td>\n",
       "      <td>0</td>\n",
       "      <td>0</td>\n",
       "    </tr>\n",
       "    <tr>\n",
       "      <th>6</th>\n",
       "      <td>2021-09-06 16:58</td>\n",
       "      <td>Mixed SM 2021</td>\n",
       "      <td>FSL</td>\n",
       "      <td>135</td>\n",
       "      <td>O</td>\n",
       "      <td>1</td>\n",
       "      <td>1</td>\n",
       "      <td>Offense</td>\n",
       "      <td>Goal</td>\n",
       "      <td>SB</td>\n",
       "      <td>...</td>\n",
       "      <td>0</td>\n",
       "      <td>0</td>\n",
       "      <td>1</td>\n",
       "      <td>0</td>\n",
       "      <td>0</td>\n",
       "      <td>0</td>\n",
       "      <td>0</td>\n",
       "      <td>0</td>\n",
       "      <td>0</td>\n",
       "      <td>1</td>\n",
       "    </tr>\n",
       "    <tr>\n",
       "      <th>7</th>\n",
       "      <td>2021-09-06 16:58</td>\n",
       "      <td>Mixed SM 2021</td>\n",
       "      <td>FSL</td>\n",
       "      <td>10</td>\n",
       "      <td>D</td>\n",
       "      <td>2</td>\n",
       "      <td>1</td>\n",
       "      <td>Defense</td>\n",
       "      <td>PullOb</td>\n",
       "      <td>NaN</td>\n",
       "      <td>...</td>\n",
       "      <td>0</td>\n",
       "      <td>0</td>\n",
       "      <td>0</td>\n",
       "      <td>0</td>\n",
       "      <td>0</td>\n",
       "      <td>1</td>\n",
       "      <td>0</td>\n",
       "      <td>0</td>\n",
       "      <td>0</td>\n",
       "      <td>0</td>\n",
       "    </tr>\n",
       "    <tr>\n",
       "      <th>8</th>\n",
       "      <td>2021-09-06 16:58</td>\n",
       "      <td>Mixed SM 2021</td>\n",
       "      <td>FSL</td>\n",
       "      <td>10</td>\n",
       "      <td>D</td>\n",
       "      <td>2</td>\n",
       "      <td>1</td>\n",
       "      <td>Defense</td>\n",
       "      <td>Throwaway</td>\n",
       "      <td>NaN</td>\n",
       "      <td>...</td>\n",
       "      <td>0</td>\n",
       "      <td>0</td>\n",
       "      <td>0</td>\n",
       "      <td>0</td>\n",
       "      <td>0</td>\n",
       "      <td>0</td>\n",
       "      <td>1</td>\n",
       "      <td>0</td>\n",
       "      <td>0</td>\n",
       "      <td>0</td>\n",
       "    </tr>\n",
       "    <tr>\n",
       "      <th>9</th>\n",
       "      <td>2021-09-06 16:58</td>\n",
       "      <td>Mixed SM 2021</td>\n",
       "      <td>FSL</td>\n",
       "      <td>10</td>\n",
       "      <td>D</td>\n",
       "      <td>2</td>\n",
       "      <td>1</td>\n",
       "      <td>Offense</td>\n",
       "      <td>Goal</td>\n",
       "      <td>JS</td>\n",
       "      <td>...</td>\n",
       "      <td>0</td>\n",
       "      <td>0</td>\n",
       "      <td>1</td>\n",
       "      <td>0</td>\n",
       "      <td>0</td>\n",
       "      <td>0</td>\n",
       "      <td>0</td>\n",
       "      <td>1</td>\n",
       "      <td>0</td>\n",
       "      <td>0</td>\n",
       "    </tr>\n",
       "  </tbody>\n",
       "</table>\n",
       "<p>10 rows × 52 columns</p>\n",
       "</div>"
      ],
      "text/plain": [
       "          Date/Time    Tournamemnt Opponent  Point Elapsed Seconds Line  \\\n",
       "0  2021-09-06 16:58  Mixed SM 2021      FSL                      6    D   \n",
       "1  2021-09-06 16:58  Mixed SM 2021      FSL                      6    D   \n",
       "2  2021-09-06 16:58  Mixed SM 2021      FSL                    135    O   \n",
       "3  2021-09-06 16:58  Mixed SM 2021      FSL                    135    O   \n",
       "4  2021-09-06 16:58  Mixed SM 2021      FSL                    135    O   \n",
       "5  2021-09-06 16:58  Mixed SM 2021      FSL                    135    O   \n",
       "6  2021-09-06 16:58  Mixed SM 2021      FSL                    135    O   \n",
       "7  2021-09-06 16:58  Mixed SM 2021      FSL                     10    D   \n",
       "8  2021-09-06 16:58  Mixed SM 2021      FSL                     10    D   \n",
       "9  2021-09-06 16:58  Mixed SM 2021      FSL                     10    D   \n",
       "\n",
       "   Our Score - End of Point  Their Score - End of Point Event Type     Action  \\\n",
       "0                         0                           1    Defense       Pull   \n",
       "1                         0                           1    Defense       Goal   \n",
       "2                         1                           1    Offense      Catch   \n",
       "3                         1                           1    Offense      Catch   \n",
       "4                         1                           1    Offense      Catch   \n",
       "5                         1                           1    Offense      Catch   \n",
       "6                         1                           1    Offense       Goal   \n",
       "7                         2                           1    Defense     PullOb   \n",
       "8                         2                           1    Defense  Throwaway   \n",
       "9                         2                           1    Offense       Goal   \n",
       "\n",
       "  Passer  ... EndOfThirdQuarter GameOver  Goal Halftime Pull PullOb Throwaway  \\\n",
       "0    NaN  ...                 0        0     0        0    1      0         0   \n",
       "1    NaN  ...                 0        0     1        0    0      0         0   \n",
       "2     FS  ...                 0        0     0        0    0      0         0   \n",
       "3     GA  ...                 0        0     0        0    0      0         0   \n",
       "4     EL  ...                 0        0     0        0    0      0         0   \n",
       "5     SH  ...                 0        0     0        0    0      0         0   \n",
       "6     SB  ...                 0        0     1        0    0      0         0   \n",
       "7    NaN  ...                 0        0     0        0    0      1         0   \n",
       "8    NaN  ...                 0        0     0        0    0      0         1   \n",
       "9     JS  ...                 0        0     1        0    0      0         0   \n",
       "\n",
       "  Touch_M Touch_U Touch_W  \n",
       "0       0       0       0  \n",
       "1       0       0       0  \n",
       "2       1       0       0  \n",
       "3       1       0       0  \n",
       "4       0       0       1  \n",
       "5       1       0       0  \n",
       "6       0       0       1  \n",
       "7       0       0       0  \n",
       "8       0       0       0  \n",
       "9       1       0       0  \n",
       "\n",
       "[10 rows x 52 columns]"
      ]
     },
     "execution_count": 496,
     "metadata": {},
     "output_type": "execute_result"
    }
   ],
   "source": [
    "#dummies for 'Action' colump\n",
    "adf=pd.get_dummies(df.Action)\n",
    "#bdf=pd.get_dummies(df.Break)\n",
    "#pmdf0=pd.get_dummies(df.Pass_matchup)\n",
    "#pmdf0.rename(columns={'MW':'Pass_matchup_MW','WM':'Pass_matchup_WM','MM':'Pass_matchup_MM','WW':'Pass_matchup_WW','MU':'Pass_matchup_MU','UM':'Pass_matchup_UM','WU':'Pass_matchup_WU','UW':'Pass_matchup_UW'},inplace=True)\n",
    "pmdf=pd.get_dummies(df.Touches)\n",
    "pmdf.rename(columns={'U':'Touch_U','W':'Touch_W','M':'Touch_M'},inplace=True)\n",
    "# rmdf=pd.get_dummies(df.Receiver_matchup)\n",
    "# rmdf.rename(columns={'U':'Receiver_matchup_U','W':'Receiver_matchup_W','M':'Receiver_matchup_M'},inplace=True)\n",
    "# dmdf=pd.get_dummies(df.Defender_matchup)\n",
    "# dmdf.rename(columns={'U':'Defender_matchup_U','W':'Defender_matchup_W','M':'Defender_matchup_M'},inplace=True)\n",
    "df=df.merge(adf,left_index=True,right_index=True)\n",
    "#df=df.merge(bdf,left_index=True,right_index=True)\n",
    "#df=df.merge(pmdf0,left_index=True,right_index=True)\n",
    "df=df.merge(pmdf,left_index=True,right_index=True)\n",
    "#df=df.merge(rmdf,left_index=True,right_index=True)\n",
    "#df=df.merge(dmdf,left_index=True,right_index=True)\n",
    "df.head(10)"
   ]
  },
  {
   "cell_type": "code",
   "execution_count": 483,
   "metadata": {
    "slideshow": {
     "slide_type": "skip"
    }
   },
   "outputs": [
    {
     "data": {
      "text/plain": [
       "Index(['Date/Time', 'Tournamemnt', 'Opponent', 'Point Elapsed Seconds', 'Line',\n",
       "       'Our Score - End of Point', 'Their Score - End of Point', 'Event Type',\n",
       "       'Action', 'Passer', 'Receiver', 'Defender', 'Hang Time (secs)',\n",
       "       'Player 0', 'Player 1', 'Player 2', 'Player 3', 'Player 4', 'Player 5',\n",
       "       'Player 6', 'Passer_matchup', 'Receiver_matchup', 'Defender_matchup',\n",
       "       'W4_M3', 'M4_W3', 'Offense_line', 'Break', 'Hockey_assist', 'Scorer',\n",
       "       'Assist', 'Turn', 'Touches', 'give-and-go', 'give-and-go_matchup',\n",
       "       'give-and-go_pairs', 'opponent_throwaway', 'Pass_matchup', 'PointID',\n",
       "       'Catch', 'D', 'Drop', 'EndOfFirstQuarter', 'EndOfThirdQuarter',\n",
       "       'GameOver', 'Goal', 'Halftime', 'Pull', 'PullOb', 'Throwaway',\n",
       "       'Touch_M', 'Touch_U', 'Touch_W'],\n",
       "      dtype='object')"
      ]
     },
     "execution_count": 483,
     "metadata": {},
     "output_type": "execute_result"
    }
   ],
   "source": [
    "df.keys()"
   ]
  },
  {
   "cell_type": "code",
   "execution_count": 687,
   "metadata": {
    "slideshow": {
     "slide_type": "skip"
    }
   },
   "outputs": [],
   "source": [
    "df.to_csv('FucZH_SMR1_anonymized.csv')"
   ]
  },
  {
   "cell_type": "markdown",
   "metadata": {
    "slideshow": {
     "slide_type": "skip"
    }
   },
   "source": [
    "### group by point"
   ]
  },
  {
   "cell_type": "code",
   "execution_count": 501,
   "metadata": {
    "slideshow": {
     "slide_type": "skip"
    }
   },
   "outputs": [],
   "source": [
    "gdf=df.groupby('PointID')"
   ]
  },
  {
   "cell_type": "markdown",
   "metadata": {
    "slideshow": {
     "slide_type": "skip"
    }
   },
   "source": [
    "## Plots - overall"
   ]
  },
  {
   "cell_type": "code",
   "execution_count": 662,
   "metadata": {
    "slideshow": {
     "slide_type": "skip"
    }
   },
   "outputs": [],
   "source": [
    "exec(open('ultistats_utils.py').read())"
   ]
  },
  {
   "cell_type": "markdown",
   "metadata": {
    "slideshow": {
     "slide_type": "slide"
    }
   },
   "source": [
    "## Game progression\n",
    "\n",
    "Definitions:\n",
    "- Hold = Start & Score on Offense\n",
    "- Break = Start & Score on Defense\n",
    "\n",
    "Good to Know: \n",
    "- Completed passes don't count goals because of the way UltiAnalytics categorizes actions and I was too lazy to put them back in"
   ]
  },
  {
   "cell_type": "code",
   "execution_count": 663,
   "metadata": {
    "slideshow": {
     "slide_type": "fragment"
    },
    "tags": [
     "to_remove"
    ]
   },
   "outputs": [
    {
     "data": {
      "application/vnd.plotly.v1+json": {
       "config": {
        "plotlyServerURL": "https://plotly.com"
       },
       "data": [
        {
         "mode": "lines+markers",
         "type": "scatter",
         "x": [
          0
         ],
         "y": [
          0
         ]
        }
       ],
       "frames": [
        {
         "data": [
          {
           "line": {
            "shape": "hv"
           },
           "mode": "lines+markers",
           "type": "scatter",
           "x": [
            0
           ],
           "y": [
            0
           ]
          }
         ],
         "name": "frame0"
        },
        {
         "data": [
          {
           "line": {
            "shape": "hvh"
           },
           "mode": "lines+markers",
           "type": "scatter",
           "x": [
            1
           ],
           "y": [
            -0.5
           ]
          }
         ],
         "layout": {
          "annotations": [
           {
            "font": {
             "color": "blue"
            },
            "text": "4W3M: JL,MV,MR,CC,LB,JS,SG",
            "x": 1,
            "xref": "x",
            "y": -0.5,
            "yref": "y"
           },
           {
            "font": {
             "color": "orange",
             "size": 18
            },
            "showarrow": false,
            "text": "FucZH 0-1 Fly High Lausanne",
            "x": 0.5,
            "xref": "paper",
            "y": 1.4,
            "yref": "y"
           },
           {
            "showarrow": false,
            "text": "Completed Passes: 0,Turns: 2",
            "x": 17,
            "xref": "x",
            "y": 1.3,
            "yref": "y"
           }
          ]
         },
         "name": "frame1"
        },
        {
         "data": [
          {
           "line": {
            "shape": "hvh"
           },
           "mode": "lines+markers",
           "type": "scatter",
           "x": [
            1,
            2
           ],
           "y": [
            -0.5,
            0.5
           ]
          }
         ],
         "layout": {
          "annotations": [
           {
            "font": {
             "color": "blue"
            },
            "text": "4M3W: AY,SB,FS,SH,EL,JV,GA",
            "x": 2,
            "xref": "x",
            "y": 0.5,
            "yref": "y"
           },
           {
            "font": {
             "color": "orange",
             "size": 18
            },
            "showarrow": false,
            "text": "FucZH 1-1 Fly High Lausanne",
            "x": 0.5,
            "xref": "paper",
            "y": 1.4,
            "yref": "y"
           },
           {
            "showarrow": false,
            "text": "Completed Passes: 22,Turns: 0",
            "x": 17,
            "xref": "x",
            "y": 1.3,
            "yref": "y"
           },
           {
            "showarrow": false,
            "text": "Assist: SH, Goal:Anonymous",
            "x": 17,
            "xref": "x",
            "y": 1.4,
            "yref": "y"
           }
          ]
         },
         "name": "frame2"
        },
        {
         "data": [
          {
           "line": {
            "shape": "hvh"
           },
           "mode": "lines+markers",
           "type": "scatter",
           "x": [
            1,
            2,
            3
           ],
           "y": [
            -0.5,
            0.5,
            1
           ]
          }
         ],
         "layout": {
          "annotations": [
           {
            "font": {
             "color": "blue"
            },
            "text": "4M3W: JL,MV,MR,CS,CC,JS,SG",
            "x": 3,
            "xref": "x",
            "y": 1,
            "yref": "y"
           },
           {
            "font": {
             "color": "orange",
             "size": 18
            },
            "showarrow": false,
            "text": "FucZH 2-1 Fly High Lausanne",
            "x": 0.5,
            "xref": "paper",
            "y": 1.4,
            "yref": "y"
           },
           {
            "showarrow": false,
            "text": "Completed Passes: 0,Turns: 3",
            "x": 17,
            "xref": "x",
            "y": 1.3,
            "yref": "y"
           },
           {
            "showarrow": false,
            "text": "Assist: None, Goal:MR",
            "x": 17,
            "xref": "x",
            "y": 1.4,
            "yref": "y"
           }
          ]
         },
         "name": "frame3"
        },
        {
         "data": [
          {
           "line": {
            "shape": "hvh"
           },
           "mode": "lines+markers",
           "type": "scatter",
           "x": [
            1,
            2,
            3,
            4
           ],
           "y": [
            -0.5,
            0.5,
            1,
            1
           ]
          }
         ],
         "layout": {
          "annotations": [
           {
            "font": {
             "color": "blue"
            },
            "text": "4W3M: JL,MV,CS,LB,EL,JV,SG",
            "x": 4,
            "xref": "x",
            "y": 1,
            "yref": "y"
           },
           {
            "font": {
             "color": "orange",
             "size": 18
            },
            "showarrow": false,
            "text": "FucZH 3-1 Fly High Lausanne",
            "x": 0.5,
            "xref": "paper",
            "y": 1.4,
            "yref": "y"
           },
           {
            "showarrow": false,
            "text": "Completed Passes: 5,Turns: 1",
            "x": 17,
            "xref": "x",
            "y": 1.3,
            "yref": "y"
           },
           {
            "showarrow": false,
            "text": "Assist: CS, Goal:JV",
            "x": 17,
            "xref": "x",
            "y": 1.4,
            "yref": "y"
           }
          ]
         },
         "name": "frame4"
        },
        {
         "data": [
          {
           "line": {
            "shape": "hvh"
           },
           "mode": "lines+markers",
           "type": "scatter",
           "x": [
            1,
            2,
            3,
            4,
            5
           ],
           "y": [
            -0.5,
            0.5,
            1,
            1,
            -0.5
           ]
          }
         ],
         "layout": {
          "annotations": [
           {
            "font": {
             "color": "blue"
            },
            "text": "4W3M: SB,MV,MR,CC,EL,JS,SG",
            "x": 5,
            "xref": "x",
            "y": -0.5,
            "yref": "y"
           },
           {
            "font": {
             "color": "orange",
             "size": 18
            },
            "showarrow": false,
            "text": "FucZH 3-2 Fly High Lausanne",
            "x": 0.5,
            "xref": "paper",
            "y": 1.4,
            "yref": "y"
           },
           {
            "showarrow": false,
            "text": "Completed Passes: 0,Turns: 0",
            "x": 17,
            "xref": "x",
            "y": 1.3,
            "yref": "y"
           }
          ]
         },
         "name": "frame5"
        },
        {
         "data": [
          {
           "line": {
            "shape": "hvh"
           },
           "mode": "lines+markers",
           "type": "scatter",
           "x": [
            1,
            2,
            3,
            4,
            5,
            6
           ],
           "y": [
            -0.5,
            0.5,
            1,
            1,
            -0.5,
            0.5
           ]
          }
         ],
         "layout": {
          "annotations": [
           {
            "font": {
             "color": "blue"
            },
            "text": "4M3W: FS,JL,AY,SB,SH,JV,GA",
            "x": 6,
            "xref": "x",
            "y": 0.5,
            "yref": "y"
           },
           {
            "font": {
             "color": "orange",
             "size": 18
            },
            "showarrow": false,
            "text": "FucZH 4-2 Fly High Lausanne",
            "x": 0.5,
            "xref": "paper",
            "y": 1.4,
            "yref": "y"
           },
           {
            "showarrow": false,
            "text": "Completed Passes: 19,Turns: 2",
            "x": 17,
            "xref": "x",
            "y": 1.3,
            "yref": "y"
           },
           {
            "showarrow": false,
            "text": "Assist: Anonymous, Goal:JL",
            "x": 17,
            "xref": "x",
            "y": 1.4,
            "yref": "y"
           }
          ]
         },
         "name": "frame6"
        },
        {
         "data": [
          {
           "line": {
            "shape": "hvh"
           },
           "mode": "lines+markers",
           "type": "scatter",
           "x": [
            1,
            2,
            3,
            4,
            5,
            6,
            7
           ],
           "y": [
            -0.5,
            0.5,
            1,
            1,
            -0.5,
            0.5,
            -0.5
           ]
          }
         ],
         "layout": {
          "annotations": [
           {
            "font": {
             "color": "blue"
            },
            "text": "4M3W: MR,CC,CS,LB,EL,JS,SG",
            "x": 7,
            "xref": "x",
            "y": -0.5,
            "yref": "y"
           },
           {
            "font": {
             "color": "orange",
             "size": 18
            },
            "showarrow": false,
            "text": "FucZH 4-3 Fly High Lausanne",
            "x": 0.5,
            "xref": "paper",
            "y": 1.4,
            "yref": "y"
           },
           {
            "showarrow": false,
            "text": "Completed Passes: 0,Turns: 2",
            "x": 17,
            "xref": "x",
            "y": 1.3,
            "yref": "y"
           }
          ]
         },
         "name": "frame7"
        },
        {
         "data": [
          {
           "line": {
            "shape": "hvh"
           },
           "mode": "lines+markers",
           "type": "scatter",
           "x": [
            1,
            2,
            3,
            4,
            5,
            6,
            7,
            8
           ],
           "y": [
            -0.5,
            0.5,
            1,
            1,
            -0.5,
            0.5,
            -0.5,
            -1
           ]
          }
         ],
         "layout": {
          "annotations": [
           {
            "font": {
             "color": "blue"
            },
            "text": "4W3M: AY,FS,JL,SB,MV,SH,GA",
            "x": 8,
            "xref": "x",
            "y": -1,
            "yref": "y"
           },
           {
            "font": {
             "color": "orange",
             "size": 18
            },
            "showarrow": false,
            "text": "FucZH 4-4 Fly High Lausanne",
            "x": 0.5,
            "xref": "paper",
            "y": 1.4,
            "yref": "y"
           },
           {
            "showarrow": false,
            "text": "Completed Passes: 6,Turns: 3",
            "x": 17,
            "xref": "x",
            "y": 1.3,
            "yref": "y"
           }
          ]
         },
         "name": "frame8"
        },
        {
         "data": [
          {
           "line": {
            "shape": "hvh"
           },
           "mode": "lines+markers",
           "type": "scatter",
           "x": [
            1,
            2,
            3,
            4,
            5,
            6,
            7,
            8,
            9
           ],
           "y": [
            -0.5,
            0.5,
            1,
            1,
            -0.5,
            0.5,
            -0.5,
            -1,
            -1
           ]
          }
         ],
         "layout": {
          "annotations": [
           {
            "font": {
             "color": "blue"
            },
            "text": "4W3M: SB,AY,FS,CC,SH,EL,JV",
            "x": 9,
            "xref": "x",
            "y": -1,
            "yref": "y"
           },
           {
            "font": {
             "color": "orange",
             "size": 18
            },
            "showarrow": false,
            "text": "FucZH 4-5 Fly High Lausanne",
            "x": 0.5,
            "xref": "paper",
            "y": 1.4,
            "yref": "y"
           },
           {
            "showarrow": false,
            "text": "Completed Passes: 4,Turns: 3",
            "x": 17,
            "xref": "x",
            "y": 1.3,
            "yref": "y"
           }
          ]
         },
         "name": "frame9"
        },
        {
         "data": [
          {
           "line": {
            "shape": "hvh"
           },
           "mode": "lines+markers",
           "type": "scatter",
           "x": [
            1,
            2,
            3,
            4,
            5,
            6,
            7,
            8,
            9,
            10
           ],
           "y": [
            -0.5,
            0.5,
            1,
            1,
            -0.5,
            0.5,
            -0.5,
            -1,
            -1,
            -1
           ]
          }
         ],
         "layout": {
          "annotations": [
           {
            "font": {
             "color": "blue"
            },
            "text": "4M3W: JL,MV,MR,SH,LB,GA,SG",
            "x": 10,
            "xref": "x",
            "y": -1,
            "yref": "y"
           },
           {
            "font": {
             "color": "orange",
             "size": 18
            },
            "showarrow": false,
            "text": "FucZH 4-6 Fly High Lausanne",
            "x": 0.5,
            "xref": "paper",
            "y": 1.4,
            "yref": "y"
           },
           {
            "showarrow": false,
            "text": "Completed Passes: 1,Turns: 1",
            "x": 17,
            "xref": "x",
            "y": 1.3,
            "yref": "y"
           }
          ]
         },
         "name": "frame10"
        },
        {
         "data": [
          {
           "line": {
            "shape": "hvh"
           },
           "mode": "lines+markers",
           "type": "scatter",
           "x": [
            1,
            2,
            3,
            4,
            5,
            6,
            7,
            8,
            9,
            10,
            11
           ],
           "y": [
            -0.5,
            0.5,
            1,
            1,
            -0.5,
            0.5,
            -0.5,
            -1,
            -1,
            -1,
            0.5
           ]
          }
         ],
         "layout": {
          "annotations": [
           {
            "font": {
             "color": "blue"
            },
            "text": "4M3W: FS,AY,CC,SH,EL,JV,GA",
            "x": 11,
            "xref": "x",
            "y": 0.5,
            "yref": "y"
           },
           {
            "font": {
             "color": "orange",
             "size": 18
            },
            "showarrow": false,
            "text": "FucZH 5-6 Fly High Lausanne",
            "x": 0.5,
            "xref": "paper",
            "y": 1.4,
            "yref": "y"
           },
           {
            "showarrow": false,
            "text": "Completed Passes: 16,Turns: 0",
            "x": 17,
            "xref": "x",
            "y": 1.3,
            "yref": "y"
           },
           {
            "showarrow": false,
            "text": "Assist: SH, Goal:Anonymous",
            "x": 17,
            "xref": "x",
            "y": 1.4,
            "yref": "y"
           }
          ]
         },
         "name": "frame11"
        },
        {
         "data": [
          {
           "line": {
            "shape": "hvh"
           },
           "mode": "lines+markers",
           "type": "scatter",
           "x": [
            1,
            2,
            3,
            4,
            5,
            6,
            7,
            8,
            9,
            10,
            11,
            12
           ],
           "y": [
            -0.5,
            0.5,
            1,
            1,
            -0.5,
            0.5,
            -0.5,
            -1,
            -1,
            -1,
            0.5,
            1
           ]
          }
         ],
         "layout": {
          "annotations": [
           {
            "font": {
             "color": "blue"
            },
            "text": "4W3M: JL,SB,MV,MR,LB,JS,SG",
            "x": 12,
            "xref": "x",
            "y": 1,
            "yref": "y"
           },
           {
            "font": {
             "color": "orange",
             "size": 18
            },
            "showarrow": false,
            "text": "FucZH 6-6 Fly High Lausanne",
            "x": 0.5,
            "xref": "paper",
            "y": 1.4,
            "yref": "y"
           },
           {
            "showarrow": false,
            "text": "Completed Passes: 0,Turns: 1",
            "x": 17,
            "xref": "x",
            "y": 1.3,
            "yref": "y"
           },
           {
            "showarrow": false,
            "text": "Assist: None, Goal:MR",
            "x": 17,
            "xref": "x",
            "y": 1.4,
            "yref": "y"
           }
          ]
         },
         "name": "frame12"
        },
        {
         "data": [
          {
           "line": {
            "shape": "hvh"
           },
           "mode": "lines+markers",
           "type": "scatter",
           "x": [
            1,
            2,
            3,
            4,
            5,
            6,
            7,
            8,
            9,
            10,
            11,
            12,
            13
           ],
           "y": [
            -0.5,
            0.5,
            1,
            1,
            -0.5,
            0.5,
            -0.5,
            -1,
            -1,
            -1,
            0.5,
            1,
            -0.5
           ]
          }
         ],
         "layout": {
          "annotations": [
           {
            "font": {
             "color": "blue"
            },
            "text": "4W3M: JL,MV,CS,LB,EL,JV,SG",
            "x": 13,
            "xref": "x",
            "y": -0.5,
            "yref": "y"
           },
           {
            "font": {
             "color": "orange",
             "size": 18
            },
            "showarrow": false,
            "text": "FucZH 6-7 Fly High Lausanne",
            "x": 0.5,
            "xref": "paper",
            "y": 1.4,
            "yref": "y"
           },
           {
            "showarrow": false,
            "text": "Completed Passes: 0,Turns: 0",
            "x": 17,
            "xref": "x",
            "y": 1.3,
            "yref": "y"
           }
          ]
         },
         "name": "frame13"
        },
        {
         "data": [
          {
           "line": {
            "shape": "hvh"
           },
           "mode": "lines+markers",
           "type": "scatter",
           "x": [
            1,
            2,
            3,
            4,
            5,
            6,
            7,
            8,
            9,
            10,
            11,
            12,
            13,
            14
           ],
           "y": [
            -0.5,
            0.5,
            1,
            1,
            -0.5,
            0.5,
            -0.5,
            -1,
            -1,
            -1,
            0.5,
            1,
            -0.5,
            0.5
           ]
          }
         ],
         "layout": {
          "annotations": [
           {
            "font": {
             "color": "blue"
            },
            "text": "4M3W: AY,SB,FS,CC,SH,JS,GA",
            "x": 14,
            "xref": "x",
            "y": 0.5,
            "yref": "y"
           },
           {
            "font": {
             "color": "orange",
             "size": 18
            },
            "showarrow": false,
            "text": "FucZH 7-7 Fly High Lausanne",
            "x": 0.5,
            "xref": "paper",
            "y": 1.4,
            "yref": "y"
           },
           {
            "showarrow": false,
            "text": "Completed Passes: 9,Turns: 0",
            "x": 17,
            "xref": "x",
            "y": 1.3,
            "yref": "y"
           },
           {
            "showarrow": false,
            "text": "Assist: GA, Goal:SH",
            "x": 17,
            "xref": "x",
            "y": 1.4,
            "yref": "y"
           }
          ]
         },
         "name": "frame14"
        },
        {
         "data": [
          {
           "line": {
            "shape": "hvh"
           },
           "mode": "lines+markers",
           "type": "scatter",
           "x": [
            1,
            2,
            3,
            4,
            5,
            6,
            7,
            8,
            9,
            10,
            11,
            12,
            13,
            14,
            15
           ],
           "y": [
            -0.5,
            0.5,
            1,
            1,
            -0.5,
            0.5,
            -0.5,
            -1,
            -1,
            -1,
            0.5,
            1,
            -0.5,
            0.5,
            -0.5
           ]
          }
         ],
         "layout": {
          "annotations": [
           {
            "font": {
             "color": "blue"
            },
            "text": "4M3W: JL,MV,MR,CS,LB,JV,SG",
            "x": 15,
            "xref": "x",
            "y": -0.5,
            "yref": "y"
           },
           {
            "font": {
             "color": "orange",
             "size": 18
            },
            "showarrow": false,
            "text": "FucZH 7-8 Fly High Lausanne",
            "x": 0.5,
            "xref": "paper",
            "y": 1.4,
            "yref": "y"
           },
           {
            "showarrow": false,
            "text": "Completed Passes: 3,Turns: 2",
            "x": 17,
            "xref": "x",
            "y": 1.3,
            "yref": "y"
           }
          ]
         },
         "name": "frame15"
        },
        {
         "data": [
          {
           "line": {
            "shape": "hvh"
           },
           "mode": "lines+markers",
           "type": "scatter",
           "x": [
            1,
            2,
            3,
            4,
            5,
            6,
            7,
            8,
            9,
            10,
            11,
            12,
            13,
            14,
            15,
            16
           ],
           "y": [
            -0.5,
            0.5,
            1,
            1,
            -0.5,
            0.5,
            -0.5,
            -1,
            -1,
            -1,
            0.5,
            1,
            -0.5,
            0.5,
            -0.5,
            -1
           ]
          }
         ],
         "layout": {
          "annotations": [
           {
            "font": {
             "color": "blue"
            },
            "text": "4W3M: SB,FS,AY,CC,SH,EL,GA",
            "x": 16,
            "xref": "x",
            "y": -1,
            "yref": "y"
           },
           {
            "font": {
             "color": "orange",
             "size": 18
            },
            "showarrow": false,
            "text": "FucZH 7-9 Fly High Lausanne",
            "x": 0.5,
            "xref": "paper",
            "y": 1.4,
            "yref": "y"
           },
           {
            "showarrow": false,
            "text": "Completed Passes: 8,Turns: 5",
            "x": 17,
            "xref": "x",
            "y": 1.3,
            "yref": "y"
           }
          ]
         },
         "name": "frame16"
        },
        {
         "data": [
          {
           "line": {
            "shape": "hvh"
           },
           "mode": "lines+markers",
           "type": "scatter",
           "x": [
            1,
            2,
            3,
            4,
            5,
            6,
            7,
            8,
            9,
            10,
            11,
            12,
            13,
            14,
            15,
            16,
            17
           ],
           "y": [
            -0.5,
            0.5,
            1,
            1,
            -0.5,
            0.5,
            -0.5,
            -1,
            -1,
            -1,
            0.5,
            1,
            -0.5,
            0.5,
            -0.5,
            -1,
            0.5
           ]
          }
         ],
         "layout": {
          "annotations": [
           {
            "font": {
             "color": "blue"
            },
            "text": "4W3M: AY,FS,JL,MV,MR,LB,SG",
            "x": 17,
            "xref": "x",
            "y": 0.5,
            "yref": "y"
           },
           {
            "font": {
             "color": "orange",
             "size": 18
            },
            "showarrow": false,
            "text": "FucZH 8-9 Fly High Lausanne",
            "x": 0.5,
            "xref": "paper",
            "y": 1.4,
            "yref": "y"
           },
           {
            "showarrow": false,
            "text": "Completed Passes: 13,Turns: 2",
            "x": 17,
            "xref": "x",
            "y": 1.3,
            "yref": "y"
           },
           {
            "showarrow": false,
            "text": "Assist: SG, Goal:Anonymous",
            "x": 17,
            "xref": "x",
            "y": 1.4,
            "yref": "y"
           }
          ]
         },
         "name": "frame17"
        },
        {
         "data": [
          {
           "line": {
            "shape": "hvh"
           },
           "mode": "lines+markers",
           "type": "scatter",
           "x": [
            1,
            2,
            3,
            4,
            5,
            6,
            7,
            8,
            9,
            10,
            11,
            12,
            13,
            14,
            15,
            16,
            17,
            18
           ],
           "y": [
            -0.5,
            0.5,
            1,
            1,
            -0.5,
            0.5,
            -0.5,
            -1,
            -1,
            -1,
            0.5,
            1,
            -0.5,
            0.5,
            -0.5,
            -1,
            0.5,
            -0.5
           ]
          }
         ],
         "layout": {
          "annotations": [
           {
            "font": {
             "color": "blue"
            },
            "text": "4M3W: SB,MV,MR,CS,EL,JV,SG",
            "x": 18,
            "xref": "x",
            "y": -0.5,
            "yref": "y"
           },
           {
            "font": {
             "color": "orange",
             "size": 18
            },
            "showarrow": false,
            "text": "FucZH 8-10 Fly High Lausanne",
            "x": 0.5,
            "xref": "paper",
            "y": 1.4,
            "yref": "y"
           },
           {
            "showarrow": false,
            "text": "Completed Passes: 0,Turns: 0",
            "x": 17,
            "xref": "x",
            "y": 1.3,
            "yref": "y"
           }
          ]
         },
         "name": "frame18"
        },
        {
         "data": [
          {
           "line": {
            "shape": "hvh"
           },
           "mode": "lines+markers",
           "type": "scatter",
           "x": [
            1,
            2,
            3,
            4,
            5,
            6,
            7,
            8,
            9,
            10,
            11,
            12,
            13,
            14,
            15,
            16,
            17,
            18,
            19
           ],
           "y": [
            -0.5,
            0.5,
            1,
            1,
            -0.5,
            0.5,
            -0.5,
            -1,
            -1,
            -1,
            0.5,
            1,
            -0.5,
            0.5,
            -0.5,
            -1,
            0.5,
            -0.5,
            0.5
           ]
          }
         ],
         "layout": {
          "annotations": [
           {
            "font": {
             "color": "blue"
            },
            "text": "4M3W: FS,AY,CC,SH,LB,JS,GA",
            "x": 19,
            "xref": "x",
            "y": 0.5,
            "yref": "y"
           },
           {
            "font": {
             "color": "orange",
             "size": 18
            },
            "showarrow": false,
            "text": "FucZH 9-10 Fly High Lausanne",
            "x": 0.5,
            "xref": "paper",
            "y": 1.4,
            "yref": "y"
           },
           {
            "showarrow": false,
            "text": "Completed Passes: 11,Turns: 0",
            "x": 17,
            "xref": "x",
            "y": 1.3,
            "yref": "y"
           },
           {
            "showarrow": false,
            "text": "Assist: AY, Goal:CC",
            "x": 17,
            "xref": "x",
            "y": 1.4,
            "yref": "y"
           }
          ]
         },
         "name": "frame19"
        }
       ],
       "layout": {
        "height": 600,
        "hovermode": "closest",
        "images": [
         {
          "sizex": 0.2,
          "sizey": 0.2,
          "source": "https://raw.githubusercontent.com/elastufka/presentations/master/images/ZU_logo1.png",
          "x": 0,
          "xanchor": "right",
          "xref": "paper",
          "y": 1.05,
          "yanchor": "bottom",
          "yref": "paper"
         }
        ],
        "sliders": [
         {
          "active": 0,
          "currentvalue": {
           "font": {
            "size": 14
           },
           "prefix": "Point:",
           "visible": true,
           "xanchor": "right"
          },
          "len": 0.9,
          "pad": {
           "b": 10,
           "t": 10
          },
          "steps": [
           {
            "args": [
             [
              "frame1"
             ],
             {
              "frame": {
               "duration": 300,
               "redraw": false
              },
              "mode": "immediate",
              "transition": {
               "duration": 300
              }
             }
            ],
            "label": "1",
            "method": "animate"
           },
           {
            "args": [
             [
              "frame2"
             ],
             {
              "frame": {
               "duration": 300,
               "redraw": false
              },
              "mode": "immediate",
              "transition": {
               "duration": 300
              }
             }
            ],
            "label": "2",
            "method": "animate"
           },
           {
            "args": [
             [
              "frame3"
             ],
             {
              "frame": {
               "duration": 300,
               "redraw": false
              },
              "mode": "immediate",
              "transition": {
               "duration": 300
              }
             }
            ],
            "label": "3",
            "method": "animate"
           },
           {
            "args": [
             [
              "frame4"
             ],
             {
              "frame": {
               "duration": 300,
               "redraw": false
              },
              "mode": "immediate",
              "transition": {
               "duration": 300
              }
             }
            ],
            "label": "4",
            "method": "animate"
           },
           {
            "args": [
             [
              "frame5"
             ],
             {
              "frame": {
               "duration": 300,
               "redraw": false
              },
              "mode": "immediate",
              "transition": {
               "duration": 300
              }
             }
            ],
            "label": "5",
            "method": "animate"
           },
           {
            "args": [
             [
              "frame6"
             ],
             {
              "frame": {
               "duration": 300,
               "redraw": false
              },
              "mode": "immediate",
              "transition": {
               "duration": 300
              }
             }
            ],
            "label": "6",
            "method": "animate"
           },
           {
            "args": [
             [
              "frame7"
             ],
             {
              "frame": {
               "duration": 300,
               "redraw": false
              },
              "mode": "immediate",
              "transition": {
               "duration": 300
              }
             }
            ],
            "label": "7",
            "method": "animate"
           },
           {
            "args": [
             [
              "frame8"
             ],
             {
              "frame": {
               "duration": 300,
               "redraw": false
              },
              "mode": "immediate",
              "transition": {
               "duration": 300
              }
             }
            ],
            "label": "8",
            "method": "animate"
           },
           {
            "args": [
             [
              "frame9"
             ],
             {
              "frame": {
               "duration": 300,
               "redraw": false
              },
              "mode": "immediate",
              "transition": {
               "duration": 300
              }
             }
            ],
            "label": "9",
            "method": "animate"
           },
           {
            "args": [
             [
              "frame10"
             ],
             {
              "frame": {
               "duration": 300,
               "redraw": false
              },
              "mode": "immediate",
              "transition": {
               "duration": 300
              }
             }
            ],
            "label": "10",
            "method": "animate"
           },
           {
            "args": [
             [
              "frame11"
             ],
             {
              "frame": {
               "duration": 300,
               "redraw": false
              },
              "mode": "immediate",
              "transition": {
               "duration": 300
              }
             }
            ],
            "label": "11",
            "method": "animate"
           },
           {
            "args": [
             [
              "frame12"
             ],
             {
              "frame": {
               "duration": 300,
               "redraw": false
              },
              "mode": "immediate",
              "transition": {
               "duration": 300
              }
             }
            ],
            "label": "12",
            "method": "animate"
           },
           {
            "args": [
             [
              "frame13"
             ],
             {
              "frame": {
               "duration": 300,
               "redraw": false
              },
              "mode": "immediate",
              "transition": {
               "duration": 300
              }
             }
            ],
            "label": "13",
            "method": "animate"
           },
           {
            "args": [
             [
              "frame14"
             ],
             {
              "frame": {
               "duration": 300,
               "redraw": false
              },
              "mode": "immediate",
              "transition": {
               "duration": 300
              }
             }
            ],
            "label": "14",
            "method": "animate"
           },
           {
            "args": [
             [
              "frame15"
             ],
             {
              "frame": {
               "duration": 300,
               "redraw": false
              },
              "mode": "immediate",
              "transition": {
               "duration": 300
              }
             }
            ],
            "label": "15",
            "method": "animate"
           },
           {
            "args": [
             [
              "frame16"
             ],
             {
              "frame": {
               "duration": 300,
               "redraw": false
              },
              "mode": "immediate",
              "transition": {
               "duration": 300
              }
             }
            ],
            "label": "16",
            "method": "animate"
           },
           {
            "args": [
             [
              "frame17"
             ],
             {
              "frame": {
               "duration": 300,
               "redraw": false
              },
              "mode": "immediate",
              "transition": {
               "duration": 300
              }
             }
            ],
            "label": "17",
            "method": "animate"
           },
           {
            "args": [
             [
              "frame18"
             ],
             {
              "frame": {
               "duration": 300,
               "redraw": false
              },
              "mode": "immediate",
              "transition": {
               "duration": 300
              }
             }
            ],
            "label": "18",
            "method": "animate"
           },
           {
            "args": [
             [
              "frame19"
             ],
             {
              "frame": {
               "duration": 300,
               "redraw": false
              },
              "mode": "immediate",
              "transition": {
               "duration": 300
              }
             }
            ],
            "label": "19",
            "method": "animate"
           }
          ],
          "transition": {
           "duration": 300,
           "easing": "cubic-in-out"
          },
          "x": 1,
          "xanchor": "right",
          "y": -0.4,
          "yanchor": "bottom"
         }
        ],
        "template": {
         "layout": {
          "colorway": [
           "#000000",
           "#784F17",
           "#FF0018",
           "#FFA52C",
           "#FFFF41",
           "#008018",
           "#0000F9",
           "#86007D"
          ],
          "plot_bgcolor": "lightgrey"
         }
        },
        "title": {
         "text": "Game Flow"
        },
        "updatemenus": [
         {
          "buttons": [
           {
            "args": [
             null,
             {
              "frame": {
               "duration": 500,
               "redraw": false
              },
              "fromcurrent": true,
              "transition": {
               "duration": 300,
               "easing": "quadratic-in-out"
              }
             }
            ],
            "label": "Play",
            "method": "animate"
           },
           {
            "args": [
             [
              null
             ],
             {
              "frame": {
               "duration": 0,
               "redraw": false
              },
              "mode": "immediate",
              "transition": {
               "duration": 0
              }
             }
            ],
            "label": "Pause",
            "method": "animate"
           }
          ],
          "direction": "left",
          "pad": {
           "r": 10,
           "t": 87
          },
          "showactive": false,
          "type": "buttons",
          "x": 0.1,
          "xanchor": "right",
          "y": 0,
          "yanchor": "top"
         }
        ],
        "width": 850,
        "xaxis": {
         "range": [
          0.5,
          20.5
         ],
         "title": {
          "text": "Points"
         }
        },
        "yaxis": {
         "range": [
          -1.1,
          1.5
         ],
         "ticktext": [
          "Their Break",
          "Their Hold",
          "",
          "Our Hold",
          "Our Break"
         ],
         "tickvals": [
          -1,
          -0.5,
          0,
          0.5,
          1
         ],
         "title": {
          "text": "Point Type"
         }
        }
       }
      },
      "text/html": [
       "<div>                            <div id=\"af1a4a4e-4faa-4c0c-b26f-1f8c9fe9e7ab\" class=\"plotly-graph-div\" style=\"height:600px; width:850px;\"></div>            <script type=\"text/javascript\">                require([\"plotly\"], function(Plotly) {                    window.PLOTLYENV=window.PLOTLYENV || {};                                    if (document.getElementById(\"af1a4a4e-4faa-4c0c-b26f-1f8c9fe9e7ab\")) {                    Plotly.newPlot(                        \"af1a4a4e-4faa-4c0c-b26f-1f8c9fe9e7ab\",                        [{\"mode\":\"lines+markers\",\"type\":\"scatter\",\"x\":[0],\"y\":[0]}],                        {\"height\":600,\"hovermode\":\"closest\",\"images\":[{\"sizex\":0.2,\"sizey\":0.2,\"source\":\"https://raw.githubusercontent.com/elastufka/presentations/master/images/ZU_logo1.png\",\"x\":0,\"xanchor\":\"right\",\"xref\":\"paper\",\"y\":1.05,\"yanchor\":\"bottom\",\"yref\":\"paper\"}],\"sliders\":[{\"active\":0,\"currentvalue\":{\"font\":{\"size\":14},\"prefix\":\"Point:\",\"visible\":true,\"xanchor\":\"right\"},\"len\":0.9,\"pad\":{\"b\":10,\"t\":10},\"steps\":[{\"args\":[[\"frame1\"],{\"frame\":{\"duration\":300,\"redraw\":false},\"mode\":\"immediate\",\"transition\":{\"duration\":300}}],\"label\":\"1\",\"method\":\"animate\"},{\"args\":[[\"frame2\"],{\"frame\":{\"duration\":300,\"redraw\":false},\"mode\":\"immediate\",\"transition\":{\"duration\":300}}],\"label\":\"2\",\"method\":\"animate\"},{\"args\":[[\"frame3\"],{\"frame\":{\"duration\":300,\"redraw\":false},\"mode\":\"immediate\",\"transition\":{\"duration\":300}}],\"label\":\"3\",\"method\":\"animate\"},{\"args\":[[\"frame4\"],{\"frame\":{\"duration\":300,\"redraw\":false},\"mode\":\"immediate\",\"transition\":{\"duration\":300}}],\"label\":\"4\",\"method\":\"animate\"},{\"args\":[[\"frame5\"],{\"frame\":{\"duration\":300,\"redraw\":false},\"mode\":\"immediate\",\"transition\":{\"duration\":300}}],\"label\":\"5\",\"method\":\"animate\"},{\"args\":[[\"frame6\"],{\"frame\":{\"duration\":300,\"redraw\":false},\"mode\":\"immediate\",\"transition\":{\"duration\":300}}],\"label\":\"6\",\"method\":\"animate\"},{\"args\":[[\"frame7\"],{\"frame\":{\"duration\":300,\"redraw\":false},\"mode\":\"immediate\",\"transition\":{\"duration\":300}}],\"label\":\"7\",\"method\":\"animate\"},{\"args\":[[\"frame8\"],{\"frame\":{\"duration\":300,\"redraw\":false},\"mode\":\"immediate\",\"transition\":{\"duration\":300}}],\"label\":\"8\",\"method\":\"animate\"},{\"args\":[[\"frame9\"],{\"frame\":{\"duration\":300,\"redraw\":false},\"mode\":\"immediate\",\"transition\":{\"duration\":300}}],\"label\":\"9\",\"method\":\"animate\"},{\"args\":[[\"frame10\"],{\"frame\":{\"duration\":300,\"redraw\":false},\"mode\":\"immediate\",\"transition\":{\"duration\":300}}],\"label\":\"10\",\"method\":\"animate\"},{\"args\":[[\"frame11\"],{\"frame\":{\"duration\":300,\"redraw\":false},\"mode\":\"immediate\",\"transition\":{\"duration\":300}}],\"label\":\"11\",\"method\":\"animate\"},{\"args\":[[\"frame12\"],{\"frame\":{\"duration\":300,\"redraw\":false},\"mode\":\"immediate\",\"transition\":{\"duration\":300}}],\"label\":\"12\",\"method\":\"animate\"},{\"args\":[[\"frame13\"],{\"frame\":{\"duration\":300,\"redraw\":false},\"mode\":\"immediate\",\"transition\":{\"duration\":300}}],\"label\":\"13\",\"method\":\"animate\"},{\"args\":[[\"frame14\"],{\"frame\":{\"duration\":300,\"redraw\":false},\"mode\":\"immediate\",\"transition\":{\"duration\":300}}],\"label\":\"14\",\"method\":\"animate\"},{\"args\":[[\"frame15\"],{\"frame\":{\"duration\":300,\"redraw\":false},\"mode\":\"immediate\",\"transition\":{\"duration\":300}}],\"label\":\"15\",\"method\":\"animate\"},{\"args\":[[\"frame16\"],{\"frame\":{\"duration\":300,\"redraw\":false},\"mode\":\"immediate\",\"transition\":{\"duration\":300}}],\"label\":\"16\",\"method\":\"animate\"},{\"args\":[[\"frame17\"],{\"frame\":{\"duration\":300,\"redraw\":false},\"mode\":\"immediate\",\"transition\":{\"duration\":300}}],\"label\":\"17\",\"method\":\"animate\"},{\"args\":[[\"frame18\"],{\"frame\":{\"duration\":300,\"redraw\":false},\"mode\":\"immediate\",\"transition\":{\"duration\":300}}],\"label\":\"18\",\"method\":\"animate\"},{\"args\":[[\"frame19\"],{\"frame\":{\"duration\":300,\"redraw\":false},\"mode\":\"immediate\",\"transition\":{\"duration\":300}}],\"label\":\"19\",\"method\":\"animate\"}],\"transition\":{\"duration\":300,\"easing\":\"cubic-in-out\"},\"x\":1,\"xanchor\":\"right\",\"y\":-0.4,\"yanchor\":\"bottom\"}],\"template\":{\"layout\":{\"colorway\":[\"#000000\",\"#784F17\",\"#FF0018\",\"#FFA52C\",\"#FFFF41\",\"#008018\",\"#0000F9\",\"#86007D\"],\"plot_bgcolor\":\"lightgrey\"}},\"title\":{\"text\":\"Game Flow\"},\"updatemenus\":[{\"buttons\":[{\"args\":[null,{\"frame\":{\"duration\":500,\"redraw\":false},\"fromcurrent\":true,\"transition\":{\"duration\":300,\"easing\":\"quadratic-in-out\"}}],\"label\":\"Play\",\"method\":\"animate\"},{\"args\":[[null],{\"frame\":{\"duration\":0,\"redraw\":false},\"mode\":\"immediate\",\"transition\":{\"duration\":0}}],\"label\":\"Pause\",\"method\":\"animate\"}],\"direction\":\"left\",\"pad\":{\"r\":10,\"t\":87},\"showactive\":false,\"type\":\"buttons\",\"x\":0.1,\"xanchor\":\"right\",\"y\":0,\"yanchor\":\"top\"}],\"width\":850,\"xaxis\":{\"range\":[0.5,20.5],\"title\":{\"text\":\"Points\"}},\"yaxis\":{\"range\":[-1.1,1.5],\"ticktext\":[\"Their Break\",\"Their Hold\",\"\",\"Our Hold\",\"Our Break\"],\"tickvals\":[-1,-0.5,0,0.5,1],\"title\":{\"text\":\"Point Type\"}}},                        {\"responsive\": true}                    ).then(function(){\n",
       "                            Plotly.addFrames('af1a4a4e-4faa-4c0c-b26f-1f8c9fe9e7ab', [{\"data\":[{\"line\":{\"shape\":\"hv\"},\"mode\":\"lines+markers\",\"type\":\"scatter\",\"x\":[0],\"y\":[0]}],\"name\":\"frame0\"},{\"data\":[{\"line\":{\"shape\":\"hvh\"},\"mode\":\"lines+markers\",\"type\":\"scatter\",\"x\":[1],\"y\":[-0.5]}],\"layout\":{\"annotations\":[{\"font\":{\"color\":\"blue\"},\"text\":\"4W3M: JL,MV,MR,CC,LB,JS,SG\",\"x\":1,\"xref\":\"x\",\"y\":-0.5,\"yref\":\"y\"},{\"font\":{\"color\":\"orange\",\"size\":18},\"showarrow\":false,\"text\":\"FucZH 0-1 Fly High Lausanne\",\"x\":0.5,\"xref\":\"paper\",\"y\":1.4,\"yref\":\"y\"},{\"showarrow\":false,\"text\":\"Completed Passes: 0,Turns: 2\",\"x\":17,\"xref\":\"x\",\"y\":1.3,\"yref\":\"y\"}]},\"name\":\"frame1\"},{\"data\":[{\"line\":{\"shape\":\"hvh\"},\"mode\":\"lines+markers\",\"type\":\"scatter\",\"x\":[1,2],\"y\":[-0.5,0.5]}],\"layout\":{\"annotations\":[{\"font\":{\"color\":\"blue\"},\"text\":\"4M3W: AY,SB,FS,SH,EL,JV,GA\",\"x\":2,\"xref\":\"x\",\"y\":0.5,\"yref\":\"y\"},{\"font\":{\"color\":\"orange\",\"size\":18},\"showarrow\":false,\"text\":\"FucZH 1-1 Fly High Lausanne\",\"x\":0.5,\"xref\":\"paper\",\"y\":1.4,\"yref\":\"y\"},{\"showarrow\":false,\"text\":\"Completed Passes: 22,Turns: 0\",\"x\":17,\"xref\":\"x\",\"y\":1.3,\"yref\":\"y\"},{\"showarrow\":false,\"text\":\"Assist: SH, Goal:Anonymous\",\"x\":17,\"xref\":\"x\",\"y\":1.4,\"yref\":\"y\"}]},\"name\":\"frame2\"},{\"data\":[{\"line\":{\"shape\":\"hvh\"},\"mode\":\"lines+markers\",\"type\":\"scatter\",\"x\":[1,2,3],\"y\":[-0.5,0.5,1.0]}],\"layout\":{\"annotations\":[{\"font\":{\"color\":\"blue\"},\"text\":\"4M3W: JL,MV,MR,CS,CC,JS,SG\",\"x\":3,\"xref\":\"x\",\"y\":1.0,\"yref\":\"y\"},{\"font\":{\"color\":\"orange\",\"size\":18},\"showarrow\":false,\"text\":\"FucZH 2-1 Fly High Lausanne\",\"x\":0.5,\"xref\":\"paper\",\"y\":1.4,\"yref\":\"y\"},{\"showarrow\":false,\"text\":\"Completed Passes: 0,Turns: 3\",\"x\":17,\"xref\":\"x\",\"y\":1.3,\"yref\":\"y\"},{\"showarrow\":false,\"text\":\"Assist: None, Goal:MR\",\"x\":17,\"xref\":\"x\",\"y\":1.4,\"yref\":\"y\"}]},\"name\":\"frame3\"},{\"data\":[{\"line\":{\"shape\":\"hvh\"},\"mode\":\"lines+markers\",\"type\":\"scatter\",\"x\":[1,2,3,4],\"y\":[-0.5,0.5,1.0,1.0]}],\"layout\":{\"annotations\":[{\"font\":{\"color\":\"blue\"},\"text\":\"4W3M: JL,MV,CS,LB,EL,JV,SG\",\"x\":4,\"xref\":\"x\",\"y\":1.0,\"yref\":\"y\"},{\"font\":{\"color\":\"orange\",\"size\":18},\"showarrow\":false,\"text\":\"FucZH 3-1 Fly High Lausanne\",\"x\":0.5,\"xref\":\"paper\",\"y\":1.4,\"yref\":\"y\"},{\"showarrow\":false,\"text\":\"Completed Passes: 5,Turns: 1\",\"x\":17,\"xref\":\"x\",\"y\":1.3,\"yref\":\"y\"},{\"showarrow\":false,\"text\":\"Assist: CS, Goal:JV\",\"x\":17,\"xref\":\"x\",\"y\":1.4,\"yref\":\"y\"}]},\"name\":\"frame4\"},{\"data\":[{\"line\":{\"shape\":\"hvh\"},\"mode\":\"lines+markers\",\"type\":\"scatter\",\"x\":[1,2,3,4,5],\"y\":[-0.5,0.5,1.0,1.0,-0.5]}],\"layout\":{\"annotations\":[{\"font\":{\"color\":\"blue\"},\"text\":\"4W3M: SB,MV,MR,CC,EL,JS,SG\",\"x\":5,\"xref\":\"x\",\"y\":-0.5,\"yref\":\"y\"},{\"font\":{\"color\":\"orange\",\"size\":18},\"showarrow\":false,\"text\":\"FucZH 3-2 Fly High Lausanne\",\"x\":0.5,\"xref\":\"paper\",\"y\":1.4,\"yref\":\"y\"},{\"showarrow\":false,\"text\":\"Completed Passes: 0,Turns: 0\",\"x\":17,\"xref\":\"x\",\"y\":1.3,\"yref\":\"y\"}]},\"name\":\"frame5\"},{\"data\":[{\"line\":{\"shape\":\"hvh\"},\"mode\":\"lines+markers\",\"type\":\"scatter\",\"x\":[1,2,3,4,5,6],\"y\":[-0.5,0.5,1.0,1.0,-0.5,0.5]}],\"layout\":{\"annotations\":[{\"font\":{\"color\":\"blue\"},\"text\":\"4M3W: FS,JL,AY,SB,SH,JV,GA\",\"x\":6,\"xref\":\"x\",\"y\":0.5,\"yref\":\"y\"},{\"font\":{\"color\":\"orange\",\"size\":18},\"showarrow\":false,\"text\":\"FucZH 4-2 Fly High Lausanne\",\"x\":0.5,\"xref\":\"paper\",\"y\":1.4,\"yref\":\"y\"},{\"showarrow\":false,\"text\":\"Completed Passes: 19,Turns: 2\",\"x\":17,\"xref\":\"x\",\"y\":1.3,\"yref\":\"y\"},{\"showarrow\":false,\"text\":\"Assist: Anonymous, Goal:JL\",\"x\":17,\"xref\":\"x\",\"y\":1.4,\"yref\":\"y\"}]},\"name\":\"frame6\"},{\"data\":[{\"line\":{\"shape\":\"hvh\"},\"mode\":\"lines+markers\",\"type\":\"scatter\",\"x\":[1,2,3,4,5,6,7],\"y\":[-0.5,0.5,1.0,1.0,-0.5,0.5,-0.5]}],\"layout\":{\"annotations\":[{\"font\":{\"color\":\"blue\"},\"text\":\"4M3W: MR,CC,CS,LB,EL,JS,SG\",\"x\":7,\"xref\":\"x\",\"y\":-0.5,\"yref\":\"y\"},{\"font\":{\"color\":\"orange\",\"size\":18},\"showarrow\":false,\"text\":\"FucZH 4-3 Fly High Lausanne\",\"x\":0.5,\"xref\":\"paper\",\"y\":1.4,\"yref\":\"y\"},{\"showarrow\":false,\"text\":\"Completed Passes: 0,Turns: 2\",\"x\":17,\"xref\":\"x\",\"y\":1.3,\"yref\":\"y\"}]},\"name\":\"frame7\"},{\"data\":[{\"line\":{\"shape\":\"hvh\"},\"mode\":\"lines+markers\",\"type\":\"scatter\",\"x\":[1,2,3,4,5,6,7,8],\"y\":[-0.5,0.5,1.0,1.0,-0.5,0.5,-0.5,-1.0]}],\"layout\":{\"annotations\":[{\"font\":{\"color\":\"blue\"},\"text\":\"4W3M: AY,FS,JL,SB,MV,SH,GA\",\"x\":8,\"xref\":\"x\",\"y\":-1.0,\"yref\":\"y\"},{\"font\":{\"color\":\"orange\",\"size\":18},\"showarrow\":false,\"text\":\"FucZH 4-4 Fly High Lausanne\",\"x\":0.5,\"xref\":\"paper\",\"y\":1.4,\"yref\":\"y\"},{\"showarrow\":false,\"text\":\"Completed Passes: 6,Turns: 3\",\"x\":17,\"xref\":\"x\",\"y\":1.3,\"yref\":\"y\"}]},\"name\":\"frame8\"},{\"data\":[{\"line\":{\"shape\":\"hvh\"},\"mode\":\"lines+markers\",\"type\":\"scatter\",\"x\":[1,2,3,4,5,6,7,8,9],\"y\":[-0.5,0.5,1.0,1.0,-0.5,0.5,-0.5,-1.0,-1.0]}],\"layout\":{\"annotations\":[{\"font\":{\"color\":\"blue\"},\"text\":\"4W3M: SB,AY,FS,CC,SH,EL,JV\",\"x\":9,\"xref\":\"x\",\"y\":-1.0,\"yref\":\"y\"},{\"font\":{\"color\":\"orange\",\"size\":18},\"showarrow\":false,\"text\":\"FucZH 4-5 Fly High Lausanne\",\"x\":0.5,\"xref\":\"paper\",\"y\":1.4,\"yref\":\"y\"},{\"showarrow\":false,\"text\":\"Completed Passes: 4,Turns: 3\",\"x\":17,\"xref\":\"x\",\"y\":1.3,\"yref\":\"y\"}]},\"name\":\"frame9\"},{\"data\":[{\"line\":{\"shape\":\"hvh\"},\"mode\":\"lines+markers\",\"type\":\"scatter\",\"x\":[1,2,3,4,5,6,7,8,9,10],\"y\":[-0.5,0.5,1.0,1.0,-0.5,0.5,-0.5,-1.0,-1.0,-1.0]}],\"layout\":{\"annotations\":[{\"font\":{\"color\":\"blue\"},\"text\":\"4M3W: JL,MV,MR,SH,LB,GA,SG\",\"x\":10,\"xref\":\"x\",\"y\":-1.0,\"yref\":\"y\"},{\"font\":{\"color\":\"orange\",\"size\":18},\"showarrow\":false,\"text\":\"FucZH 4-6 Fly High Lausanne\",\"x\":0.5,\"xref\":\"paper\",\"y\":1.4,\"yref\":\"y\"},{\"showarrow\":false,\"text\":\"Completed Passes: 1,Turns: 1\",\"x\":17,\"xref\":\"x\",\"y\":1.3,\"yref\":\"y\"}]},\"name\":\"frame10\"},{\"data\":[{\"line\":{\"shape\":\"hvh\"},\"mode\":\"lines+markers\",\"type\":\"scatter\",\"x\":[1,2,3,4,5,6,7,8,9,10,11],\"y\":[-0.5,0.5,1.0,1.0,-0.5,0.5,-0.5,-1.0,-1.0,-1.0,0.5]}],\"layout\":{\"annotations\":[{\"font\":{\"color\":\"blue\"},\"text\":\"4M3W: FS,AY,CC,SH,EL,JV,GA\",\"x\":11,\"xref\":\"x\",\"y\":0.5,\"yref\":\"y\"},{\"font\":{\"color\":\"orange\",\"size\":18},\"showarrow\":false,\"text\":\"FucZH 5-6 Fly High Lausanne\",\"x\":0.5,\"xref\":\"paper\",\"y\":1.4,\"yref\":\"y\"},{\"showarrow\":false,\"text\":\"Completed Passes: 16,Turns: 0\",\"x\":17,\"xref\":\"x\",\"y\":1.3,\"yref\":\"y\"},{\"showarrow\":false,\"text\":\"Assist: SH, Goal:Anonymous\",\"x\":17,\"xref\":\"x\",\"y\":1.4,\"yref\":\"y\"}]},\"name\":\"frame11\"},{\"data\":[{\"line\":{\"shape\":\"hvh\"},\"mode\":\"lines+markers\",\"type\":\"scatter\",\"x\":[1,2,3,4,5,6,7,8,9,10,11,12],\"y\":[-0.5,0.5,1.0,1.0,-0.5,0.5,-0.5,-1.0,-1.0,-1.0,0.5,1.0]}],\"layout\":{\"annotations\":[{\"font\":{\"color\":\"blue\"},\"text\":\"4W3M: JL,SB,MV,MR,LB,JS,SG\",\"x\":12,\"xref\":\"x\",\"y\":1.0,\"yref\":\"y\"},{\"font\":{\"color\":\"orange\",\"size\":18},\"showarrow\":false,\"text\":\"FucZH 6-6 Fly High Lausanne\",\"x\":0.5,\"xref\":\"paper\",\"y\":1.4,\"yref\":\"y\"},{\"showarrow\":false,\"text\":\"Completed Passes: 0,Turns: 1\",\"x\":17,\"xref\":\"x\",\"y\":1.3,\"yref\":\"y\"},{\"showarrow\":false,\"text\":\"Assist: None, Goal:MR\",\"x\":17,\"xref\":\"x\",\"y\":1.4,\"yref\":\"y\"}]},\"name\":\"frame12\"},{\"data\":[{\"line\":{\"shape\":\"hvh\"},\"mode\":\"lines+markers\",\"type\":\"scatter\",\"x\":[1,2,3,4,5,6,7,8,9,10,11,12,13],\"y\":[-0.5,0.5,1.0,1.0,-0.5,0.5,-0.5,-1.0,-1.0,-1.0,0.5,1.0,-0.5]}],\"layout\":{\"annotations\":[{\"font\":{\"color\":\"blue\"},\"text\":\"4W3M: JL,MV,CS,LB,EL,JV,SG\",\"x\":13,\"xref\":\"x\",\"y\":-0.5,\"yref\":\"y\"},{\"font\":{\"color\":\"orange\",\"size\":18},\"showarrow\":false,\"text\":\"FucZH 6-7 Fly High Lausanne\",\"x\":0.5,\"xref\":\"paper\",\"y\":1.4,\"yref\":\"y\"},{\"showarrow\":false,\"text\":\"Completed Passes: 0,Turns: 0\",\"x\":17,\"xref\":\"x\",\"y\":1.3,\"yref\":\"y\"}]},\"name\":\"frame13\"},{\"data\":[{\"line\":{\"shape\":\"hvh\"},\"mode\":\"lines+markers\",\"type\":\"scatter\",\"x\":[1,2,3,4,5,6,7,8,9,10,11,12,13,14],\"y\":[-0.5,0.5,1.0,1.0,-0.5,0.5,-0.5,-1.0,-1.0,-1.0,0.5,1.0,-0.5,0.5]}],\"layout\":{\"annotations\":[{\"font\":{\"color\":\"blue\"},\"text\":\"4M3W: AY,SB,FS,CC,SH,JS,GA\",\"x\":14,\"xref\":\"x\",\"y\":0.5,\"yref\":\"y\"},{\"font\":{\"color\":\"orange\",\"size\":18},\"showarrow\":false,\"text\":\"FucZH 7-7 Fly High Lausanne\",\"x\":0.5,\"xref\":\"paper\",\"y\":1.4,\"yref\":\"y\"},{\"showarrow\":false,\"text\":\"Completed Passes: 9,Turns: 0\",\"x\":17,\"xref\":\"x\",\"y\":1.3,\"yref\":\"y\"},{\"showarrow\":false,\"text\":\"Assist: GA, Goal:SH\",\"x\":17,\"xref\":\"x\",\"y\":1.4,\"yref\":\"y\"}]},\"name\":\"frame14\"},{\"data\":[{\"line\":{\"shape\":\"hvh\"},\"mode\":\"lines+markers\",\"type\":\"scatter\",\"x\":[1,2,3,4,5,6,7,8,9,10,11,12,13,14,15],\"y\":[-0.5,0.5,1.0,1.0,-0.5,0.5,-0.5,-1.0,-1.0,-1.0,0.5,1.0,-0.5,0.5,-0.5]}],\"layout\":{\"annotations\":[{\"font\":{\"color\":\"blue\"},\"text\":\"4M3W: JL,MV,MR,CS,LB,JV,SG\",\"x\":15,\"xref\":\"x\",\"y\":-0.5,\"yref\":\"y\"},{\"font\":{\"color\":\"orange\",\"size\":18},\"showarrow\":false,\"text\":\"FucZH 7-8 Fly High Lausanne\",\"x\":0.5,\"xref\":\"paper\",\"y\":1.4,\"yref\":\"y\"},{\"showarrow\":false,\"text\":\"Completed Passes: 3,Turns: 2\",\"x\":17,\"xref\":\"x\",\"y\":1.3,\"yref\":\"y\"}]},\"name\":\"frame15\"},{\"data\":[{\"line\":{\"shape\":\"hvh\"},\"mode\":\"lines+markers\",\"type\":\"scatter\",\"x\":[1,2,3,4,5,6,7,8,9,10,11,12,13,14,15,16],\"y\":[-0.5,0.5,1.0,1.0,-0.5,0.5,-0.5,-1.0,-1.0,-1.0,0.5,1.0,-0.5,0.5,-0.5,-1.0]}],\"layout\":{\"annotations\":[{\"font\":{\"color\":\"blue\"},\"text\":\"4W3M: SB,FS,AY,CC,SH,EL,GA\",\"x\":16,\"xref\":\"x\",\"y\":-1.0,\"yref\":\"y\"},{\"font\":{\"color\":\"orange\",\"size\":18},\"showarrow\":false,\"text\":\"FucZH 7-9 Fly High Lausanne\",\"x\":0.5,\"xref\":\"paper\",\"y\":1.4,\"yref\":\"y\"},{\"showarrow\":false,\"text\":\"Completed Passes: 8,Turns: 5\",\"x\":17,\"xref\":\"x\",\"y\":1.3,\"yref\":\"y\"}]},\"name\":\"frame16\"},{\"data\":[{\"line\":{\"shape\":\"hvh\"},\"mode\":\"lines+markers\",\"type\":\"scatter\",\"x\":[1,2,3,4,5,6,7,8,9,10,11,12,13,14,15,16,17],\"y\":[-0.5,0.5,1.0,1.0,-0.5,0.5,-0.5,-1.0,-1.0,-1.0,0.5,1.0,-0.5,0.5,-0.5,-1.0,0.5]}],\"layout\":{\"annotations\":[{\"font\":{\"color\":\"blue\"},\"text\":\"4W3M: AY,FS,JL,MV,MR,LB,SG\",\"x\":17,\"xref\":\"x\",\"y\":0.5,\"yref\":\"y\"},{\"font\":{\"color\":\"orange\",\"size\":18},\"showarrow\":false,\"text\":\"FucZH 8-9 Fly High Lausanne\",\"x\":0.5,\"xref\":\"paper\",\"y\":1.4,\"yref\":\"y\"},{\"showarrow\":false,\"text\":\"Completed Passes: 13,Turns: 2\",\"x\":17,\"xref\":\"x\",\"y\":1.3,\"yref\":\"y\"},{\"showarrow\":false,\"text\":\"Assist: SG, Goal:Anonymous\",\"x\":17,\"xref\":\"x\",\"y\":1.4,\"yref\":\"y\"}]},\"name\":\"frame17\"},{\"data\":[{\"line\":{\"shape\":\"hvh\"},\"mode\":\"lines+markers\",\"type\":\"scatter\",\"x\":[1,2,3,4,5,6,7,8,9,10,11,12,13,14,15,16,17,18],\"y\":[-0.5,0.5,1.0,1.0,-0.5,0.5,-0.5,-1.0,-1.0,-1.0,0.5,1.0,-0.5,0.5,-0.5,-1.0,0.5,-0.5]}],\"layout\":{\"annotations\":[{\"font\":{\"color\":\"blue\"},\"text\":\"4M3W: SB,MV,MR,CS,EL,JV,SG\",\"x\":18,\"xref\":\"x\",\"y\":-0.5,\"yref\":\"y\"},{\"font\":{\"color\":\"orange\",\"size\":18},\"showarrow\":false,\"text\":\"FucZH 8-10 Fly High Lausanne\",\"x\":0.5,\"xref\":\"paper\",\"y\":1.4,\"yref\":\"y\"},{\"showarrow\":false,\"text\":\"Completed Passes: 0,Turns: 0\",\"x\":17,\"xref\":\"x\",\"y\":1.3,\"yref\":\"y\"}]},\"name\":\"frame18\"},{\"data\":[{\"line\":{\"shape\":\"hvh\"},\"mode\":\"lines+markers\",\"type\":\"scatter\",\"x\":[1,2,3,4,5,6,7,8,9,10,11,12,13,14,15,16,17,18,19],\"y\":[-0.5,0.5,1.0,1.0,-0.5,0.5,-0.5,-1.0,-1.0,-1.0,0.5,1.0,-0.5,0.5,-0.5,-1.0,0.5,-0.5,0.5]}],\"layout\":{\"annotations\":[{\"font\":{\"color\":\"blue\"},\"text\":\"4M3W: FS,AY,CC,SH,LB,JS,GA\",\"x\":19,\"xref\":\"x\",\"y\":0.5,\"yref\":\"y\"},{\"font\":{\"color\":\"orange\",\"size\":18},\"showarrow\":false,\"text\":\"FucZH 9-10 Fly High Lausanne\",\"x\":0.5,\"xref\":\"paper\",\"y\":1.4,\"yref\":\"y\"},{\"showarrow\":false,\"text\":\"Completed Passes: 11,Turns: 0\",\"x\":17,\"xref\":\"x\",\"y\":1.3,\"yref\":\"y\"},{\"showarrow\":false,\"text\":\"Assist: AY, Goal:CC\",\"x\":17,\"xref\":\"x\",\"y\":1.4,\"yref\":\"y\"}]},\"name\":\"frame19\"}]);\n",
       "                        }).then(function(){\n",
       "                            \n",
       "var gd = document.getElementById('af1a4a4e-4faa-4c0c-b26f-1f8c9fe9e7ab');\n",
       "var x = new MutationObserver(function (mutations, observer) {{\n",
       "        var display = window.getComputedStyle(gd).display;\n",
       "        if (!display || display === 'none') {{\n",
       "            console.log([gd, 'removed!']);\n",
       "            Plotly.purge(gd);\n",
       "            observer.disconnect();\n",
       "        }}\n",
       "}});\n",
       "\n",
       "// Listen for the removal of the full notebook cells\n",
       "var notebookContainer = gd.closest('#notebook-container');\n",
       "if (notebookContainer) {{\n",
       "    x.observe(notebookContainer, {childList: true});\n",
       "}}\n",
       "\n",
       "// Listen for the clearing of the current output cell\n",
       "var outputEl = gd.closest('.output');\n",
       "if (outputEl) {{\n",
       "    x.observe(outputEl, {childList: true});\n",
       "}}\n",
       "\n",
       "                        })                };                });            </script>        </div>"
      ]
     },
     "metadata": {},
     "output_type": "display_data"
    }
   ],
   "source": [
    "fig=game_flow_fig(df,'Fly High Lausanne',slidew,slideh)\n",
    "fig.show()"
   ]
  },
  {
   "cell_type": "code",
   "execution_count": 664,
   "metadata": {
    "slideshow": {
     "slide_type": "fragment"
    },
    "tags": [
     "to_remove"
    ]
   },
   "outputs": [
    {
     "data": {
      "application/vnd.plotly.v1+json": {
       "config": {
        "plotlyServerURL": "https://plotly.com"
       },
       "data": [
        {
         "mode": "lines+markers",
         "type": "scatter",
         "x": [
          0
         ],
         "y": [
          0
         ]
        }
       ],
       "frames": [
        {
         "data": [
          {
           "line": {
            "shape": "hv"
           },
           "mode": "lines+markers",
           "type": "scatter",
           "x": [
            0
           ],
           "y": [
            0
           ]
          }
         ],
         "name": "frame0"
        },
        {
         "data": [
          {
           "line": {
            "shape": "hvh"
           },
           "mode": "lines+markers",
           "type": "scatter",
           "x": [
            1
           ],
           "y": [
            1
           ]
          }
         ],
         "layout": {
          "annotations": [
           {
            "font": {
             "color": "blue"
            },
            "text": "4M3W: JL,MV,MR,LB,JV,JS,SG",
            "x": 1,
            "xref": "x",
            "y": 1,
            "yref": "y"
           },
           {
            "font": {
             "color": "orange",
             "size": 18
            },
            "showarrow": false,
            "text": "FucZH 1-0 Wombats Willisau",
            "x": 0.5,
            "xref": "paper",
            "y": 1.4,
            "yref": "y"
           },
           {
            "showarrow": false,
            "text": "Completed Passes: 9,Turns: 5",
            "x": 14,
            "xref": "x",
            "y": 1.3,
            "yref": "y"
           },
           {
            "showarrow": false,
            "text": "Assist: MR, Goal:JS",
            "x": 14,
            "xref": "x",
            "y": 1.4,
            "yref": "y"
           }
          ]
         },
         "name": "frame1"
        },
        {
         "data": [
          {
           "line": {
            "shape": "hvh"
           },
           "mode": "lines+markers",
           "type": "scatter",
           "x": [
            1,
            2
           ],
           "y": [
            1,
            1
           ]
          }
         ],
         "layout": {
          "annotations": [
           {
            "font": {
             "color": "blue"
            },
            "text": "4W3M: FS,MV,CC,LB,EL,JV,SG",
            "x": 2,
            "xref": "x",
            "y": 1,
            "yref": "y"
           },
           {
            "font": {
             "color": "orange",
             "size": 18
            },
            "showarrow": false,
            "text": "FucZH 2-0 Wombats Willisau",
            "x": 0.5,
            "xref": "paper",
            "y": 1.4,
            "yref": "y"
           },
           {
            "showarrow": false,
            "text": "Completed Passes: 4,Turns: 1",
            "x": 14,
            "xref": "x",
            "y": 1.3,
            "yref": "y"
           },
           {
            "showarrow": false,
            "text": "Assist: SG, Goal:JV",
            "x": 14,
            "xref": "x",
            "y": 1.4,
            "yref": "y"
           }
          ]
         },
         "name": "frame2"
        },
        {
         "data": [
          {
           "line": {
            "shape": "hvh"
           },
           "mode": "lines+markers",
           "type": "scatter",
           "x": [
            1,
            2,
            3
           ],
           "y": [
            1,
            1,
            1
           ]
          }
         ],
         "layout": {
          "annotations": [
           {
            "font": {
             "color": "blue"
            },
            "text": "4W3M: JL,SB,MV,MR,CS,SH,LB",
            "x": 3,
            "xref": "x",
            "y": 1,
            "yref": "y"
           },
           {
            "font": {
             "color": "orange",
             "size": 18
            },
            "showarrow": false,
            "text": "FucZH 3-0 Wombats Willisau",
            "x": 0.5,
            "xref": "paper",
            "y": 1.4,
            "yref": "y"
           },
           {
            "showarrow": false,
            "text": "Completed Passes: 0,Turns: 1",
            "x": 14,
            "xref": "x",
            "y": 1.3,
            "yref": "y"
           },
           {
            "showarrow": false,
            "text": "Assist: None, Goal:MR",
            "x": 14,
            "xref": "x",
            "y": 1.4,
            "yref": "y"
           }
          ]
         },
         "name": "frame3"
        },
        {
         "data": [
          {
           "line": {
            "shape": "hvh"
           },
           "mode": "lines+markers",
           "type": "scatter",
           "x": [
            1,
            2,
            3,
            4
           ],
           "y": [
            1,
            1,
            1,
            -0.5
           ]
          }
         ],
         "layout": {
          "annotations": [
           {
            "font": {
             "color": "blue"
            },
            "text": "4M3W: SB,JL,CC,JV,JS,SG,GA",
            "x": 4,
            "xref": "x",
            "y": -0.5,
            "yref": "y"
           },
           {
            "font": {
             "color": "orange",
             "size": 18
            },
            "showarrow": false,
            "text": "FucZH 3-1 Wombats Willisau",
            "x": 0.5,
            "xref": "paper",
            "y": 1.4,
            "yref": "y"
           },
           {
            "showarrow": false,
            "text": "Completed Passes: 3,Turns: 4",
            "x": 14,
            "xref": "x",
            "y": 1.3,
            "yref": "y"
           }
          ]
         },
         "name": "frame4"
        },
        {
         "data": [
          {
           "line": {
            "shape": "hvh"
           },
           "mode": "lines+markers",
           "type": "scatter",
           "x": [
            1,
            2,
            3,
            4,
            5
           ],
           "y": [
            1,
            1,
            1,
            -0.5,
            0.5
           ]
          }
         ],
         "layout": {
          "annotations": [
           {
            "font": {
             "color": "blue"
            },
            "text": "4M3W: AY,FS,MV,CS,SH,EL,GA",
            "x": 5,
            "xref": "x",
            "y": 0.5,
            "yref": "y"
           },
           {
            "font": {
             "color": "orange",
             "size": 18
            },
            "showarrow": false,
            "text": "FucZH 4-1 Wombats Willisau",
            "x": 0.5,
            "xref": "paper",
            "y": 1.4,
            "yref": "y"
           },
           {
            "showarrow": false,
            "text": "Completed Passes: 12,Turns: 2",
            "x": 14,
            "xref": "x",
            "y": 1.3,
            "yref": "y"
           },
           {
            "showarrow": false,
            "text": "Assist: AY, Goal:FS",
            "x": 14,
            "xref": "x",
            "y": 1.4,
            "yref": "y"
           }
          ]
         },
         "name": "frame5"
        },
        {
         "data": [
          {
           "line": {
            "shape": "hvh"
           },
           "mode": "lines+markers",
           "type": "scatter",
           "x": [
            1,
            2,
            3,
            4,
            5,
            6
           ],
           "y": [
            1,
            1,
            1,
            -0.5,
            0.5,
            -0.5
           ]
          }
         ],
         "layout": {
          "annotations": [
           {
            "font": {
             "color": "blue"
            },
            "text": "4W3M: SB,JL,MR,CC,EL,JV,SG",
            "x": 6,
            "xref": "x",
            "y": -0.5,
            "yref": "y"
           },
           {
            "font": {
             "color": "orange",
             "size": 18
            },
            "showarrow": false,
            "text": "FucZH 4-2 Wombats Willisau",
            "x": 0.5,
            "xref": "paper",
            "y": 1.4,
            "yref": "y"
           },
           {
            "showarrow": false,
            "text": "Completed Passes: 0,Turns: 0",
            "x": 14,
            "xref": "x",
            "y": 1.3,
            "yref": "y"
           }
          ]
         },
         "name": "frame6"
        },
        {
         "data": [
          {
           "line": {
            "shape": "hvh"
           },
           "mode": "lines+markers",
           "type": "scatter",
           "x": [
            1,
            2,
            3,
            4,
            5,
            6,
            7
           ],
           "y": [
            1,
            1,
            1,
            -0.5,
            0.5,
            -0.5,
            0.5
           ]
          }
         ],
         "layout": {
          "annotations": [
           {
            "font": {
             "color": "blue"
            },
            "text": "4W3M: AY,SB,MV,CS,SH,LB,GA",
            "x": 7,
            "xref": "x",
            "y": 0.5,
            "yref": "y"
           },
           {
            "font": {
             "color": "orange",
             "size": 18
            },
            "showarrow": false,
            "text": "FucZH 5-2 Wombats Willisau",
            "x": 0.5,
            "xref": "paper",
            "y": 1.4,
            "yref": "y"
           },
           {
            "showarrow": false,
            "text": "Completed Passes: 11,Turns: 0",
            "x": 14,
            "xref": "x",
            "y": 1.3,
            "yref": "y"
           },
           {
            "showarrow": false,
            "text": "Assist: MV, Goal:Anonymous",
            "x": 14,
            "xref": "x",
            "y": 1.4,
            "yref": "y"
           }
          ]
         },
         "name": "frame7"
        },
        {
         "data": [
          {
           "line": {
            "shape": "hvh"
           },
           "mode": "lines+markers",
           "type": "scatter",
           "x": [
            1,
            2,
            3,
            4,
            5,
            6,
            7,
            8
           ],
           "y": [
            1,
            1,
            1,
            -0.5,
            0.5,
            -0.5,
            0.5,
            -0.5
           ]
          }
         ],
         "layout": {
          "annotations": [
           {
            "font": {
             "color": "blue"
            },
            "text": "4M3W: JL,MR,CC,EL,JV,JS,SG",
            "x": 8,
            "xref": "x",
            "y": -0.5,
            "yref": "y"
           },
           {
            "font": {
             "color": "orange",
             "size": 18
            },
            "showarrow": false,
            "text": "FucZH 5-3 Wombats Willisau",
            "x": 0.5,
            "xref": "paper",
            "y": 1.4,
            "yref": "y"
           },
           {
            "showarrow": false,
            "text": "Completed Passes: 0,Turns: 0",
            "x": 14,
            "xref": "x",
            "y": 1.3,
            "yref": "y"
           }
          ]
         },
         "name": "frame8"
        },
        {
         "data": [
          {
           "line": {
            "shape": "hvh"
           },
           "mode": "lines+markers",
           "type": "scatter",
           "x": [
            1,
            2,
            3,
            4,
            5,
            6,
            7,
            8,
            9
           ],
           "y": [
            1,
            1,
            1,
            -0.5,
            0.5,
            -0.5,
            0.5,
            -0.5,
            0.5
           ]
          }
         ],
         "layout": {
          "annotations": [
           {
            "font": {
             "color": "blue"
            },
            "text": "4M3W: AY,SB,FS,MV,CS,SH,GA",
            "x": 9,
            "xref": "x",
            "y": 0.5,
            "yref": "y"
           },
           {
            "font": {
             "color": "orange",
             "size": 18
            },
            "showarrow": false,
            "text": "FucZH 6-3 Wombats Willisau",
            "x": 0.5,
            "xref": "paper",
            "y": 1.4,
            "yref": "y"
           },
           {
            "showarrow": false,
            "text": "Completed Passes: 14,Turns: 0",
            "x": 14,
            "xref": "x",
            "y": 1.3,
            "yref": "y"
           },
           {
            "showarrow": false,
            "text": "Assist: FS, Goal:SH",
            "x": 14,
            "xref": "x",
            "y": 1.4,
            "yref": "y"
           }
          ]
         },
         "name": "frame9"
        },
        {
         "data": [
          {
           "line": {
            "shape": "hvh"
           },
           "mode": "lines+markers",
           "type": "scatter",
           "x": [
            1,
            2,
            3,
            4,
            5,
            6,
            7,
            8,
            9,
            10
           ],
           "y": [
            1,
            1,
            1,
            -0.5,
            0.5,
            -0.5,
            0.5,
            -0.5,
            0.5,
            -0.5
           ]
          }
         ],
         "layout": {
          "annotations": [
           {
            "font": {
             "color": "blue"
            },
            "text": "4W3M: JL,MR,CC,LB,EL,JV,SG",
            "x": 10,
            "xref": "x",
            "y": -0.5,
            "yref": "y"
           },
           {
            "font": {
             "color": "orange",
             "size": 18
            },
            "showarrow": false,
            "text": "FucZH 6-4 Wombats Willisau",
            "x": 0.5,
            "xref": "paper",
            "y": 1.4,
            "yref": "y"
           },
           {
            "showarrow": false,
            "text": "Completed Passes: 0,Turns: 0",
            "x": 14,
            "xref": "x",
            "y": 1.3,
            "yref": "y"
           }
          ]
         },
         "name": "frame10"
        },
        {
         "data": [
          {
           "line": {
            "shape": "hvh"
           },
           "mode": "lines+markers",
           "type": "scatter",
           "x": [
            1,
            2,
            3,
            4,
            5,
            6,
            7,
            8,
            9,
            10,
            11
           ],
           "y": [
            1,
            1,
            1,
            -0.5,
            0.5,
            -0.5,
            0.5,
            -0.5,
            0.5,
            -0.5,
            -1
           ]
          }
         ],
         "layout": {
          "annotations": [
           {
            "font": {
             "color": "blue"
            },
            "text": "4W3M: AY,SB,MV,CS,SH,LB,GA",
            "x": 11,
            "xref": "x",
            "y": -1,
            "yref": "y"
           },
           {
            "font": {
             "color": "orange",
             "size": 18
            },
            "showarrow": false,
            "text": "FucZH 6-5 Wombats Willisau",
            "x": 0.5,
            "xref": "paper",
            "y": 1.4,
            "yref": "y"
           },
           {
            "showarrow": false,
            "text": "Completed Passes: 13,Turns: 3",
            "x": 14,
            "xref": "x",
            "y": 1.3,
            "yref": "y"
           }
          ]
         },
         "name": "frame11"
        },
        {
         "data": [
          {
           "line": {
            "shape": "hvh"
           },
           "mode": "lines+markers",
           "type": "scatter",
           "x": [
            1,
            2,
            3,
            4,
            5,
            6,
            7,
            8,
            9,
            10,
            11,
            12
           ],
           "y": [
            1,
            1,
            1,
            -0.5,
            0.5,
            -0.5,
            0.5,
            -0.5,
            0.5,
            -0.5,
            -1,
            -1
           ]
          }
         ],
         "layout": {
          "annotations": [
           {
            "font": {
             "color": "blue"
            },
            "text": "4M3W: AY,JL,CC,SH,JS,GA,SG",
            "x": 12,
            "xref": "x",
            "y": -1,
            "yref": "y"
           },
           {
            "font": {
             "color": "orange",
             "size": 18
            },
            "showarrow": false,
            "text": "FucZH 6-6 Wombats Willisau",
            "x": 0.5,
            "xref": "paper",
            "y": 1.4,
            "yref": "y"
           },
           {
            "showarrow": false,
            "text": "Completed Passes: 17,Turns: 1",
            "x": 14,
            "xref": "x",
            "y": 1.3,
            "yref": "y"
           }
          ]
         },
         "name": "frame12"
        },
        {
         "data": [
          {
           "line": {
            "shape": "hvh"
           },
           "mode": "lines+markers",
           "type": "scatter",
           "x": [
            1,
            2,
            3,
            4,
            5,
            6,
            7,
            8,
            9,
            10,
            11,
            12,
            13
           ],
           "y": [
            1,
            1,
            1,
            -0.5,
            0.5,
            -0.5,
            0.5,
            -0.5,
            0.5,
            -0.5,
            -1,
            -1,
            0.5
           ]
          }
         ],
         "layout": {
          "annotations": [
           {
            "font": {
             "color": "blue"
            },
            "text": "4W3M: SB,FS,MV,MR,CS,LB,EL",
            "x": 13,
            "xref": "x",
            "y": 0.5,
            "yref": "y"
           },
           {
            "font": {
             "color": "orange",
             "size": 18
            },
            "showarrow": false,
            "text": "FucZH 7-6 Wombats Willisau",
            "x": 0.5,
            "xref": "paper",
            "y": 1.4,
            "yref": "y"
           },
           {
            "showarrow": false,
            "text": "Completed Passes: 6,Turns: 0",
            "x": 14,
            "xref": "x",
            "y": 1.3,
            "yref": "y"
           },
           {
            "showarrow": false,
            "text": "Assist: MR, Goal:Anonymous",
            "x": 14,
            "xref": "x",
            "y": 1.4,
            "yref": "y"
           }
          ]
         },
         "name": "frame13"
        },
        {
         "data": [
          {
           "line": {
            "shape": "hvh"
           },
           "mode": "lines+markers",
           "type": "scatter",
           "x": [
            1,
            2,
            3,
            4,
            5,
            6,
            7,
            8,
            9,
            10,
            11,
            12,
            13,
            14
           ],
           "y": [
            1,
            1,
            1,
            -0.5,
            0.5,
            -0.5,
            0.5,
            -0.5,
            0.5,
            -0.5,
            -1,
            -1,
            0.5,
            1
           ]
          }
         ],
         "layout": {
          "annotations": [
           {
            "font": {
             "color": "blue"
            },
            "text": "4W3M: JL,MV,MR,LB,EL,JV,SG",
            "x": 14,
            "xref": "x",
            "y": 1,
            "yref": "y"
           },
           {
            "font": {
             "color": "orange",
             "size": 18
            },
            "showarrow": false,
            "text": "FucZH 8-6 Wombats Willisau",
            "x": 0.5,
            "xref": "paper",
            "y": 1.4,
            "yref": "y"
           },
           {
            "showarrow": false,
            "text": "Completed Passes: 0,Turns: 1",
            "x": 14,
            "xref": "x",
            "y": 1.3,
            "yref": "y"
           },
           {
            "showarrow": false,
            "text": "Assist: None, Goal:JV",
            "x": 14,
            "xref": "x",
            "y": 1.4,
            "yref": "y"
           }
          ]
         },
         "name": "frame14"
        },
        {
         "data": [
          {
           "line": {
            "shape": "hvh"
           },
           "mode": "lines+markers",
           "type": "scatter",
           "x": [
            1,
            2,
            3,
            4,
            5,
            6,
            7,
            8,
            9,
            10,
            11,
            12,
            13,
            14,
            15
           ],
           "y": [
            1,
            1,
            1,
            -0.5,
            0.5,
            -0.5,
            0.5,
            -0.5,
            0.5,
            -0.5,
            -1,
            -1,
            0.5,
            1,
            0.5
           ]
          }
         ],
         "layout": {
          "annotations": [
           {
            "font": {
             "color": "blue"
            },
            "text": "4W3M: AY,SB,MV,CC,SH,SG,GA",
            "x": 15,
            "xref": "x",
            "y": 0.5,
            "yref": "y"
           },
           {
            "font": {
             "color": "orange",
             "size": 18
            },
            "showarrow": false,
            "text": "FucZH 9-6 Wombats Willisau",
            "x": 0.5,
            "xref": "paper",
            "y": 1.4,
            "yref": "y"
           },
           {
            "showarrow": false,
            "text": "Completed Passes: 8,Turns: 0",
            "x": 14,
            "xref": "x",
            "y": 1.3,
            "yref": "y"
           },
           {
            "showarrow": false,
            "text": "Assist: GA, Goal:SB",
            "x": 14,
            "xref": "x",
            "y": 1.4,
            "yref": "y"
           }
          ]
         },
         "name": "frame15"
        },
        {
         "data": [
          {
           "line": {
            "shape": "hvh"
           },
           "mode": "lines+markers",
           "type": "scatter",
           "x": [
            1,
            2,
            3,
            4,
            5,
            6,
            7,
            8,
            9,
            10,
            11,
            12,
            13,
            14,
            15,
            16
           ],
           "y": [
            1,
            1,
            1,
            -0.5,
            0.5,
            -0.5,
            0.5,
            -0.5,
            0.5,
            -0.5,
            -1,
            -1,
            0.5,
            1,
            0.5,
            -0.5
           ]
          }
         ],
         "layout": {
          "annotations": [
           {
            "font": {
             "color": "blue"
            },
            "text": "4M3W: JL,MR,SH,LB,EL,JS,JV",
            "x": 16,
            "xref": "x",
            "y": -0.5,
            "yref": "y"
           },
           {
            "font": {
             "color": "orange",
             "size": 18
            },
            "showarrow": false,
            "text": "FucZH 9-7 Wombats Willisau",
            "x": 0.5,
            "xref": "paper",
            "y": 1.4,
            "yref": "y"
           },
           {
            "showarrow": false,
            "text": "Completed Passes: 0,Turns: 0",
            "x": 14,
            "xref": "x",
            "y": 1.3,
            "yref": "y"
           }
          ]
         },
         "name": "frame16"
        }
       ],
       "layout": {
        "height": 600,
        "hovermode": "closest",
        "images": [
         {
          "sizex": 0.2,
          "sizey": 0.2,
          "source": "https://raw.githubusercontent.com/elastufka/presentations/master/images/ZU_logo1.png",
          "x": 0,
          "xanchor": "right",
          "xref": "paper",
          "y": 1.05,
          "yanchor": "bottom",
          "yref": "paper"
         }
        ],
        "sliders": [
         {
          "active": 0,
          "currentvalue": {
           "font": {
            "size": 14
           },
           "prefix": "Point:",
           "visible": true,
           "xanchor": "right"
          },
          "len": 0.9,
          "pad": {
           "b": 10,
           "t": 10
          },
          "steps": [
           {
            "args": [
             [
              "frame1"
             ],
             {
              "frame": {
               "duration": 300,
               "redraw": false
              },
              "mode": "immediate",
              "transition": {
               "duration": 300
              }
             }
            ],
            "label": "1",
            "method": "animate"
           },
           {
            "args": [
             [
              "frame2"
             ],
             {
              "frame": {
               "duration": 300,
               "redraw": false
              },
              "mode": "immediate",
              "transition": {
               "duration": 300
              }
             }
            ],
            "label": "2",
            "method": "animate"
           },
           {
            "args": [
             [
              "frame3"
             ],
             {
              "frame": {
               "duration": 300,
               "redraw": false
              },
              "mode": "immediate",
              "transition": {
               "duration": 300
              }
             }
            ],
            "label": "3",
            "method": "animate"
           },
           {
            "args": [
             [
              "frame4"
             ],
             {
              "frame": {
               "duration": 300,
               "redraw": false
              },
              "mode": "immediate",
              "transition": {
               "duration": 300
              }
             }
            ],
            "label": "4",
            "method": "animate"
           },
           {
            "args": [
             [
              "frame5"
             ],
             {
              "frame": {
               "duration": 300,
               "redraw": false
              },
              "mode": "immediate",
              "transition": {
               "duration": 300
              }
             }
            ],
            "label": "5",
            "method": "animate"
           },
           {
            "args": [
             [
              "frame6"
             ],
             {
              "frame": {
               "duration": 300,
               "redraw": false
              },
              "mode": "immediate",
              "transition": {
               "duration": 300
              }
             }
            ],
            "label": "6",
            "method": "animate"
           },
           {
            "args": [
             [
              "frame7"
             ],
             {
              "frame": {
               "duration": 300,
               "redraw": false
              },
              "mode": "immediate",
              "transition": {
               "duration": 300
              }
             }
            ],
            "label": "7",
            "method": "animate"
           },
           {
            "args": [
             [
              "frame8"
             ],
             {
              "frame": {
               "duration": 300,
               "redraw": false
              },
              "mode": "immediate",
              "transition": {
               "duration": 300
              }
             }
            ],
            "label": "8",
            "method": "animate"
           },
           {
            "args": [
             [
              "frame9"
             ],
             {
              "frame": {
               "duration": 300,
               "redraw": false
              },
              "mode": "immediate",
              "transition": {
               "duration": 300
              }
             }
            ],
            "label": "9",
            "method": "animate"
           },
           {
            "args": [
             [
              "frame10"
             ],
             {
              "frame": {
               "duration": 300,
               "redraw": false
              },
              "mode": "immediate",
              "transition": {
               "duration": 300
              }
             }
            ],
            "label": "10",
            "method": "animate"
           },
           {
            "args": [
             [
              "frame11"
             ],
             {
              "frame": {
               "duration": 300,
               "redraw": false
              },
              "mode": "immediate",
              "transition": {
               "duration": 300
              }
             }
            ],
            "label": "11",
            "method": "animate"
           },
           {
            "args": [
             [
              "frame12"
             ],
             {
              "frame": {
               "duration": 300,
               "redraw": false
              },
              "mode": "immediate",
              "transition": {
               "duration": 300
              }
             }
            ],
            "label": "12",
            "method": "animate"
           },
           {
            "args": [
             [
              "frame13"
             ],
             {
              "frame": {
               "duration": 300,
               "redraw": false
              },
              "mode": "immediate",
              "transition": {
               "duration": 300
              }
             }
            ],
            "label": "13",
            "method": "animate"
           },
           {
            "args": [
             [
              "frame14"
             ],
             {
              "frame": {
               "duration": 300,
               "redraw": false
              },
              "mode": "immediate",
              "transition": {
               "duration": 300
              }
             }
            ],
            "label": "14",
            "method": "animate"
           },
           {
            "args": [
             [
              "frame15"
             ],
             {
              "frame": {
               "duration": 300,
               "redraw": false
              },
              "mode": "immediate",
              "transition": {
               "duration": 300
              }
             }
            ],
            "label": "15",
            "method": "animate"
           },
           {
            "args": [
             [
              "frame16"
             ],
             {
              "frame": {
               "duration": 300,
               "redraw": false
              },
              "mode": "immediate",
              "transition": {
               "duration": 300
              }
             }
            ],
            "label": "16",
            "method": "animate"
           }
          ],
          "transition": {
           "duration": 300,
           "easing": "cubic-in-out"
          },
          "x": 1,
          "xanchor": "right",
          "y": -0.4,
          "yanchor": "bottom"
         }
        ],
        "template": {
         "layout": {
          "colorway": [
           "#000000",
           "#784F17",
           "#FF0018",
           "#FFA52C",
           "#FFFF41",
           "#008018",
           "#0000F9",
           "#86007D"
          ],
          "plot_bgcolor": "lightgrey"
         }
        },
        "title": {
         "text": "Game Flow"
        },
        "updatemenus": [
         {
          "buttons": [
           {
            "args": [
             null,
             {
              "frame": {
               "duration": 500,
               "redraw": false
              },
              "fromcurrent": true,
              "transition": {
               "duration": 300,
               "easing": "quadratic-in-out"
              }
             }
            ],
            "label": "Play",
            "method": "animate"
           },
           {
            "args": [
             [
              null
             ],
             {
              "frame": {
               "duration": 0,
               "redraw": false
              },
              "mode": "immediate",
              "transition": {
               "duration": 0
              }
             }
            ],
            "label": "Pause",
            "method": "animate"
           }
          ],
          "direction": "left",
          "pad": {
           "r": 10,
           "t": 87
          },
          "showactive": false,
          "type": "buttons",
          "x": 0.1,
          "xanchor": "right",
          "y": 0,
          "yanchor": "top"
         }
        ],
        "width": 850,
        "xaxis": {
         "range": [
          0.5,
          17.5
         ],
         "title": {
          "text": "Points"
         }
        },
        "yaxis": {
         "range": [
          -1.1,
          1.5
         ],
         "ticktext": [
          "Their Break",
          "Their Hold",
          "",
          "Our Hold",
          "Our Break"
         ],
         "tickvals": [
          -1,
          -0.5,
          0,
          0.5,
          1
         ],
         "title": {
          "text": "Point Type"
         }
        }
       }
      },
      "text/html": [
       "<div>                            <div id=\"09a17bf8-a4da-4f77-83d1-0804dc681fa6\" class=\"plotly-graph-div\" style=\"height:600px; width:850px;\"></div>            <script type=\"text/javascript\">                require([\"plotly\"], function(Plotly) {                    window.PLOTLYENV=window.PLOTLYENV || {};                                    if (document.getElementById(\"09a17bf8-a4da-4f77-83d1-0804dc681fa6\")) {                    Plotly.newPlot(                        \"09a17bf8-a4da-4f77-83d1-0804dc681fa6\",                        [{\"mode\":\"lines+markers\",\"type\":\"scatter\",\"x\":[0],\"y\":[0]}],                        {\"height\":600,\"hovermode\":\"closest\",\"images\":[{\"sizex\":0.2,\"sizey\":0.2,\"source\":\"https://raw.githubusercontent.com/elastufka/presentations/master/images/ZU_logo1.png\",\"x\":0,\"xanchor\":\"right\",\"xref\":\"paper\",\"y\":1.05,\"yanchor\":\"bottom\",\"yref\":\"paper\"}],\"sliders\":[{\"active\":0,\"currentvalue\":{\"font\":{\"size\":14},\"prefix\":\"Point:\",\"visible\":true,\"xanchor\":\"right\"},\"len\":0.9,\"pad\":{\"b\":10,\"t\":10},\"steps\":[{\"args\":[[\"frame1\"],{\"frame\":{\"duration\":300,\"redraw\":false},\"mode\":\"immediate\",\"transition\":{\"duration\":300}}],\"label\":\"1\",\"method\":\"animate\"},{\"args\":[[\"frame2\"],{\"frame\":{\"duration\":300,\"redraw\":false},\"mode\":\"immediate\",\"transition\":{\"duration\":300}}],\"label\":\"2\",\"method\":\"animate\"},{\"args\":[[\"frame3\"],{\"frame\":{\"duration\":300,\"redraw\":false},\"mode\":\"immediate\",\"transition\":{\"duration\":300}}],\"label\":\"3\",\"method\":\"animate\"},{\"args\":[[\"frame4\"],{\"frame\":{\"duration\":300,\"redraw\":false},\"mode\":\"immediate\",\"transition\":{\"duration\":300}}],\"label\":\"4\",\"method\":\"animate\"},{\"args\":[[\"frame5\"],{\"frame\":{\"duration\":300,\"redraw\":false},\"mode\":\"immediate\",\"transition\":{\"duration\":300}}],\"label\":\"5\",\"method\":\"animate\"},{\"args\":[[\"frame6\"],{\"frame\":{\"duration\":300,\"redraw\":false},\"mode\":\"immediate\",\"transition\":{\"duration\":300}}],\"label\":\"6\",\"method\":\"animate\"},{\"args\":[[\"frame7\"],{\"frame\":{\"duration\":300,\"redraw\":false},\"mode\":\"immediate\",\"transition\":{\"duration\":300}}],\"label\":\"7\",\"method\":\"animate\"},{\"args\":[[\"frame8\"],{\"frame\":{\"duration\":300,\"redraw\":false},\"mode\":\"immediate\",\"transition\":{\"duration\":300}}],\"label\":\"8\",\"method\":\"animate\"},{\"args\":[[\"frame9\"],{\"frame\":{\"duration\":300,\"redraw\":false},\"mode\":\"immediate\",\"transition\":{\"duration\":300}}],\"label\":\"9\",\"method\":\"animate\"},{\"args\":[[\"frame10\"],{\"frame\":{\"duration\":300,\"redraw\":false},\"mode\":\"immediate\",\"transition\":{\"duration\":300}}],\"label\":\"10\",\"method\":\"animate\"},{\"args\":[[\"frame11\"],{\"frame\":{\"duration\":300,\"redraw\":false},\"mode\":\"immediate\",\"transition\":{\"duration\":300}}],\"label\":\"11\",\"method\":\"animate\"},{\"args\":[[\"frame12\"],{\"frame\":{\"duration\":300,\"redraw\":false},\"mode\":\"immediate\",\"transition\":{\"duration\":300}}],\"label\":\"12\",\"method\":\"animate\"},{\"args\":[[\"frame13\"],{\"frame\":{\"duration\":300,\"redraw\":false},\"mode\":\"immediate\",\"transition\":{\"duration\":300}}],\"label\":\"13\",\"method\":\"animate\"},{\"args\":[[\"frame14\"],{\"frame\":{\"duration\":300,\"redraw\":false},\"mode\":\"immediate\",\"transition\":{\"duration\":300}}],\"label\":\"14\",\"method\":\"animate\"},{\"args\":[[\"frame15\"],{\"frame\":{\"duration\":300,\"redraw\":false},\"mode\":\"immediate\",\"transition\":{\"duration\":300}}],\"label\":\"15\",\"method\":\"animate\"},{\"args\":[[\"frame16\"],{\"frame\":{\"duration\":300,\"redraw\":false},\"mode\":\"immediate\",\"transition\":{\"duration\":300}}],\"label\":\"16\",\"method\":\"animate\"}],\"transition\":{\"duration\":300,\"easing\":\"cubic-in-out\"},\"x\":1,\"xanchor\":\"right\",\"y\":-0.4,\"yanchor\":\"bottom\"}],\"template\":{\"layout\":{\"colorway\":[\"#000000\",\"#784F17\",\"#FF0018\",\"#FFA52C\",\"#FFFF41\",\"#008018\",\"#0000F9\",\"#86007D\"],\"plot_bgcolor\":\"lightgrey\"}},\"title\":{\"text\":\"Game Flow\"},\"updatemenus\":[{\"buttons\":[{\"args\":[null,{\"frame\":{\"duration\":500,\"redraw\":false},\"fromcurrent\":true,\"transition\":{\"duration\":300,\"easing\":\"quadratic-in-out\"}}],\"label\":\"Play\",\"method\":\"animate\"},{\"args\":[[null],{\"frame\":{\"duration\":0,\"redraw\":false},\"mode\":\"immediate\",\"transition\":{\"duration\":0}}],\"label\":\"Pause\",\"method\":\"animate\"}],\"direction\":\"left\",\"pad\":{\"r\":10,\"t\":87},\"showactive\":false,\"type\":\"buttons\",\"x\":0.1,\"xanchor\":\"right\",\"y\":0,\"yanchor\":\"top\"}],\"width\":850,\"xaxis\":{\"range\":[0.5,17.5],\"title\":{\"text\":\"Points\"}},\"yaxis\":{\"range\":[-1.1,1.5],\"ticktext\":[\"Their Break\",\"Their Hold\",\"\",\"Our Hold\",\"Our Break\"],\"tickvals\":[-1,-0.5,0,0.5,1],\"title\":{\"text\":\"Point Type\"}}},                        {\"responsive\": true}                    ).then(function(){\n",
       "                            Plotly.addFrames('09a17bf8-a4da-4f77-83d1-0804dc681fa6', [{\"data\":[{\"line\":{\"shape\":\"hv\"},\"mode\":\"lines+markers\",\"type\":\"scatter\",\"x\":[0],\"y\":[0]}],\"name\":\"frame0\"},{\"data\":[{\"line\":{\"shape\":\"hvh\"},\"mode\":\"lines+markers\",\"type\":\"scatter\",\"x\":[1],\"y\":[1.0]}],\"layout\":{\"annotations\":[{\"font\":{\"color\":\"blue\"},\"text\":\"4M3W: JL,MV,MR,LB,JV,JS,SG\",\"x\":1,\"xref\":\"x\",\"y\":1.0,\"yref\":\"y\"},{\"font\":{\"color\":\"orange\",\"size\":18},\"showarrow\":false,\"text\":\"FucZH 1-0 Wombats Willisau\",\"x\":0.5,\"xref\":\"paper\",\"y\":1.4,\"yref\":\"y\"},{\"showarrow\":false,\"text\":\"Completed Passes: 9,Turns: 5\",\"x\":14,\"xref\":\"x\",\"y\":1.3,\"yref\":\"y\"},{\"showarrow\":false,\"text\":\"Assist: MR, Goal:JS\",\"x\":14,\"xref\":\"x\",\"y\":1.4,\"yref\":\"y\"}]},\"name\":\"frame1\"},{\"data\":[{\"line\":{\"shape\":\"hvh\"},\"mode\":\"lines+markers\",\"type\":\"scatter\",\"x\":[1,2],\"y\":[1.0,1.0]}],\"layout\":{\"annotations\":[{\"font\":{\"color\":\"blue\"},\"text\":\"4W3M: FS,MV,CC,LB,EL,JV,SG\",\"x\":2,\"xref\":\"x\",\"y\":1.0,\"yref\":\"y\"},{\"font\":{\"color\":\"orange\",\"size\":18},\"showarrow\":false,\"text\":\"FucZH 2-0 Wombats Willisau\",\"x\":0.5,\"xref\":\"paper\",\"y\":1.4,\"yref\":\"y\"},{\"showarrow\":false,\"text\":\"Completed Passes: 4,Turns: 1\",\"x\":14,\"xref\":\"x\",\"y\":1.3,\"yref\":\"y\"},{\"showarrow\":false,\"text\":\"Assist: SG, Goal:JV\",\"x\":14,\"xref\":\"x\",\"y\":1.4,\"yref\":\"y\"}]},\"name\":\"frame2\"},{\"data\":[{\"line\":{\"shape\":\"hvh\"},\"mode\":\"lines+markers\",\"type\":\"scatter\",\"x\":[1,2,3],\"y\":[1.0,1.0,1.0]}],\"layout\":{\"annotations\":[{\"font\":{\"color\":\"blue\"},\"text\":\"4W3M: JL,SB,MV,MR,CS,SH,LB\",\"x\":3,\"xref\":\"x\",\"y\":1.0,\"yref\":\"y\"},{\"font\":{\"color\":\"orange\",\"size\":18},\"showarrow\":false,\"text\":\"FucZH 3-0 Wombats Willisau\",\"x\":0.5,\"xref\":\"paper\",\"y\":1.4,\"yref\":\"y\"},{\"showarrow\":false,\"text\":\"Completed Passes: 0,Turns: 1\",\"x\":14,\"xref\":\"x\",\"y\":1.3,\"yref\":\"y\"},{\"showarrow\":false,\"text\":\"Assist: None, Goal:MR\",\"x\":14,\"xref\":\"x\",\"y\":1.4,\"yref\":\"y\"}]},\"name\":\"frame3\"},{\"data\":[{\"line\":{\"shape\":\"hvh\"},\"mode\":\"lines+markers\",\"type\":\"scatter\",\"x\":[1,2,3,4],\"y\":[1.0,1.0,1.0,-0.5]}],\"layout\":{\"annotations\":[{\"font\":{\"color\":\"blue\"},\"text\":\"4M3W: SB,JL,CC,JV,JS,SG,GA\",\"x\":4,\"xref\":\"x\",\"y\":-0.5,\"yref\":\"y\"},{\"font\":{\"color\":\"orange\",\"size\":18},\"showarrow\":false,\"text\":\"FucZH 3-1 Wombats Willisau\",\"x\":0.5,\"xref\":\"paper\",\"y\":1.4,\"yref\":\"y\"},{\"showarrow\":false,\"text\":\"Completed Passes: 3,Turns: 4\",\"x\":14,\"xref\":\"x\",\"y\":1.3,\"yref\":\"y\"}]},\"name\":\"frame4\"},{\"data\":[{\"line\":{\"shape\":\"hvh\"},\"mode\":\"lines+markers\",\"type\":\"scatter\",\"x\":[1,2,3,4,5],\"y\":[1.0,1.0,1.0,-0.5,0.5]}],\"layout\":{\"annotations\":[{\"font\":{\"color\":\"blue\"},\"text\":\"4M3W: AY,FS,MV,CS,SH,EL,GA\",\"x\":5,\"xref\":\"x\",\"y\":0.5,\"yref\":\"y\"},{\"font\":{\"color\":\"orange\",\"size\":18},\"showarrow\":false,\"text\":\"FucZH 4-1 Wombats Willisau\",\"x\":0.5,\"xref\":\"paper\",\"y\":1.4,\"yref\":\"y\"},{\"showarrow\":false,\"text\":\"Completed Passes: 12,Turns: 2\",\"x\":14,\"xref\":\"x\",\"y\":1.3,\"yref\":\"y\"},{\"showarrow\":false,\"text\":\"Assist: AY, Goal:FS\",\"x\":14,\"xref\":\"x\",\"y\":1.4,\"yref\":\"y\"}]},\"name\":\"frame5\"},{\"data\":[{\"line\":{\"shape\":\"hvh\"},\"mode\":\"lines+markers\",\"type\":\"scatter\",\"x\":[1,2,3,4,5,6],\"y\":[1.0,1.0,1.0,-0.5,0.5,-0.5]}],\"layout\":{\"annotations\":[{\"font\":{\"color\":\"blue\"},\"text\":\"4W3M: SB,JL,MR,CC,EL,JV,SG\",\"x\":6,\"xref\":\"x\",\"y\":-0.5,\"yref\":\"y\"},{\"font\":{\"color\":\"orange\",\"size\":18},\"showarrow\":false,\"text\":\"FucZH 4-2 Wombats Willisau\",\"x\":0.5,\"xref\":\"paper\",\"y\":1.4,\"yref\":\"y\"},{\"showarrow\":false,\"text\":\"Completed Passes: 0,Turns: 0\",\"x\":14,\"xref\":\"x\",\"y\":1.3,\"yref\":\"y\"}]},\"name\":\"frame6\"},{\"data\":[{\"line\":{\"shape\":\"hvh\"},\"mode\":\"lines+markers\",\"type\":\"scatter\",\"x\":[1,2,3,4,5,6,7],\"y\":[1.0,1.0,1.0,-0.5,0.5,-0.5,0.5]}],\"layout\":{\"annotations\":[{\"font\":{\"color\":\"blue\"},\"text\":\"4W3M: AY,SB,MV,CS,SH,LB,GA\",\"x\":7,\"xref\":\"x\",\"y\":0.5,\"yref\":\"y\"},{\"font\":{\"color\":\"orange\",\"size\":18},\"showarrow\":false,\"text\":\"FucZH 5-2 Wombats Willisau\",\"x\":0.5,\"xref\":\"paper\",\"y\":1.4,\"yref\":\"y\"},{\"showarrow\":false,\"text\":\"Completed Passes: 11,Turns: 0\",\"x\":14,\"xref\":\"x\",\"y\":1.3,\"yref\":\"y\"},{\"showarrow\":false,\"text\":\"Assist: MV, Goal:Anonymous\",\"x\":14,\"xref\":\"x\",\"y\":1.4,\"yref\":\"y\"}]},\"name\":\"frame7\"},{\"data\":[{\"line\":{\"shape\":\"hvh\"},\"mode\":\"lines+markers\",\"type\":\"scatter\",\"x\":[1,2,3,4,5,6,7,8],\"y\":[1.0,1.0,1.0,-0.5,0.5,-0.5,0.5,-0.5]}],\"layout\":{\"annotations\":[{\"font\":{\"color\":\"blue\"},\"text\":\"4M3W: JL,MR,CC,EL,JV,JS,SG\",\"x\":8,\"xref\":\"x\",\"y\":-0.5,\"yref\":\"y\"},{\"font\":{\"color\":\"orange\",\"size\":18},\"showarrow\":false,\"text\":\"FucZH 5-3 Wombats Willisau\",\"x\":0.5,\"xref\":\"paper\",\"y\":1.4,\"yref\":\"y\"},{\"showarrow\":false,\"text\":\"Completed Passes: 0,Turns: 0\",\"x\":14,\"xref\":\"x\",\"y\":1.3,\"yref\":\"y\"}]},\"name\":\"frame8\"},{\"data\":[{\"line\":{\"shape\":\"hvh\"},\"mode\":\"lines+markers\",\"type\":\"scatter\",\"x\":[1,2,3,4,5,6,7,8,9],\"y\":[1.0,1.0,1.0,-0.5,0.5,-0.5,0.5,-0.5,0.5]}],\"layout\":{\"annotations\":[{\"font\":{\"color\":\"blue\"},\"text\":\"4M3W: AY,SB,FS,MV,CS,SH,GA\",\"x\":9,\"xref\":\"x\",\"y\":0.5,\"yref\":\"y\"},{\"font\":{\"color\":\"orange\",\"size\":18},\"showarrow\":false,\"text\":\"FucZH 6-3 Wombats Willisau\",\"x\":0.5,\"xref\":\"paper\",\"y\":1.4,\"yref\":\"y\"},{\"showarrow\":false,\"text\":\"Completed Passes: 14,Turns: 0\",\"x\":14,\"xref\":\"x\",\"y\":1.3,\"yref\":\"y\"},{\"showarrow\":false,\"text\":\"Assist: FS, Goal:SH\",\"x\":14,\"xref\":\"x\",\"y\":1.4,\"yref\":\"y\"}]},\"name\":\"frame9\"},{\"data\":[{\"line\":{\"shape\":\"hvh\"},\"mode\":\"lines+markers\",\"type\":\"scatter\",\"x\":[1,2,3,4,5,6,7,8,9,10],\"y\":[1.0,1.0,1.0,-0.5,0.5,-0.5,0.5,-0.5,0.5,-0.5]}],\"layout\":{\"annotations\":[{\"font\":{\"color\":\"blue\"},\"text\":\"4W3M: JL,MR,CC,LB,EL,JV,SG\",\"x\":10,\"xref\":\"x\",\"y\":-0.5,\"yref\":\"y\"},{\"font\":{\"color\":\"orange\",\"size\":18},\"showarrow\":false,\"text\":\"FucZH 6-4 Wombats Willisau\",\"x\":0.5,\"xref\":\"paper\",\"y\":1.4,\"yref\":\"y\"},{\"showarrow\":false,\"text\":\"Completed Passes: 0,Turns: 0\",\"x\":14,\"xref\":\"x\",\"y\":1.3,\"yref\":\"y\"}]},\"name\":\"frame10\"},{\"data\":[{\"line\":{\"shape\":\"hvh\"},\"mode\":\"lines+markers\",\"type\":\"scatter\",\"x\":[1,2,3,4,5,6,7,8,9,10,11],\"y\":[1.0,1.0,1.0,-0.5,0.5,-0.5,0.5,-0.5,0.5,-0.5,-1.0]}],\"layout\":{\"annotations\":[{\"font\":{\"color\":\"blue\"},\"text\":\"4W3M: AY,SB,MV,CS,SH,LB,GA\",\"x\":11,\"xref\":\"x\",\"y\":-1.0,\"yref\":\"y\"},{\"font\":{\"color\":\"orange\",\"size\":18},\"showarrow\":false,\"text\":\"FucZH 6-5 Wombats Willisau\",\"x\":0.5,\"xref\":\"paper\",\"y\":1.4,\"yref\":\"y\"},{\"showarrow\":false,\"text\":\"Completed Passes: 13,Turns: 3\",\"x\":14,\"xref\":\"x\",\"y\":1.3,\"yref\":\"y\"}]},\"name\":\"frame11\"},{\"data\":[{\"line\":{\"shape\":\"hvh\"},\"mode\":\"lines+markers\",\"type\":\"scatter\",\"x\":[1,2,3,4,5,6,7,8,9,10,11,12],\"y\":[1.0,1.0,1.0,-0.5,0.5,-0.5,0.5,-0.5,0.5,-0.5,-1.0,-1.0]}],\"layout\":{\"annotations\":[{\"font\":{\"color\":\"blue\"},\"text\":\"4M3W: AY,JL,CC,SH,JS,GA,SG\",\"x\":12,\"xref\":\"x\",\"y\":-1.0,\"yref\":\"y\"},{\"font\":{\"color\":\"orange\",\"size\":18},\"showarrow\":false,\"text\":\"FucZH 6-6 Wombats Willisau\",\"x\":0.5,\"xref\":\"paper\",\"y\":1.4,\"yref\":\"y\"},{\"showarrow\":false,\"text\":\"Completed Passes: 17,Turns: 1\",\"x\":14,\"xref\":\"x\",\"y\":1.3,\"yref\":\"y\"}]},\"name\":\"frame12\"},{\"data\":[{\"line\":{\"shape\":\"hvh\"},\"mode\":\"lines+markers\",\"type\":\"scatter\",\"x\":[1,2,3,4,5,6,7,8,9,10,11,12,13],\"y\":[1.0,1.0,1.0,-0.5,0.5,-0.5,0.5,-0.5,0.5,-0.5,-1.0,-1.0,0.5]}],\"layout\":{\"annotations\":[{\"font\":{\"color\":\"blue\"},\"text\":\"4W3M: SB,FS,MV,MR,CS,LB,EL\",\"x\":13,\"xref\":\"x\",\"y\":0.5,\"yref\":\"y\"},{\"font\":{\"color\":\"orange\",\"size\":18},\"showarrow\":false,\"text\":\"FucZH 7-6 Wombats Willisau\",\"x\":0.5,\"xref\":\"paper\",\"y\":1.4,\"yref\":\"y\"},{\"showarrow\":false,\"text\":\"Completed Passes: 6,Turns: 0\",\"x\":14,\"xref\":\"x\",\"y\":1.3,\"yref\":\"y\"},{\"showarrow\":false,\"text\":\"Assist: MR, Goal:Anonymous\",\"x\":14,\"xref\":\"x\",\"y\":1.4,\"yref\":\"y\"}]},\"name\":\"frame13\"},{\"data\":[{\"line\":{\"shape\":\"hvh\"},\"mode\":\"lines+markers\",\"type\":\"scatter\",\"x\":[1,2,3,4,5,6,7,8,9,10,11,12,13,14],\"y\":[1.0,1.0,1.0,-0.5,0.5,-0.5,0.5,-0.5,0.5,-0.5,-1.0,-1.0,0.5,1.0]}],\"layout\":{\"annotations\":[{\"font\":{\"color\":\"blue\"},\"text\":\"4W3M: JL,MV,MR,LB,EL,JV,SG\",\"x\":14,\"xref\":\"x\",\"y\":1.0,\"yref\":\"y\"},{\"font\":{\"color\":\"orange\",\"size\":18},\"showarrow\":false,\"text\":\"FucZH 8-6 Wombats Willisau\",\"x\":0.5,\"xref\":\"paper\",\"y\":1.4,\"yref\":\"y\"},{\"showarrow\":false,\"text\":\"Completed Passes: 0,Turns: 1\",\"x\":14,\"xref\":\"x\",\"y\":1.3,\"yref\":\"y\"},{\"showarrow\":false,\"text\":\"Assist: None, Goal:JV\",\"x\":14,\"xref\":\"x\",\"y\":1.4,\"yref\":\"y\"}]},\"name\":\"frame14\"},{\"data\":[{\"line\":{\"shape\":\"hvh\"},\"mode\":\"lines+markers\",\"type\":\"scatter\",\"x\":[1,2,3,4,5,6,7,8,9,10,11,12,13,14,15],\"y\":[1.0,1.0,1.0,-0.5,0.5,-0.5,0.5,-0.5,0.5,-0.5,-1.0,-1.0,0.5,1.0,0.5]}],\"layout\":{\"annotations\":[{\"font\":{\"color\":\"blue\"},\"text\":\"4W3M: AY,SB,MV,CC,SH,SG,GA\",\"x\":15,\"xref\":\"x\",\"y\":0.5,\"yref\":\"y\"},{\"font\":{\"color\":\"orange\",\"size\":18},\"showarrow\":false,\"text\":\"FucZH 9-6 Wombats Willisau\",\"x\":0.5,\"xref\":\"paper\",\"y\":1.4,\"yref\":\"y\"},{\"showarrow\":false,\"text\":\"Completed Passes: 8,Turns: 0\",\"x\":14,\"xref\":\"x\",\"y\":1.3,\"yref\":\"y\"},{\"showarrow\":false,\"text\":\"Assist: GA, Goal:SB\",\"x\":14,\"xref\":\"x\",\"y\":1.4,\"yref\":\"y\"}]},\"name\":\"frame15\"},{\"data\":[{\"line\":{\"shape\":\"hvh\"},\"mode\":\"lines+markers\",\"type\":\"scatter\",\"x\":[1,2,3,4,5,6,7,8,9,10,11,12,13,14,15,16],\"y\":[1.0,1.0,1.0,-0.5,0.5,-0.5,0.5,-0.5,0.5,-0.5,-1.0,-1.0,0.5,1.0,0.5,-0.5]}],\"layout\":{\"annotations\":[{\"font\":{\"color\":\"blue\"},\"text\":\"4M3W: JL,MR,SH,LB,EL,JS,JV\",\"x\":16,\"xref\":\"x\",\"y\":-0.5,\"yref\":\"y\"},{\"font\":{\"color\":\"orange\",\"size\":18},\"showarrow\":false,\"text\":\"FucZH 9-7 Wombats Willisau\",\"x\":0.5,\"xref\":\"paper\",\"y\":1.4,\"yref\":\"y\"},{\"showarrow\":false,\"text\":\"Completed Passes: 0,Turns: 0\",\"x\":14,\"xref\":\"x\",\"y\":1.3,\"yref\":\"y\"}]},\"name\":\"frame16\"}]);\n",
       "                        }).then(function(){\n",
       "                            \n",
       "var gd = document.getElementById('09a17bf8-a4da-4f77-83d1-0804dc681fa6');\n",
       "var x = new MutationObserver(function (mutations, observer) {{\n",
       "        var display = window.getComputedStyle(gd).display;\n",
       "        if (!display || display === 'none') {{\n",
       "            console.log([gd, 'removed!']);\n",
       "            Plotly.purge(gd);\n",
       "            observer.disconnect();\n",
       "        }}\n",
       "}});\n",
       "\n",
       "// Listen for the removal of the full notebook cells\n",
       "var notebookContainer = gd.closest('#notebook-container');\n",
       "if (notebookContainer) {{\n",
       "    x.observe(notebookContainer, {childList: true});\n",
       "}}\n",
       "\n",
       "// Listen for the clearing of the current output cell\n",
       "var outputEl = gd.closest('.output');\n",
       "if (outputEl) {{\n",
       "    x.observe(outputEl, {childList: true});\n",
       "}}\n",
       "\n",
       "                        })                };                });            </script>        </div>"
      ]
     },
     "metadata": {},
     "output_type": "display_data"
    }
   ],
   "source": [
    "fig=game_flow_fig(df,'Wombats Willisau',slidew,slideh)\n",
    "fig.show()"
   ]
  },
  {
   "cell_type": "code",
   "execution_count": 665,
   "metadata": {
    "scrolled": false,
    "slideshow": {
     "slide_type": "fragment"
    },
    "tags": [
     "to_remove"
    ]
   },
   "outputs": [
    {
     "data": {
      "application/vnd.plotly.v1+json": {
       "config": {
        "plotlyServerURL": "https://plotly.com"
       },
       "data": [
        {
         "mode": "lines+markers",
         "type": "scatter",
         "x": [
          0
         ],
         "y": [
          0
         ]
        }
       ],
       "frames": [
        {
         "data": [
          {
           "line": {
            "shape": "hv"
           },
           "mode": "lines+markers",
           "type": "scatter",
           "x": [
            0
           ],
           "y": [
            0
           ]
          }
         ],
         "name": "frame0"
        },
        {
         "data": [
          {
           "line": {
            "shape": "hvh"
           },
           "mode": "lines+markers",
           "type": "scatter",
           "x": [
            1
           ],
           "y": [
            1
           ]
          }
         ],
         "layout": {
          "annotations": [
           {
            "font": {
             "color": "blue"
            },
            "text": "4W3M: JL,MV,CC,LB,JV,JS,SG",
            "x": 1,
            "xref": "x",
            "y": 1,
            "yref": "y"
           },
           {
            "font": {
             "color": "orange",
             "size": 18
            },
            "showarrow": false,
            "text": "FucZH 1-0 Wizards Geneva",
            "x": 0.5,
            "xref": "paper",
            "y": 1.4,
            "yref": "y"
           },
           {
            "showarrow": false,
            "text": "Completed Passes: 0,Turns: 1",
            "x": 21,
            "xref": "x",
            "y": 1.3,
            "yref": "y"
           },
           {
            "showarrow": false,
            "text": "Assist: None, Goal:JV",
            "x": 21,
            "xref": "x",
            "y": 1.4,
            "yref": "y"
           }
          ]
         },
         "name": "frame1"
        },
        {
         "data": [
          {
           "line": {
            "shape": "hvh"
           },
           "mode": "lines+markers",
           "type": "scatter",
           "x": [
            1,
            2
           ],
           "y": [
            1,
            -0.5
           ]
          }
         ],
         "layout": {
          "annotations": [
           {
            "font": {
             "color": "blue"
            },
            "text": "4M3W: SB,MV,CS,EL,JV,JS,SG",
            "x": 2,
            "xref": "x",
            "y": -0.5,
            "yref": "y"
           },
           {
            "font": {
             "color": "orange",
             "size": 18
            },
            "showarrow": false,
            "text": "FucZH 1-1 Wizards Geneva",
            "x": 0.5,
            "xref": "paper",
            "y": 1.4,
            "yref": "y"
           },
           {
            "showarrow": false,
            "text": "Completed Passes: 0,Turns: 0",
            "x": 21,
            "xref": "x",
            "y": 1.3,
            "yref": "y"
           }
          ]
         },
         "name": "frame2"
        },
        {
         "data": [
          {
           "line": {
            "shape": "hvh"
           },
           "mode": "lines+markers",
           "type": "scatter",
           "x": [
            1,
            2,
            3
           ],
           "y": [
            1,
            -0.5,
            0.5
           ]
          }
         ],
         "layout": {
          "annotations": [
           {
            "font": {
             "color": "blue"
            },
            "text": "4M3W: SB,AY,FS,AL,CS,SH,GA",
            "x": 3,
            "xref": "x",
            "y": 0.5,
            "yref": "y"
           },
           {
            "font": {
             "color": "orange",
             "size": 18
            },
            "showarrow": false,
            "text": "FucZH 2-1 Wizards Geneva",
            "x": 0.5,
            "xref": "paper",
            "y": 1.4,
            "yref": "y"
           },
           {
            "showarrow": false,
            "text": "Completed Passes: 3,Turns: 0",
            "x": 21,
            "xref": "x",
            "y": 1.3,
            "yref": "y"
           },
           {
            "showarrow": false,
            "text": "Assist: FS, Goal:Anonymous",
            "x": 21,
            "xref": "x",
            "y": 1.4,
            "yref": "y"
           }
          ]
         },
         "name": "frame3"
        },
        {
         "data": [
          {
           "line": {
            "shape": "hvh"
           },
           "mode": "lines+markers",
           "type": "scatter",
           "x": [
            1,
            2,
            3,
            4
           ],
           "y": [
            1,
            -0.5,
            0.5,
            -0.5
           ]
          }
         ],
         "layout": {
          "annotations": [
           {
            "font": {
             "color": "blue"
            },
            "text": "4W3M: JL,MV,CC,EL,JV,JS,SG",
            "x": 4,
            "xref": "x",
            "y": -0.5,
            "yref": "y"
           },
           {
            "font": {
             "color": "orange",
             "size": 18
            },
            "showarrow": false,
            "text": "FucZH 2-2 Wizards Geneva",
            "x": 0.5,
            "xref": "paper",
            "y": 1.4,
            "yref": "y"
           },
           {
            "showarrow": false,
            "text": "Completed Passes: 5,Turns: 2",
            "x": 21,
            "xref": "x",
            "y": 1.3,
            "yref": "y"
           }
          ]
         },
         "name": "frame4"
        },
        {
         "data": [
          {
           "line": {
            "shape": "hvh"
           },
           "mode": "lines+markers",
           "type": "scatter",
           "x": [
            1,
            2,
            3,
            4,
            5
           ],
           "y": [
            1,
            -0.5,
            0.5,
            -0.5,
            0.5
           ]
          }
         ],
         "layout": {
          "annotations": [
           {
            "font": {
             "color": "blue"
            },
            "text": "4W3M: AY,SB,AL,CS,SH,LB,GA",
            "x": 5,
            "xref": "x",
            "y": 0.5,
            "yref": "y"
           },
           {
            "font": {
             "color": "orange",
             "size": 18
            },
            "showarrow": false,
            "text": "FucZH 3-2 Wizards Geneva",
            "x": 0.5,
            "xref": "paper",
            "y": 1.4,
            "yref": "y"
           },
           {
            "showarrow": false,
            "text": "Completed Passes: 2,Turns: 0",
            "x": 21,
            "xref": "x",
            "y": 1.3,
            "yref": "y"
           },
           {
            "showarrow": false,
            "text": "Assist: GA, Goal:Anonymous",
            "x": 21,
            "xref": "x",
            "y": 1.4,
            "yref": "y"
           }
          ]
         },
         "name": "frame5"
        },
        {
         "data": [
          {
           "line": {
            "shape": "hvh"
           },
           "mode": "lines+markers",
           "type": "scatter",
           "x": [
            1,
            2,
            3,
            4,
            5,
            6
           ],
           "y": [
            1,
            -0.5,
            0.5,
            -0.5,
            0.5,
            -0.5
           ]
          }
         ],
         "layout": {
          "annotations": [
           {
            "font": {
             "color": "blue"
            },
            "text": "4M3W: FS,JL,MV,SH,EL,JV,SG",
            "x": 6,
            "xref": "x",
            "y": -0.5,
            "yref": "y"
           },
           {
            "font": {
             "color": "orange",
             "size": 18
            },
            "showarrow": false,
            "text": "FucZH 3-3 Wizards Geneva",
            "x": 0.5,
            "xref": "paper",
            "y": 1.4,
            "yref": "y"
           },
           {
            "showarrow": false,
            "text": "Completed Passes: 0,Turns: 0",
            "x": 21,
            "xref": "x",
            "y": 1.3,
            "yref": "y"
           }
          ]
         },
         "name": "frame6"
        },
        {
         "data": [
          {
           "line": {
            "shape": "hvh"
           },
           "mode": "lines+markers",
           "type": "scatter",
           "x": [
            1,
            2,
            3,
            4,
            5,
            6,
            7
           ],
           "y": [
            1,
            -0.5,
            0.5,
            -0.5,
            0.5,
            -0.5,
            0.5
           ]
          }
         ],
         "layout": {
          "annotations": [
           {
            "font": {
             "color": "blue"
            },
            "text": "4M3W: AY,SB,FS,CS,SH,LB,GA",
            "x": 7,
            "xref": "x",
            "y": 0.5,
            "yref": "y"
           },
           {
            "font": {
             "color": "orange",
             "size": 18
            },
            "showarrow": false,
            "text": "FucZH 4-3 Wizards Geneva",
            "x": 0.5,
            "xref": "paper",
            "y": 1.4,
            "yref": "y"
           },
           {
            "showarrow": false,
            "text": "Completed Passes: 8,Turns: 0",
            "x": 21,
            "xref": "x",
            "y": 1.3,
            "yref": "y"
           },
           {
            "showarrow": false,
            "text": "Assist: SH, Goal:GA",
            "x": 21,
            "xref": "x",
            "y": 1.4,
            "yref": "y"
           }
          ]
         },
         "name": "frame7"
        },
        {
         "data": [
          {
           "line": {
            "shape": "hvh"
           },
           "mode": "lines+markers",
           "type": "scatter",
           "x": [
            1,
            2,
            3,
            4,
            5,
            6,
            7,
            8
           ],
           "y": [
            1,
            -0.5,
            0.5,
            -0.5,
            0.5,
            -0.5,
            0.5,
            -0.5
           ]
          }
         ],
         "layout": {
          "annotations": [
           {
            "font": {
             "color": "blue"
            },
            "text": "4W3M: JL,AL,CC,LB,JV,JS,SG",
            "x": 8,
            "xref": "x",
            "y": -0.5,
            "yref": "y"
           },
           {
            "font": {
             "color": "orange",
             "size": 18
            },
            "showarrow": false,
            "text": "FucZH 4-4 Wizards Geneva",
            "x": 0.5,
            "xref": "paper",
            "y": 1.4,
            "yref": "y"
           },
           {
            "showarrow": false,
            "text": "Completed Passes: 3,Turns: 2",
            "x": 21,
            "xref": "x",
            "y": 1.3,
            "yref": "y"
           }
          ]
         },
         "name": "frame8"
        },
        {
         "data": [
          {
           "line": {
            "shape": "hvh"
           },
           "mode": "lines+markers",
           "type": "scatter",
           "x": [
            1,
            2,
            3,
            4,
            5,
            6,
            7,
            8,
            9
           ],
           "y": [
            1,
            -0.5,
            0.5,
            -0.5,
            0.5,
            -0.5,
            0.5,
            -0.5,
            0.5
           ]
          }
         ],
         "layout": {
          "annotations": [
           {
            "font": {
             "color": "blue"
            },
            "text": "4W3M: AY,SB,FS,JL,SH,EL,GA",
            "x": 9,
            "xref": "x",
            "y": 0.5,
            "yref": "y"
           },
           {
            "font": {
             "color": "orange",
             "size": 18
            },
            "showarrow": false,
            "text": "FucZH 5-4 Wizards Geneva",
            "x": 0.5,
            "xref": "paper",
            "y": 1.4,
            "yref": "y"
           },
           {
            "showarrow": false,
            "text": "Completed Passes: 4,Turns: 0",
            "x": 21,
            "xref": "x",
            "y": 1.3,
            "yref": "y"
           },
           {
            "showarrow": false,
            "text": "Assist: GA, Goal:Anonymous",
            "x": 21,
            "xref": "x",
            "y": 1.4,
            "yref": "y"
           }
          ]
         },
         "name": "frame9"
        },
        {
         "data": [
          {
           "line": {
            "shape": "hvh"
           },
           "mode": "lines+markers",
           "type": "scatter",
           "x": [
            1,
            2,
            3,
            4,
            5,
            6,
            7,
            8,
            9,
            10
           ],
           "y": [
            1,
            -0.5,
            0.5,
            -0.5,
            0.5,
            -0.5,
            0.5,
            -0.5,
            0.5,
            1
           ]
          }
         ],
         "layout": {
          "annotations": [
           {
            "font": {
             "color": "blue"
            },
            "text": "4W3M: MV,AL,CC,LB,JV,JS,SG",
            "x": 10,
            "xref": "x",
            "y": 1,
            "yref": "y"
           },
           {
            "font": {
             "color": "orange",
             "size": 18
            },
            "showarrow": false,
            "text": "FucZH 6-4 Wizards Geneva",
            "x": 0.5,
            "xref": "paper",
            "y": 1.4,
            "yref": "y"
           },
           {
            "showarrow": false,
            "text": "Completed Passes: 0,Turns: 1",
            "x": 21,
            "xref": "x",
            "y": 1.3,
            "yref": "y"
           },
           {
            "showarrow": false,
            "text": "Assist: None, Goal:JS",
            "x": 21,
            "xref": "x",
            "y": 1.4,
            "yref": "y"
           }
          ]
         },
         "name": "frame10"
        },
        {
         "data": [
          {
           "line": {
            "shape": "hvh"
           },
           "mode": "lines+markers",
           "type": "scatter",
           "x": [
            1,
            2,
            3,
            4,
            5,
            6,
            7,
            8,
            9,
            10,
            11
           ],
           "y": [
            1,
            -0.5,
            0.5,
            -0.5,
            0.5,
            -0.5,
            0.5,
            -0.5,
            0.5,
            1,
            -0.5
           ]
          }
         ],
         "layout": {
          "annotations": [
           {
            "font": {
             "color": "blue"
            },
            "text": "4M3W: JL,FS,AL,SH,EL,SG,GA",
            "x": 11,
            "xref": "x",
            "y": -0.5,
            "yref": "y"
           },
           {
            "font": {
             "color": "orange",
             "size": 18
            },
            "showarrow": false,
            "text": "FucZH 6-5 Wizards Geneva",
            "x": 0.5,
            "xref": "paper",
            "y": 1.4,
            "yref": "y"
           },
           {
            "showarrow": false,
            "text": "Completed Passes: 0,Turns: 2",
            "x": 21,
            "xref": "x",
            "y": 1.3,
            "yref": "y"
           }
          ]
         },
         "name": "frame11"
        },
        {
         "data": [
          {
           "line": {
            "shape": "hvh"
           },
           "mode": "lines+markers",
           "type": "scatter",
           "x": [
            1,
            2,
            3,
            4,
            5,
            6,
            7,
            8,
            9,
            10,
            11,
            12
           ],
           "y": [
            1,
            -0.5,
            0.5,
            -0.5,
            0.5,
            -0.5,
            0.5,
            -0.5,
            0.5,
            1,
            -0.5,
            0.5
           ]
          }
         ],
         "layout": {
          "annotations": [
           {
            "font": {
             "color": "blue"
            },
            "text": "4W3M: FS,SB,AY,MV,CC,SH,GA",
            "x": 12,
            "xref": "x",
            "y": 0.5,
            "yref": "y"
           },
           {
            "font": {
             "color": "orange",
             "size": 18
            },
            "showarrow": false,
            "text": "FucZH 7-5 Wizards Geneva",
            "x": 0.5,
            "xref": "paper",
            "y": 1.4,
            "yref": "y"
           },
           {
            "showarrow": false,
            "text": "Completed Passes: 12,Turns: 0",
            "x": 21,
            "xref": "x",
            "y": 1.3,
            "yref": "y"
           },
           {
            "showarrow": false,
            "text": "Assist: SH, Goal:GA",
            "x": 21,
            "xref": "x",
            "y": 1.4,
            "yref": "y"
           }
          ]
         },
         "name": "frame12"
        },
        {
         "data": [
          {
           "line": {
            "shape": "hvh"
           },
           "mode": "lines+markers",
           "type": "scatter",
           "x": [
            1,
            2,
            3,
            4,
            5,
            6,
            7,
            8,
            9,
            10,
            11,
            12,
            13
           ],
           "y": [
            1,
            -0.5,
            0.5,
            -0.5,
            0.5,
            -0.5,
            0.5,
            -0.5,
            0.5,
            1,
            -0.5,
            0.5,
            -0.5
           ]
          }
         ],
         "layout": {
          "annotations": [
           {
            "font": {
             "color": "blue"
            },
            "text": "4W3M: JL,AL,LB,EL,JS,JV,SG",
            "x": 13,
            "xref": "x",
            "y": -0.5,
            "yref": "y"
           },
           {
            "font": {
             "color": "orange",
             "size": 18
            },
            "showarrow": false,
            "text": "FucZH 7-6 Wizards Geneva",
            "x": 0.5,
            "xref": "paper",
            "y": 1.4,
            "yref": "y"
           },
           {
            "showarrow": false,
            "text": "Completed Passes: 3,Turns: 2",
            "x": 21,
            "xref": "x",
            "y": 1.3,
            "yref": "y"
           }
          ]
         },
         "name": "frame13"
        },
        {
         "data": [
          {
           "line": {
            "shape": "hvh"
           },
           "mode": "lines+markers",
           "type": "scatter",
           "x": [
            1,
            2,
            3,
            4,
            5,
            6,
            7,
            8,
            9,
            10,
            11,
            12,
            13,
            14
           ],
           "y": [
            1,
            -0.5,
            0.5,
            -0.5,
            0.5,
            -0.5,
            0.5,
            -0.5,
            0.5,
            1,
            -0.5,
            0.5,
            -0.5,
            0.5
           ]
          }
         ],
         "layout": {
          "annotations": [
           {
            "font": {
             "color": "blue"
            },
            "text": "4M3W: FS,SB,AY,MV,CS,SH,GA",
            "x": 14,
            "xref": "x",
            "y": 0.5,
            "yref": "y"
           },
           {
            "font": {
             "color": "orange",
             "size": 18
            },
            "showarrow": false,
            "text": "FucZH 8-6 Wizards Geneva",
            "x": 0.5,
            "xref": "paper",
            "y": 1.4,
            "yref": "y"
           },
           {
            "showarrow": false,
            "text": "Completed Passes: 23,Turns: 0",
            "x": 21,
            "xref": "x",
            "y": 1.3,
            "yref": "y"
           },
           {
            "showarrow": false,
            "text": "Assist: CS, Goal:FS",
            "x": 21,
            "xref": "x",
            "y": 1.4,
            "yref": "y"
           }
          ]
         },
         "name": "frame14"
        },
        {
         "data": [
          {
           "line": {
            "shape": "hvh"
           },
           "mode": "lines+markers",
           "type": "scatter",
           "x": [
            1,
            2,
            3,
            4,
            5,
            6,
            7,
            8,
            9,
            10,
            11,
            12,
            13,
            14,
            15
           ],
           "y": [
            1,
            -0.5,
            0.5,
            -0.5,
            0.5,
            -0.5,
            0.5,
            -0.5,
            0.5,
            1,
            -0.5,
            0.5,
            -0.5,
            0.5,
            0.5
           ]
          }
         ],
         "layout": {
          "annotations": [
           {
            "font": {
             "color": "blue"
            },
            "text": "4W3M: AY,FS,SB,AL,SH,LB,GA",
            "x": 15,
            "xref": "x",
            "y": 0.5,
            "yref": "y"
           },
           {
            "font": {
             "color": "orange",
             "size": 18
            },
            "showarrow": false,
            "text": "FucZH 9-6 Wizards Geneva",
            "x": 0.5,
            "xref": "paper",
            "y": 1.4,
            "yref": "y"
           },
           {
            "showarrow": false,
            "text": "Completed Passes: 8,Turns: 0",
            "x": 21,
            "xref": "x",
            "y": 1.3,
            "yref": "y"
           },
           {
            "showarrow": false,
            "text": "Assist: SH, Goal:AL",
            "x": 21,
            "xref": "x",
            "y": 1.4,
            "yref": "y"
           }
          ]
         },
         "name": "frame15"
        },
        {
         "data": [
          {
           "line": {
            "shape": "hvh"
           },
           "mode": "lines+markers",
           "type": "scatter",
           "x": [
            1,
            2,
            3,
            4,
            5,
            6,
            7,
            8,
            9,
            10,
            11,
            12,
            13,
            14,
            15,
            16
           ],
           "y": [
            1,
            -0.5,
            0.5,
            -0.5,
            0.5,
            -0.5,
            0.5,
            -0.5,
            0.5,
            1,
            -0.5,
            0.5,
            -0.5,
            0.5,
            0.5,
            -0.5
           ]
          }
         ],
         "layout": {
          "annotations": [
           {
            "font": {
             "color": "blue"
            },
            "text": "4M3W: JL,CS,CC,EL,JS,JV,SG",
            "x": 16,
            "xref": "x",
            "y": -0.5,
            "yref": "y"
           },
           {
            "font": {
             "color": "orange",
             "size": 18
            },
            "showarrow": false,
            "text": "FucZH 9-7 Wizards Geneva",
            "x": 0.5,
            "xref": "paper",
            "y": 1.4,
            "yref": "y"
           },
           {
            "showarrow": false,
            "text": "Completed Passes: 0,Turns: 0",
            "x": 21,
            "xref": "x",
            "y": 1.3,
            "yref": "y"
           }
          ]
         },
         "name": "frame16"
        },
        {
         "data": [
          {
           "line": {
            "shape": "hvh"
           },
           "mode": "lines+markers",
           "type": "scatter",
           "x": [
            1,
            2,
            3,
            4,
            5,
            6,
            7,
            8,
            9,
            10,
            11,
            12,
            13,
            14,
            15,
            16,
            17
           ],
           "y": [
            1,
            -0.5,
            0.5,
            -0.5,
            0.5,
            -0.5,
            0.5,
            -0.5,
            0.5,
            1,
            -0.5,
            0.5,
            -0.5,
            0.5,
            0.5,
            -0.5,
            0.5
           ]
          }
         ],
         "layout": {
          "annotations": [
           {
            "font": {
             "color": "blue"
            },
            "text": "4W3M: AY,FS,SB,AL,SH,LB,GA",
            "x": 17,
            "xref": "x",
            "y": 0.5,
            "yref": "y"
           },
           {
            "font": {
             "color": "orange",
             "size": 18
            },
            "showarrow": false,
            "text": "FucZH 10-7 Wizards Geneva",
            "x": 0.5,
            "xref": "paper",
            "y": 1.4,
            "yref": "y"
           },
           {
            "showarrow": false,
            "text": "Completed Passes: 20,Turns: 2",
            "x": 21,
            "xref": "x",
            "y": 1.3,
            "yref": "y"
           },
           {
            "showarrow": false,
            "text": "Assist: SH, Goal:AY",
            "x": 21,
            "xref": "x",
            "y": 1.4,
            "yref": "y"
           }
          ]
         },
         "name": "frame17"
        },
        {
         "data": [
          {
           "line": {
            "shape": "hvh"
           },
           "mode": "lines+markers",
           "type": "scatter",
           "x": [
            1,
            2,
            3,
            4,
            5,
            6,
            7,
            8,
            9,
            10,
            11,
            12,
            13,
            14,
            15,
            16,
            17,
            18
           ],
           "y": [
            1,
            -0.5,
            0.5,
            -0.5,
            0.5,
            -0.5,
            0.5,
            -0.5,
            0.5,
            1,
            -0.5,
            0.5,
            -0.5,
            0.5,
            0.5,
            -0.5,
            0.5,
            1
           ]
          }
         ],
         "layout": {
          "annotations": [
           {
            "font": {
             "color": "blue"
            },
            "text": "4M3W: MV,CC,CS,EL,JS,JV,SG",
            "x": 18,
            "xref": "x",
            "y": 1,
            "yref": "y"
           },
           {
            "font": {
             "color": "orange",
             "size": 18
            },
            "showarrow": false,
            "text": "FucZH 11-7 Wizards Geneva",
            "x": 0.5,
            "xref": "paper",
            "y": 1.4,
            "yref": "y"
           },
           {
            "showarrow": false,
            "text": "Completed Passes: 4,Turns: 3",
            "x": 21,
            "xref": "x",
            "y": 1.3,
            "yref": "y"
           },
           {
            "showarrow": false,
            "text": "Assist: EL, Goal:Anonymous",
            "x": 21,
            "xref": "x",
            "y": 1.4,
            "yref": "y"
           }
          ]
         },
         "name": "frame18"
        },
        {
         "data": [
          {
           "line": {
            "shape": "hvh"
           },
           "mode": "lines+markers",
           "type": "scatter",
           "x": [
            1,
            2,
            3,
            4,
            5,
            6,
            7,
            8,
            9,
            10,
            11,
            12,
            13,
            14,
            15,
            16,
            17,
            18,
            19
           ],
           "y": [
            1,
            -0.5,
            0.5,
            -0.5,
            0.5,
            -0.5,
            0.5,
            -0.5,
            0.5,
            1,
            -0.5,
            0.5,
            -0.5,
            0.5,
            0.5,
            -0.5,
            0.5,
            1,
            -0.5
           ]
          }
         ],
         "layout": {
          "annotations": [
           {
            "font": {
             "color": "blue"
            },
            "text": "4M3W: JL,MV,AL,JS,JV,GA,SG",
            "x": 19,
            "xref": "x",
            "y": -0.5,
            "yref": "y"
           },
           {
            "font": {
             "color": "orange",
             "size": 18
            },
            "showarrow": false,
            "text": "FucZH 11-8 Wizards Geneva",
            "x": 0.5,
            "xref": "paper",
            "y": 1.4,
            "yref": "y"
           },
           {
            "showarrow": false,
            "text": "Completed Passes: 0,Turns: 0",
            "x": 21,
            "xref": "x",
            "y": 1.3,
            "yref": "y"
           }
          ]
         },
         "name": "frame19"
        },
        {
         "data": [
          {
           "line": {
            "shape": "hvh"
           },
           "mode": "lines+markers",
           "type": "scatter",
           "x": [
            1,
            2,
            3,
            4,
            5,
            6,
            7,
            8,
            9,
            10,
            11,
            12,
            13,
            14,
            15,
            16,
            17,
            18,
            19,
            20
           ],
           "y": [
            1,
            -0.5,
            0.5,
            -0.5,
            0.5,
            -0.5,
            0.5,
            -0.5,
            0.5,
            1,
            -0.5,
            0.5,
            -0.5,
            0.5,
            0.5,
            -0.5,
            0.5,
            1,
            -0.5,
            -1
           ]
          }
         ],
         "layout": {
          "annotations": [
           {
            "font": {
             "color": "blue"
            },
            "text": "4W3M: AY,FS,SB,CC,SH,LB,GA",
            "x": 20,
            "xref": "x",
            "y": -1,
            "yref": "y"
           },
           {
            "font": {
             "color": "orange",
             "size": 18
            },
            "showarrow": false,
            "text": "FucZH 11-9 Wizards Geneva",
            "x": 0.5,
            "xref": "paper",
            "y": 1.4,
            "yref": "y"
           },
           {
            "showarrow": false,
            "text": "Completed Passes: 24,Turns: 5",
            "x": 21,
            "xref": "x",
            "y": 1.3,
            "yref": "y"
           }
          ]
         },
         "name": "frame20"
        },
        {
         "data": [
          {
           "line": {
            "shape": "hvh"
           },
           "mode": "lines+markers",
           "type": "scatter",
           "x": [
            1,
            2,
            3,
            4,
            5,
            6,
            7,
            8,
            9,
            10,
            11,
            12,
            13,
            14,
            15,
            16,
            17,
            18,
            19,
            20,
            21
           ],
           "y": [
            1,
            -0.5,
            0.5,
            -0.5,
            0.5,
            -0.5,
            0.5,
            -0.5,
            0.5,
            1,
            -0.5,
            0.5,
            -0.5,
            0.5,
            0.5,
            -0.5,
            0.5,
            1,
            -0.5,
            -1,
            0.5
           ]
          }
         ],
         "layout": {
          "annotations": [
           {
            "font": {
             "color": "blue"
            },
            "text": "4W3M: AY,JL,AL,CS,SH,EL,GA",
            "x": 21,
            "xref": "x",
            "y": 0.5,
            "yref": "y"
           },
           {
            "font": {
             "color": "orange",
             "size": 18
            },
            "showarrow": false,
            "text": "FucZH 12-9 Wizards Geneva",
            "x": 0.5,
            "xref": "paper",
            "y": 1.4,
            "yref": "y"
           },
           {
            "showarrow": false,
            "text": "Completed Passes: 11,Turns: 0",
            "x": 21,
            "xref": "x",
            "y": 1.3,
            "yref": "y"
           },
           {
            "showarrow": false,
            "text": "Assist: SH, Goal:EL",
            "x": 21,
            "xref": "x",
            "y": 1.4,
            "yref": "y"
           }
          ]
         },
         "name": "frame21"
        },
        {
         "data": [
          {
           "line": {
            "shape": "hvh"
           },
           "mode": "lines+markers",
           "type": "scatter",
           "x": [
            1,
            2,
            3,
            4,
            5,
            6,
            7,
            8,
            9,
            10,
            11,
            12,
            13,
            14,
            15,
            16,
            17,
            18,
            19,
            20,
            21,
            22
           ],
           "y": [
            1,
            -0.5,
            0.5,
            -0.5,
            0.5,
            -0.5,
            0.5,
            -0.5,
            0.5,
            1,
            -0.5,
            0.5,
            -0.5,
            0.5,
            0.5,
            -0.5,
            0.5,
            1,
            -0.5,
            -1,
            0.5,
            -0.5
           ]
          }
         ],
         "layout": {
          "annotations": [
           {
            "font": {
             "color": "blue"
            },
            "text": "4M3W: SB,MV,CC,CS,JS,JV,SG",
            "x": 22,
            "xref": "x",
            "y": -0.5,
            "yref": "y"
           },
           {
            "font": {
             "color": "orange",
             "size": 18
            },
            "showarrow": false,
            "text": "FucZH 12-10 Wizards Geneva",
            "x": 0.5,
            "xref": "paper",
            "y": 1.4,
            "yref": "y"
           },
           {
            "showarrow": false,
            "text": "Completed Passes: 0,Turns: 0",
            "x": 21,
            "xref": "x",
            "y": 1.3,
            "yref": "y"
           }
          ]
         },
         "name": "frame22"
        },
        {
         "data": [
          {
           "line": {
            "shape": "hvh"
           },
           "mode": "lines+markers",
           "type": "scatter",
           "x": [
            1,
            2,
            3,
            4,
            5,
            6,
            7,
            8,
            9,
            10,
            11,
            12,
            13,
            14,
            15,
            16,
            17,
            18,
            19,
            20,
            21,
            22,
            23
           ],
           "y": [
            1,
            -0.5,
            0.5,
            -0.5,
            0.5,
            -0.5,
            0.5,
            -0.5,
            0.5,
            1,
            -0.5,
            0.5,
            -0.5,
            0.5,
            0.5,
            -0.5,
            0.5,
            1,
            -0.5,
            -1,
            0.5,
            -0.5,
            -1
           ]
          }
         ],
         "layout": {
          "annotations": [
           {
            "font": {
             "color": "blue"
            },
            "text": "4M3W: FS,JL,AL,CS,SH,EL,GA",
            "x": 23,
            "xref": "x",
            "y": -1,
            "yref": "y"
           },
           {
            "font": {
             "color": "orange",
             "size": 18
            },
            "showarrow": false,
            "text": "FucZH 12-11 Wizards Geneva",
            "x": 0.5,
            "xref": "paper",
            "y": 1.4,
            "yref": "y"
           },
           {
            "showarrow": false,
            "text": "Completed Passes: 5,Turns: 1",
            "x": 21,
            "xref": "x",
            "y": 1.3,
            "yref": "y"
           }
          ]
         },
         "name": "frame23"
        }
       ],
       "layout": {
        "height": 600,
        "hovermode": "closest",
        "images": [
         {
          "sizex": 0.2,
          "sizey": 0.2,
          "source": "https://raw.githubusercontent.com/elastufka/presentations/master/images/ZU_logo1.png",
          "x": 0,
          "xanchor": "right",
          "xref": "paper",
          "y": 1.05,
          "yanchor": "bottom",
          "yref": "paper"
         }
        ],
        "sliders": [
         {
          "active": 0,
          "currentvalue": {
           "font": {
            "size": 14
           },
           "prefix": "Point:",
           "visible": true,
           "xanchor": "right"
          },
          "len": 0.9,
          "pad": {
           "b": 10,
           "t": 10
          },
          "steps": [
           {
            "args": [
             [
              "frame1"
             ],
             {
              "frame": {
               "duration": 300,
               "redraw": false
              },
              "mode": "immediate",
              "transition": {
               "duration": 300
              }
             }
            ],
            "label": "1",
            "method": "animate"
           },
           {
            "args": [
             [
              "frame2"
             ],
             {
              "frame": {
               "duration": 300,
               "redraw": false
              },
              "mode": "immediate",
              "transition": {
               "duration": 300
              }
             }
            ],
            "label": "2",
            "method": "animate"
           },
           {
            "args": [
             [
              "frame3"
             ],
             {
              "frame": {
               "duration": 300,
               "redraw": false
              },
              "mode": "immediate",
              "transition": {
               "duration": 300
              }
             }
            ],
            "label": "3",
            "method": "animate"
           },
           {
            "args": [
             [
              "frame4"
             ],
             {
              "frame": {
               "duration": 300,
               "redraw": false
              },
              "mode": "immediate",
              "transition": {
               "duration": 300
              }
             }
            ],
            "label": "4",
            "method": "animate"
           },
           {
            "args": [
             [
              "frame5"
             ],
             {
              "frame": {
               "duration": 300,
               "redraw": false
              },
              "mode": "immediate",
              "transition": {
               "duration": 300
              }
             }
            ],
            "label": "5",
            "method": "animate"
           },
           {
            "args": [
             [
              "frame6"
             ],
             {
              "frame": {
               "duration": 300,
               "redraw": false
              },
              "mode": "immediate",
              "transition": {
               "duration": 300
              }
             }
            ],
            "label": "6",
            "method": "animate"
           },
           {
            "args": [
             [
              "frame7"
             ],
             {
              "frame": {
               "duration": 300,
               "redraw": false
              },
              "mode": "immediate",
              "transition": {
               "duration": 300
              }
             }
            ],
            "label": "7",
            "method": "animate"
           },
           {
            "args": [
             [
              "frame8"
             ],
             {
              "frame": {
               "duration": 300,
               "redraw": false
              },
              "mode": "immediate",
              "transition": {
               "duration": 300
              }
             }
            ],
            "label": "8",
            "method": "animate"
           },
           {
            "args": [
             [
              "frame9"
             ],
             {
              "frame": {
               "duration": 300,
               "redraw": false
              },
              "mode": "immediate",
              "transition": {
               "duration": 300
              }
             }
            ],
            "label": "9",
            "method": "animate"
           },
           {
            "args": [
             [
              "frame10"
             ],
             {
              "frame": {
               "duration": 300,
               "redraw": false
              },
              "mode": "immediate",
              "transition": {
               "duration": 300
              }
             }
            ],
            "label": "10",
            "method": "animate"
           },
           {
            "args": [
             [
              "frame11"
             ],
             {
              "frame": {
               "duration": 300,
               "redraw": false
              },
              "mode": "immediate",
              "transition": {
               "duration": 300
              }
             }
            ],
            "label": "11",
            "method": "animate"
           },
           {
            "args": [
             [
              "frame12"
             ],
             {
              "frame": {
               "duration": 300,
               "redraw": false
              },
              "mode": "immediate",
              "transition": {
               "duration": 300
              }
             }
            ],
            "label": "12",
            "method": "animate"
           },
           {
            "args": [
             [
              "frame13"
             ],
             {
              "frame": {
               "duration": 300,
               "redraw": false
              },
              "mode": "immediate",
              "transition": {
               "duration": 300
              }
             }
            ],
            "label": "13",
            "method": "animate"
           },
           {
            "args": [
             [
              "frame14"
             ],
             {
              "frame": {
               "duration": 300,
               "redraw": false
              },
              "mode": "immediate",
              "transition": {
               "duration": 300
              }
             }
            ],
            "label": "14",
            "method": "animate"
           },
           {
            "args": [
             [
              "frame15"
             ],
             {
              "frame": {
               "duration": 300,
               "redraw": false
              },
              "mode": "immediate",
              "transition": {
               "duration": 300
              }
             }
            ],
            "label": "15",
            "method": "animate"
           },
           {
            "args": [
             [
              "frame16"
             ],
             {
              "frame": {
               "duration": 300,
               "redraw": false
              },
              "mode": "immediate",
              "transition": {
               "duration": 300
              }
             }
            ],
            "label": "16",
            "method": "animate"
           },
           {
            "args": [
             [
              "frame17"
             ],
             {
              "frame": {
               "duration": 300,
               "redraw": false
              },
              "mode": "immediate",
              "transition": {
               "duration": 300
              }
             }
            ],
            "label": "17",
            "method": "animate"
           },
           {
            "args": [
             [
              "frame18"
             ],
             {
              "frame": {
               "duration": 300,
               "redraw": false
              },
              "mode": "immediate",
              "transition": {
               "duration": 300
              }
             }
            ],
            "label": "18",
            "method": "animate"
           },
           {
            "args": [
             [
              "frame19"
             ],
             {
              "frame": {
               "duration": 300,
               "redraw": false
              },
              "mode": "immediate",
              "transition": {
               "duration": 300
              }
             }
            ],
            "label": "19",
            "method": "animate"
           },
           {
            "args": [
             [
              "frame20"
             ],
             {
              "frame": {
               "duration": 300,
               "redraw": false
              },
              "mode": "immediate",
              "transition": {
               "duration": 300
              }
             }
            ],
            "label": "20",
            "method": "animate"
           },
           {
            "args": [
             [
              "frame21"
             ],
             {
              "frame": {
               "duration": 300,
               "redraw": false
              },
              "mode": "immediate",
              "transition": {
               "duration": 300
              }
             }
            ],
            "label": "21",
            "method": "animate"
           },
           {
            "args": [
             [
              "frame22"
             ],
             {
              "frame": {
               "duration": 300,
               "redraw": false
              },
              "mode": "immediate",
              "transition": {
               "duration": 300
              }
             }
            ],
            "label": "22",
            "method": "animate"
           },
           {
            "args": [
             [
              "frame23"
             ],
             {
              "frame": {
               "duration": 300,
               "redraw": false
              },
              "mode": "immediate",
              "transition": {
               "duration": 300
              }
             }
            ],
            "label": "23",
            "method": "animate"
           }
          ],
          "transition": {
           "duration": 300,
           "easing": "cubic-in-out"
          },
          "x": 1,
          "xanchor": "right",
          "y": -0.4,
          "yanchor": "bottom"
         }
        ],
        "template": {
         "layout": {
          "colorway": [
           "#000000",
           "#784F17",
           "#FF0018",
           "#FFA52C",
           "#FFFF41",
           "#008018",
           "#0000F9",
           "#86007D"
          ],
          "plot_bgcolor": "lightgrey"
         }
        },
        "title": {
         "text": "Game Flow"
        },
        "updatemenus": [
         {
          "buttons": [
           {
            "args": [
             null,
             {
              "frame": {
               "duration": 500,
               "redraw": false
              },
              "fromcurrent": true,
              "transition": {
               "duration": 300,
               "easing": "quadratic-in-out"
              }
             }
            ],
            "label": "Play",
            "method": "animate"
           },
           {
            "args": [
             [
              null
             ],
             {
              "frame": {
               "duration": 0,
               "redraw": false
              },
              "mode": "immediate",
              "transition": {
               "duration": 0
              }
             }
            ],
            "label": "Pause",
            "method": "animate"
           }
          ],
          "direction": "left",
          "pad": {
           "r": 10,
           "t": 87
          },
          "showactive": false,
          "type": "buttons",
          "x": 0.1,
          "xanchor": "right",
          "y": 0,
          "yanchor": "top"
         }
        ],
        "width": 850,
        "xaxis": {
         "range": [
          0.5,
          24.5
         ],
         "title": {
          "text": "Points"
         }
        },
        "yaxis": {
         "range": [
          -1.1,
          1.5
         ],
         "ticktext": [
          "Their Break",
          "Their Hold",
          "",
          "Our Hold",
          "Our Break"
         ],
         "tickvals": [
          -1,
          -0.5,
          0,
          0.5,
          1
         ],
         "title": {
          "text": "Point Type"
         }
        }
       }
      },
      "text/html": [
       "<div>                            <div id=\"a4f896b8-56c6-41cf-a8f8-e9cd9305c6a6\" class=\"plotly-graph-div\" style=\"height:600px; width:850px;\"></div>            <script type=\"text/javascript\">                require([\"plotly\"], function(Plotly) {                    window.PLOTLYENV=window.PLOTLYENV || {};                                    if (document.getElementById(\"a4f896b8-56c6-41cf-a8f8-e9cd9305c6a6\")) {                    Plotly.newPlot(                        \"a4f896b8-56c6-41cf-a8f8-e9cd9305c6a6\",                        [{\"mode\":\"lines+markers\",\"type\":\"scatter\",\"x\":[0],\"y\":[0]}],                        {\"height\":600,\"hovermode\":\"closest\",\"images\":[{\"sizex\":0.2,\"sizey\":0.2,\"source\":\"https://raw.githubusercontent.com/elastufka/presentations/master/images/ZU_logo1.png\",\"x\":0,\"xanchor\":\"right\",\"xref\":\"paper\",\"y\":1.05,\"yanchor\":\"bottom\",\"yref\":\"paper\"}],\"sliders\":[{\"active\":0,\"currentvalue\":{\"font\":{\"size\":14},\"prefix\":\"Point:\",\"visible\":true,\"xanchor\":\"right\"},\"len\":0.9,\"pad\":{\"b\":10,\"t\":10},\"steps\":[{\"args\":[[\"frame1\"],{\"frame\":{\"duration\":300,\"redraw\":false},\"mode\":\"immediate\",\"transition\":{\"duration\":300}}],\"label\":\"1\",\"method\":\"animate\"},{\"args\":[[\"frame2\"],{\"frame\":{\"duration\":300,\"redraw\":false},\"mode\":\"immediate\",\"transition\":{\"duration\":300}}],\"label\":\"2\",\"method\":\"animate\"},{\"args\":[[\"frame3\"],{\"frame\":{\"duration\":300,\"redraw\":false},\"mode\":\"immediate\",\"transition\":{\"duration\":300}}],\"label\":\"3\",\"method\":\"animate\"},{\"args\":[[\"frame4\"],{\"frame\":{\"duration\":300,\"redraw\":false},\"mode\":\"immediate\",\"transition\":{\"duration\":300}}],\"label\":\"4\",\"method\":\"animate\"},{\"args\":[[\"frame5\"],{\"frame\":{\"duration\":300,\"redraw\":false},\"mode\":\"immediate\",\"transition\":{\"duration\":300}}],\"label\":\"5\",\"method\":\"animate\"},{\"args\":[[\"frame6\"],{\"frame\":{\"duration\":300,\"redraw\":false},\"mode\":\"immediate\",\"transition\":{\"duration\":300}}],\"label\":\"6\",\"method\":\"animate\"},{\"args\":[[\"frame7\"],{\"frame\":{\"duration\":300,\"redraw\":false},\"mode\":\"immediate\",\"transition\":{\"duration\":300}}],\"label\":\"7\",\"method\":\"animate\"},{\"args\":[[\"frame8\"],{\"frame\":{\"duration\":300,\"redraw\":false},\"mode\":\"immediate\",\"transition\":{\"duration\":300}}],\"label\":\"8\",\"method\":\"animate\"},{\"args\":[[\"frame9\"],{\"frame\":{\"duration\":300,\"redraw\":false},\"mode\":\"immediate\",\"transition\":{\"duration\":300}}],\"label\":\"9\",\"method\":\"animate\"},{\"args\":[[\"frame10\"],{\"frame\":{\"duration\":300,\"redraw\":false},\"mode\":\"immediate\",\"transition\":{\"duration\":300}}],\"label\":\"10\",\"method\":\"animate\"},{\"args\":[[\"frame11\"],{\"frame\":{\"duration\":300,\"redraw\":false},\"mode\":\"immediate\",\"transition\":{\"duration\":300}}],\"label\":\"11\",\"method\":\"animate\"},{\"args\":[[\"frame12\"],{\"frame\":{\"duration\":300,\"redraw\":false},\"mode\":\"immediate\",\"transition\":{\"duration\":300}}],\"label\":\"12\",\"method\":\"animate\"},{\"args\":[[\"frame13\"],{\"frame\":{\"duration\":300,\"redraw\":false},\"mode\":\"immediate\",\"transition\":{\"duration\":300}}],\"label\":\"13\",\"method\":\"animate\"},{\"args\":[[\"frame14\"],{\"frame\":{\"duration\":300,\"redraw\":false},\"mode\":\"immediate\",\"transition\":{\"duration\":300}}],\"label\":\"14\",\"method\":\"animate\"},{\"args\":[[\"frame15\"],{\"frame\":{\"duration\":300,\"redraw\":false},\"mode\":\"immediate\",\"transition\":{\"duration\":300}}],\"label\":\"15\",\"method\":\"animate\"},{\"args\":[[\"frame16\"],{\"frame\":{\"duration\":300,\"redraw\":false},\"mode\":\"immediate\",\"transition\":{\"duration\":300}}],\"label\":\"16\",\"method\":\"animate\"},{\"args\":[[\"frame17\"],{\"frame\":{\"duration\":300,\"redraw\":false},\"mode\":\"immediate\",\"transition\":{\"duration\":300}}],\"label\":\"17\",\"method\":\"animate\"},{\"args\":[[\"frame18\"],{\"frame\":{\"duration\":300,\"redraw\":false},\"mode\":\"immediate\",\"transition\":{\"duration\":300}}],\"label\":\"18\",\"method\":\"animate\"},{\"args\":[[\"frame19\"],{\"frame\":{\"duration\":300,\"redraw\":false},\"mode\":\"immediate\",\"transition\":{\"duration\":300}}],\"label\":\"19\",\"method\":\"animate\"},{\"args\":[[\"frame20\"],{\"frame\":{\"duration\":300,\"redraw\":false},\"mode\":\"immediate\",\"transition\":{\"duration\":300}}],\"label\":\"20\",\"method\":\"animate\"},{\"args\":[[\"frame21\"],{\"frame\":{\"duration\":300,\"redraw\":false},\"mode\":\"immediate\",\"transition\":{\"duration\":300}}],\"label\":\"21\",\"method\":\"animate\"},{\"args\":[[\"frame22\"],{\"frame\":{\"duration\":300,\"redraw\":false},\"mode\":\"immediate\",\"transition\":{\"duration\":300}}],\"label\":\"22\",\"method\":\"animate\"},{\"args\":[[\"frame23\"],{\"frame\":{\"duration\":300,\"redraw\":false},\"mode\":\"immediate\",\"transition\":{\"duration\":300}}],\"label\":\"23\",\"method\":\"animate\"}],\"transition\":{\"duration\":300,\"easing\":\"cubic-in-out\"},\"x\":1,\"xanchor\":\"right\",\"y\":-0.4,\"yanchor\":\"bottom\"}],\"template\":{\"layout\":{\"colorway\":[\"#000000\",\"#784F17\",\"#FF0018\",\"#FFA52C\",\"#FFFF41\",\"#008018\",\"#0000F9\",\"#86007D\"],\"plot_bgcolor\":\"lightgrey\"}},\"title\":{\"text\":\"Game Flow\"},\"updatemenus\":[{\"buttons\":[{\"args\":[null,{\"frame\":{\"duration\":500,\"redraw\":false},\"fromcurrent\":true,\"transition\":{\"duration\":300,\"easing\":\"quadratic-in-out\"}}],\"label\":\"Play\",\"method\":\"animate\"},{\"args\":[[null],{\"frame\":{\"duration\":0,\"redraw\":false},\"mode\":\"immediate\",\"transition\":{\"duration\":0}}],\"label\":\"Pause\",\"method\":\"animate\"}],\"direction\":\"left\",\"pad\":{\"r\":10,\"t\":87},\"showactive\":false,\"type\":\"buttons\",\"x\":0.1,\"xanchor\":\"right\",\"y\":0,\"yanchor\":\"top\"}],\"width\":850,\"xaxis\":{\"range\":[0.5,24.5],\"title\":{\"text\":\"Points\"}},\"yaxis\":{\"range\":[-1.1,1.5],\"ticktext\":[\"Their Break\",\"Their Hold\",\"\",\"Our Hold\",\"Our Break\"],\"tickvals\":[-1,-0.5,0,0.5,1],\"title\":{\"text\":\"Point Type\"}}},                        {\"responsive\": true}                    ).then(function(){\n",
       "                            Plotly.addFrames('a4f896b8-56c6-41cf-a8f8-e9cd9305c6a6', [{\"data\":[{\"line\":{\"shape\":\"hv\"},\"mode\":\"lines+markers\",\"type\":\"scatter\",\"x\":[0],\"y\":[0]}],\"name\":\"frame0\"},{\"data\":[{\"line\":{\"shape\":\"hvh\"},\"mode\":\"lines+markers\",\"type\":\"scatter\",\"x\":[1],\"y\":[1.0]}],\"layout\":{\"annotations\":[{\"font\":{\"color\":\"blue\"},\"text\":\"4W3M: JL,MV,CC,LB,JV,JS,SG\",\"x\":1,\"xref\":\"x\",\"y\":1.0,\"yref\":\"y\"},{\"font\":{\"color\":\"orange\",\"size\":18},\"showarrow\":false,\"text\":\"FucZH 1-0 Wizards Geneva\",\"x\":0.5,\"xref\":\"paper\",\"y\":1.4,\"yref\":\"y\"},{\"showarrow\":false,\"text\":\"Completed Passes: 0,Turns: 1\",\"x\":21,\"xref\":\"x\",\"y\":1.3,\"yref\":\"y\"},{\"showarrow\":false,\"text\":\"Assist: None, Goal:JV\",\"x\":21,\"xref\":\"x\",\"y\":1.4,\"yref\":\"y\"}]},\"name\":\"frame1\"},{\"data\":[{\"line\":{\"shape\":\"hvh\"},\"mode\":\"lines+markers\",\"type\":\"scatter\",\"x\":[1,2],\"y\":[1.0,-0.5]}],\"layout\":{\"annotations\":[{\"font\":{\"color\":\"blue\"},\"text\":\"4M3W: SB,MV,CS,EL,JV,JS,SG\",\"x\":2,\"xref\":\"x\",\"y\":-0.5,\"yref\":\"y\"},{\"font\":{\"color\":\"orange\",\"size\":18},\"showarrow\":false,\"text\":\"FucZH 1-1 Wizards Geneva\",\"x\":0.5,\"xref\":\"paper\",\"y\":1.4,\"yref\":\"y\"},{\"showarrow\":false,\"text\":\"Completed Passes: 0,Turns: 0\",\"x\":21,\"xref\":\"x\",\"y\":1.3,\"yref\":\"y\"}]},\"name\":\"frame2\"},{\"data\":[{\"line\":{\"shape\":\"hvh\"},\"mode\":\"lines+markers\",\"type\":\"scatter\",\"x\":[1,2,3],\"y\":[1.0,-0.5,0.5]}],\"layout\":{\"annotations\":[{\"font\":{\"color\":\"blue\"},\"text\":\"4M3W: SB,AY,FS,AL,CS,SH,GA\",\"x\":3,\"xref\":\"x\",\"y\":0.5,\"yref\":\"y\"},{\"font\":{\"color\":\"orange\",\"size\":18},\"showarrow\":false,\"text\":\"FucZH 2-1 Wizards Geneva\",\"x\":0.5,\"xref\":\"paper\",\"y\":1.4,\"yref\":\"y\"},{\"showarrow\":false,\"text\":\"Completed Passes: 3,Turns: 0\",\"x\":21,\"xref\":\"x\",\"y\":1.3,\"yref\":\"y\"},{\"showarrow\":false,\"text\":\"Assist: FS, Goal:Anonymous\",\"x\":21,\"xref\":\"x\",\"y\":1.4,\"yref\":\"y\"}]},\"name\":\"frame3\"},{\"data\":[{\"line\":{\"shape\":\"hvh\"},\"mode\":\"lines+markers\",\"type\":\"scatter\",\"x\":[1,2,3,4],\"y\":[1.0,-0.5,0.5,-0.5]}],\"layout\":{\"annotations\":[{\"font\":{\"color\":\"blue\"},\"text\":\"4W3M: JL,MV,CC,EL,JV,JS,SG\",\"x\":4,\"xref\":\"x\",\"y\":-0.5,\"yref\":\"y\"},{\"font\":{\"color\":\"orange\",\"size\":18},\"showarrow\":false,\"text\":\"FucZH 2-2 Wizards Geneva\",\"x\":0.5,\"xref\":\"paper\",\"y\":1.4,\"yref\":\"y\"},{\"showarrow\":false,\"text\":\"Completed Passes: 5,Turns: 2\",\"x\":21,\"xref\":\"x\",\"y\":1.3,\"yref\":\"y\"}]},\"name\":\"frame4\"},{\"data\":[{\"line\":{\"shape\":\"hvh\"},\"mode\":\"lines+markers\",\"type\":\"scatter\",\"x\":[1,2,3,4,5],\"y\":[1.0,-0.5,0.5,-0.5,0.5]}],\"layout\":{\"annotations\":[{\"font\":{\"color\":\"blue\"},\"text\":\"4W3M: AY,SB,AL,CS,SH,LB,GA\",\"x\":5,\"xref\":\"x\",\"y\":0.5,\"yref\":\"y\"},{\"font\":{\"color\":\"orange\",\"size\":18},\"showarrow\":false,\"text\":\"FucZH 3-2 Wizards Geneva\",\"x\":0.5,\"xref\":\"paper\",\"y\":1.4,\"yref\":\"y\"},{\"showarrow\":false,\"text\":\"Completed Passes: 2,Turns: 0\",\"x\":21,\"xref\":\"x\",\"y\":1.3,\"yref\":\"y\"},{\"showarrow\":false,\"text\":\"Assist: GA, Goal:Anonymous\",\"x\":21,\"xref\":\"x\",\"y\":1.4,\"yref\":\"y\"}]},\"name\":\"frame5\"},{\"data\":[{\"line\":{\"shape\":\"hvh\"},\"mode\":\"lines+markers\",\"type\":\"scatter\",\"x\":[1,2,3,4,5,6],\"y\":[1.0,-0.5,0.5,-0.5,0.5,-0.5]}],\"layout\":{\"annotations\":[{\"font\":{\"color\":\"blue\"},\"text\":\"4M3W: FS,JL,MV,SH,EL,JV,SG\",\"x\":6,\"xref\":\"x\",\"y\":-0.5,\"yref\":\"y\"},{\"font\":{\"color\":\"orange\",\"size\":18},\"showarrow\":false,\"text\":\"FucZH 3-3 Wizards Geneva\",\"x\":0.5,\"xref\":\"paper\",\"y\":1.4,\"yref\":\"y\"},{\"showarrow\":false,\"text\":\"Completed Passes: 0,Turns: 0\",\"x\":21,\"xref\":\"x\",\"y\":1.3,\"yref\":\"y\"}]},\"name\":\"frame6\"},{\"data\":[{\"line\":{\"shape\":\"hvh\"},\"mode\":\"lines+markers\",\"type\":\"scatter\",\"x\":[1,2,3,4,5,6,7],\"y\":[1.0,-0.5,0.5,-0.5,0.5,-0.5,0.5]}],\"layout\":{\"annotations\":[{\"font\":{\"color\":\"blue\"},\"text\":\"4M3W: AY,SB,FS,CS,SH,LB,GA\",\"x\":7,\"xref\":\"x\",\"y\":0.5,\"yref\":\"y\"},{\"font\":{\"color\":\"orange\",\"size\":18},\"showarrow\":false,\"text\":\"FucZH 4-3 Wizards Geneva\",\"x\":0.5,\"xref\":\"paper\",\"y\":1.4,\"yref\":\"y\"},{\"showarrow\":false,\"text\":\"Completed Passes: 8,Turns: 0\",\"x\":21,\"xref\":\"x\",\"y\":1.3,\"yref\":\"y\"},{\"showarrow\":false,\"text\":\"Assist: SH, Goal:GA\",\"x\":21,\"xref\":\"x\",\"y\":1.4,\"yref\":\"y\"}]},\"name\":\"frame7\"},{\"data\":[{\"line\":{\"shape\":\"hvh\"},\"mode\":\"lines+markers\",\"type\":\"scatter\",\"x\":[1,2,3,4,5,6,7,8],\"y\":[1.0,-0.5,0.5,-0.5,0.5,-0.5,0.5,-0.5]}],\"layout\":{\"annotations\":[{\"font\":{\"color\":\"blue\"},\"text\":\"4W3M: JL,AL,CC,LB,JV,JS,SG\",\"x\":8,\"xref\":\"x\",\"y\":-0.5,\"yref\":\"y\"},{\"font\":{\"color\":\"orange\",\"size\":18},\"showarrow\":false,\"text\":\"FucZH 4-4 Wizards Geneva\",\"x\":0.5,\"xref\":\"paper\",\"y\":1.4,\"yref\":\"y\"},{\"showarrow\":false,\"text\":\"Completed Passes: 3,Turns: 2\",\"x\":21,\"xref\":\"x\",\"y\":1.3,\"yref\":\"y\"}]},\"name\":\"frame8\"},{\"data\":[{\"line\":{\"shape\":\"hvh\"},\"mode\":\"lines+markers\",\"type\":\"scatter\",\"x\":[1,2,3,4,5,6,7,8,9],\"y\":[1.0,-0.5,0.5,-0.5,0.5,-0.5,0.5,-0.5,0.5]}],\"layout\":{\"annotations\":[{\"font\":{\"color\":\"blue\"},\"text\":\"4W3M: AY,SB,FS,JL,SH,EL,GA\",\"x\":9,\"xref\":\"x\",\"y\":0.5,\"yref\":\"y\"},{\"font\":{\"color\":\"orange\",\"size\":18},\"showarrow\":false,\"text\":\"FucZH 5-4 Wizards Geneva\",\"x\":0.5,\"xref\":\"paper\",\"y\":1.4,\"yref\":\"y\"},{\"showarrow\":false,\"text\":\"Completed Passes: 4,Turns: 0\",\"x\":21,\"xref\":\"x\",\"y\":1.3,\"yref\":\"y\"},{\"showarrow\":false,\"text\":\"Assist: GA, Goal:Anonymous\",\"x\":21,\"xref\":\"x\",\"y\":1.4,\"yref\":\"y\"}]},\"name\":\"frame9\"},{\"data\":[{\"line\":{\"shape\":\"hvh\"},\"mode\":\"lines+markers\",\"type\":\"scatter\",\"x\":[1,2,3,4,5,6,7,8,9,10],\"y\":[1.0,-0.5,0.5,-0.5,0.5,-0.5,0.5,-0.5,0.5,1.0]}],\"layout\":{\"annotations\":[{\"font\":{\"color\":\"blue\"},\"text\":\"4W3M: MV,AL,CC,LB,JV,JS,SG\",\"x\":10,\"xref\":\"x\",\"y\":1.0,\"yref\":\"y\"},{\"font\":{\"color\":\"orange\",\"size\":18},\"showarrow\":false,\"text\":\"FucZH 6-4 Wizards Geneva\",\"x\":0.5,\"xref\":\"paper\",\"y\":1.4,\"yref\":\"y\"},{\"showarrow\":false,\"text\":\"Completed Passes: 0,Turns: 1\",\"x\":21,\"xref\":\"x\",\"y\":1.3,\"yref\":\"y\"},{\"showarrow\":false,\"text\":\"Assist: None, Goal:JS\",\"x\":21,\"xref\":\"x\",\"y\":1.4,\"yref\":\"y\"}]},\"name\":\"frame10\"},{\"data\":[{\"line\":{\"shape\":\"hvh\"},\"mode\":\"lines+markers\",\"type\":\"scatter\",\"x\":[1,2,3,4,5,6,7,8,9,10,11],\"y\":[1.0,-0.5,0.5,-0.5,0.5,-0.5,0.5,-0.5,0.5,1.0,-0.5]}],\"layout\":{\"annotations\":[{\"font\":{\"color\":\"blue\"},\"text\":\"4M3W: JL,FS,AL,SH,EL,SG,GA\",\"x\":11,\"xref\":\"x\",\"y\":-0.5,\"yref\":\"y\"},{\"font\":{\"color\":\"orange\",\"size\":18},\"showarrow\":false,\"text\":\"FucZH 6-5 Wizards Geneva\",\"x\":0.5,\"xref\":\"paper\",\"y\":1.4,\"yref\":\"y\"},{\"showarrow\":false,\"text\":\"Completed Passes: 0,Turns: 2\",\"x\":21,\"xref\":\"x\",\"y\":1.3,\"yref\":\"y\"}]},\"name\":\"frame11\"},{\"data\":[{\"line\":{\"shape\":\"hvh\"},\"mode\":\"lines+markers\",\"type\":\"scatter\",\"x\":[1,2,3,4,5,6,7,8,9,10,11,12],\"y\":[1.0,-0.5,0.5,-0.5,0.5,-0.5,0.5,-0.5,0.5,1.0,-0.5,0.5]}],\"layout\":{\"annotations\":[{\"font\":{\"color\":\"blue\"},\"text\":\"4W3M: FS,SB,AY,MV,CC,SH,GA\",\"x\":12,\"xref\":\"x\",\"y\":0.5,\"yref\":\"y\"},{\"font\":{\"color\":\"orange\",\"size\":18},\"showarrow\":false,\"text\":\"FucZH 7-5 Wizards Geneva\",\"x\":0.5,\"xref\":\"paper\",\"y\":1.4,\"yref\":\"y\"},{\"showarrow\":false,\"text\":\"Completed Passes: 12,Turns: 0\",\"x\":21,\"xref\":\"x\",\"y\":1.3,\"yref\":\"y\"},{\"showarrow\":false,\"text\":\"Assist: SH, Goal:GA\",\"x\":21,\"xref\":\"x\",\"y\":1.4,\"yref\":\"y\"}]},\"name\":\"frame12\"},{\"data\":[{\"line\":{\"shape\":\"hvh\"},\"mode\":\"lines+markers\",\"type\":\"scatter\",\"x\":[1,2,3,4,5,6,7,8,9,10,11,12,13],\"y\":[1.0,-0.5,0.5,-0.5,0.5,-0.5,0.5,-0.5,0.5,1.0,-0.5,0.5,-0.5]}],\"layout\":{\"annotations\":[{\"font\":{\"color\":\"blue\"},\"text\":\"4W3M: JL,AL,LB,EL,JS,JV,SG\",\"x\":13,\"xref\":\"x\",\"y\":-0.5,\"yref\":\"y\"},{\"font\":{\"color\":\"orange\",\"size\":18},\"showarrow\":false,\"text\":\"FucZH 7-6 Wizards Geneva\",\"x\":0.5,\"xref\":\"paper\",\"y\":1.4,\"yref\":\"y\"},{\"showarrow\":false,\"text\":\"Completed Passes: 3,Turns: 2\",\"x\":21,\"xref\":\"x\",\"y\":1.3,\"yref\":\"y\"}]},\"name\":\"frame13\"},{\"data\":[{\"line\":{\"shape\":\"hvh\"},\"mode\":\"lines+markers\",\"type\":\"scatter\",\"x\":[1,2,3,4,5,6,7,8,9,10,11,12,13,14],\"y\":[1.0,-0.5,0.5,-0.5,0.5,-0.5,0.5,-0.5,0.5,1.0,-0.5,0.5,-0.5,0.5]}],\"layout\":{\"annotations\":[{\"font\":{\"color\":\"blue\"},\"text\":\"4M3W: FS,SB,AY,MV,CS,SH,GA\",\"x\":14,\"xref\":\"x\",\"y\":0.5,\"yref\":\"y\"},{\"font\":{\"color\":\"orange\",\"size\":18},\"showarrow\":false,\"text\":\"FucZH 8-6 Wizards Geneva\",\"x\":0.5,\"xref\":\"paper\",\"y\":1.4,\"yref\":\"y\"},{\"showarrow\":false,\"text\":\"Completed Passes: 23,Turns: 0\",\"x\":21,\"xref\":\"x\",\"y\":1.3,\"yref\":\"y\"},{\"showarrow\":false,\"text\":\"Assist: CS, Goal:FS\",\"x\":21,\"xref\":\"x\",\"y\":1.4,\"yref\":\"y\"}]},\"name\":\"frame14\"},{\"data\":[{\"line\":{\"shape\":\"hvh\"},\"mode\":\"lines+markers\",\"type\":\"scatter\",\"x\":[1,2,3,4,5,6,7,8,9,10,11,12,13,14,15],\"y\":[1.0,-0.5,0.5,-0.5,0.5,-0.5,0.5,-0.5,0.5,1.0,-0.5,0.5,-0.5,0.5,0.5]}],\"layout\":{\"annotations\":[{\"font\":{\"color\":\"blue\"},\"text\":\"4W3M: AY,FS,SB,AL,SH,LB,GA\",\"x\":15,\"xref\":\"x\",\"y\":0.5,\"yref\":\"y\"},{\"font\":{\"color\":\"orange\",\"size\":18},\"showarrow\":false,\"text\":\"FucZH 9-6 Wizards Geneva\",\"x\":0.5,\"xref\":\"paper\",\"y\":1.4,\"yref\":\"y\"},{\"showarrow\":false,\"text\":\"Completed Passes: 8,Turns: 0\",\"x\":21,\"xref\":\"x\",\"y\":1.3,\"yref\":\"y\"},{\"showarrow\":false,\"text\":\"Assist: SH, Goal:AL\",\"x\":21,\"xref\":\"x\",\"y\":1.4,\"yref\":\"y\"}]},\"name\":\"frame15\"},{\"data\":[{\"line\":{\"shape\":\"hvh\"},\"mode\":\"lines+markers\",\"type\":\"scatter\",\"x\":[1,2,3,4,5,6,7,8,9,10,11,12,13,14,15,16],\"y\":[1.0,-0.5,0.5,-0.5,0.5,-0.5,0.5,-0.5,0.5,1.0,-0.5,0.5,-0.5,0.5,0.5,-0.5]}],\"layout\":{\"annotations\":[{\"font\":{\"color\":\"blue\"},\"text\":\"4M3W: JL,CS,CC,EL,JS,JV,SG\",\"x\":16,\"xref\":\"x\",\"y\":-0.5,\"yref\":\"y\"},{\"font\":{\"color\":\"orange\",\"size\":18},\"showarrow\":false,\"text\":\"FucZH 9-7 Wizards Geneva\",\"x\":0.5,\"xref\":\"paper\",\"y\":1.4,\"yref\":\"y\"},{\"showarrow\":false,\"text\":\"Completed Passes: 0,Turns: 0\",\"x\":21,\"xref\":\"x\",\"y\":1.3,\"yref\":\"y\"}]},\"name\":\"frame16\"},{\"data\":[{\"line\":{\"shape\":\"hvh\"},\"mode\":\"lines+markers\",\"type\":\"scatter\",\"x\":[1,2,3,4,5,6,7,8,9,10,11,12,13,14,15,16,17],\"y\":[1.0,-0.5,0.5,-0.5,0.5,-0.5,0.5,-0.5,0.5,1.0,-0.5,0.5,-0.5,0.5,0.5,-0.5,0.5]}],\"layout\":{\"annotations\":[{\"font\":{\"color\":\"blue\"},\"text\":\"4W3M: AY,FS,SB,AL,SH,LB,GA\",\"x\":17,\"xref\":\"x\",\"y\":0.5,\"yref\":\"y\"},{\"font\":{\"color\":\"orange\",\"size\":18},\"showarrow\":false,\"text\":\"FucZH 10-7 Wizards Geneva\",\"x\":0.5,\"xref\":\"paper\",\"y\":1.4,\"yref\":\"y\"},{\"showarrow\":false,\"text\":\"Completed Passes: 20,Turns: 2\",\"x\":21,\"xref\":\"x\",\"y\":1.3,\"yref\":\"y\"},{\"showarrow\":false,\"text\":\"Assist: SH, Goal:AY\",\"x\":21,\"xref\":\"x\",\"y\":1.4,\"yref\":\"y\"}]},\"name\":\"frame17\"},{\"data\":[{\"line\":{\"shape\":\"hvh\"},\"mode\":\"lines+markers\",\"type\":\"scatter\",\"x\":[1,2,3,4,5,6,7,8,9,10,11,12,13,14,15,16,17,18],\"y\":[1.0,-0.5,0.5,-0.5,0.5,-0.5,0.5,-0.5,0.5,1.0,-0.5,0.5,-0.5,0.5,0.5,-0.5,0.5,1.0]}],\"layout\":{\"annotations\":[{\"font\":{\"color\":\"blue\"},\"text\":\"4M3W: MV,CC,CS,EL,JS,JV,SG\",\"x\":18,\"xref\":\"x\",\"y\":1.0,\"yref\":\"y\"},{\"font\":{\"color\":\"orange\",\"size\":18},\"showarrow\":false,\"text\":\"FucZH 11-7 Wizards Geneva\",\"x\":0.5,\"xref\":\"paper\",\"y\":1.4,\"yref\":\"y\"},{\"showarrow\":false,\"text\":\"Completed Passes: 4,Turns: 3\",\"x\":21,\"xref\":\"x\",\"y\":1.3,\"yref\":\"y\"},{\"showarrow\":false,\"text\":\"Assist: EL, Goal:Anonymous\",\"x\":21,\"xref\":\"x\",\"y\":1.4,\"yref\":\"y\"}]},\"name\":\"frame18\"},{\"data\":[{\"line\":{\"shape\":\"hvh\"},\"mode\":\"lines+markers\",\"type\":\"scatter\",\"x\":[1,2,3,4,5,6,7,8,9,10,11,12,13,14,15,16,17,18,19],\"y\":[1.0,-0.5,0.5,-0.5,0.5,-0.5,0.5,-0.5,0.5,1.0,-0.5,0.5,-0.5,0.5,0.5,-0.5,0.5,1.0,-0.5]}],\"layout\":{\"annotations\":[{\"font\":{\"color\":\"blue\"},\"text\":\"4M3W: JL,MV,AL,JS,JV,GA,SG\",\"x\":19,\"xref\":\"x\",\"y\":-0.5,\"yref\":\"y\"},{\"font\":{\"color\":\"orange\",\"size\":18},\"showarrow\":false,\"text\":\"FucZH 11-8 Wizards Geneva\",\"x\":0.5,\"xref\":\"paper\",\"y\":1.4,\"yref\":\"y\"},{\"showarrow\":false,\"text\":\"Completed Passes: 0,Turns: 0\",\"x\":21,\"xref\":\"x\",\"y\":1.3,\"yref\":\"y\"}]},\"name\":\"frame19\"},{\"data\":[{\"line\":{\"shape\":\"hvh\"},\"mode\":\"lines+markers\",\"type\":\"scatter\",\"x\":[1,2,3,4,5,6,7,8,9,10,11,12,13,14,15,16,17,18,19,20],\"y\":[1.0,-0.5,0.5,-0.5,0.5,-0.5,0.5,-0.5,0.5,1.0,-0.5,0.5,-0.5,0.5,0.5,-0.5,0.5,1.0,-0.5,-1.0]}],\"layout\":{\"annotations\":[{\"font\":{\"color\":\"blue\"},\"text\":\"4W3M: AY,FS,SB,CC,SH,LB,GA\",\"x\":20,\"xref\":\"x\",\"y\":-1.0,\"yref\":\"y\"},{\"font\":{\"color\":\"orange\",\"size\":18},\"showarrow\":false,\"text\":\"FucZH 11-9 Wizards Geneva\",\"x\":0.5,\"xref\":\"paper\",\"y\":1.4,\"yref\":\"y\"},{\"showarrow\":false,\"text\":\"Completed Passes: 24,Turns: 5\",\"x\":21,\"xref\":\"x\",\"y\":1.3,\"yref\":\"y\"}]},\"name\":\"frame20\"},{\"data\":[{\"line\":{\"shape\":\"hvh\"},\"mode\":\"lines+markers\",\"type\":\"scatter\",\"x\":[1,2,3,4,5,6,7,8,9,10,11,12,13,14,15,16,17,18,19,20,21],\"y\":[1.0,-0.5,0.5,-0.5,0.5,-0.5,0.5,-0.5,0.5,1.0,-0.5,0.5,-0.5,0.5,0.5,-0.5,0.5,1.0,-0.5,-1.0,0.5]}],\"layout\":{\"annotations\":[{\"font\":{\"color\":\"blue\"},\"text\":\"4W3M: AY,JL,AL,CS,SH,EL,GA\",\"x\":21,\"xref\":\"x\",\"y\":0.5,\"yref\":\"y\"},{\"font\":{\"color\":\"orange\",\"size\":18},\"showarrow\":false,\"text\":\"FucZH 12-9 Wizards Geneva\",\"x\":0.5,\"xref\":\"paper\",\"y\":1.4,\"yref\":\"y\"},{\"showarrow\":false,\"text\":\"Completed Passes: 11,Turns: 0\",\"x\":21,\"xref\":\"x\",\"y\":1.3,\"yref\":\"y\"},{\"showarrow\":false,\"text\":\"Assist: SH, Goal:EL\",\"x\":21,\"xref\":\"x\",\"y\":1.4,\"yref\":\"y\"}]},\"name\":\"frame21\"},{\"data\":[{\"line\":{\"shape\":\"hvh\"},\"mode\":\"lines+markers\",\"type\":\"scatter\",\"x\":[1,2,3,4,5,6,7,8,9,10,11,12,13,14,15,16,17,18,19,20,21,22],\"y\":[1.0,-0.5,0.5,-0.5,0.5,-0.5,0.5,-0.5,0.5,1.0,-0.5,0.5,-0.5,0.5,0.5,-0.5,0.5,1.0,-0.5,-1.0,0.5,-0.5]}],\"layout\":{\"annotations\":[{\"font\":{\"color\":\"blue\"},\"text\":\"4M3W: SB,MV,CC,CS,JS,JV,SG\",\"x\":22,\"xref\":\"x\",\"y\":-0.5,\"yref\":\"y\"},{\"font\":{\"color\":\"orange\",\"size\":18},\"showarrow\":false,\"text\":\"FucZH 12-10 Wizards Geneva\",\"x\":0.5,\"xref\":\"paper\",\"y\":1.4,\"yref\":\"y\"},{\"showarrow\":false,\"text\":\"Completed Passes: 0,Turns: 0\",\"x\":21,\"xref\":\"x\",\"y\":1.3,\"yref\":\"y\"}]},\"name\":\"frame22\"},{\"data\":[{\"line\":{\"shape\":\"hvh\"},\"mode\":\"lines+markers\",\"type\":\"scatter\",\"x\":[1,2,3,4,5,6,7,8,9,10,11,12,13,14,15,16,17,18,19,20,21,22,23],\"y\":[1.0,-0.5,0.5,-0.5,0.5,-0.5,0.5,-0.5,0.5,1.0,-0.5,0.5,-0.5,0.5,0.5,-0.5,0.5,1.0,-0.5,-1.0,0.5,-0.5,-1.0]}],\"layout\":{\"annotations\":[{\"font\":{\"color\":\"blue\"},\"text\":\"4M3W: FS,JL,AL,CS,SH,EL,GA\",\"x\":23,\"xref\":\"x\",\"y\":-1.0,\"yref\":\"y\"},{\"font\":{\"color\":\"orange\",\"size\":18},\"showarrow\":false,\"text\":\"FucZH 12-11 Wizards Geneva\",\"x\":0.5,\"xref\":\"paper\",\"y\":1.4,\"yref\":\"y\"},{\"showarrow\":false,\"text\":\"Completed Passes: 5,Turns: 1\",\"x\":21,\"xref\":\"x\",\"y\":1.3,\"yref\":\"y\"}]},\"name\":\"frame23\"}]);\n",
       "                        }).then(function(){\n",
       "                            \n",
       "var gd = document.getElementById('a4f896b8-56c6-41cf-a8f8-e9cd9305c6a6');\n",
       "var x = new MutationObserver(function (mutations, observer) {{\n",
       "        var display = window.getComputedStyle(gd).display;\n",
       "        if (!display || display === 'none') {{\n",
       "            console.log([gd, 'removed!']);\n",
       "            Plotly.purge(gd);\n",
       "            observer.disconnect();\n",
       "        }}\n",
       "}});\n",
       "\n",
       "// Listen for the removal of the full notebook cells\n",
       "var notebookContainer = gd.closest('#notebook-container');\n",
       "if (notebookContainer) {{\n",
       "    x.observe(notebookContainer, {childList: true});\n",
       "}}\n",
       "\n",
       "// Listen for the clearing of the current output cell\n",
       "var outputEl = gd.closest('.output');\n",
       "if (outputEl) {{\n",
       "    x.observe(outputEl, {childList: true});\n",
       "}}\n",
       "\n",
       "                        })                };                });            </script>        </div>"
      ]
     },
     "metadata": {},
     "output_type": "display_data"
    }
   ],
   "source": [
    "fig=game_flow_fig(df,'Wizards Geneva',slidew,slideh)\n",
    "fig.show()"
   ]
  },
  {
   "cell_type": "code",
   "execution_count": 666,
   "metadata": {
    "slideshow": {
     "slide_type": "fragment"
    },
    "tags": [
     "to_remove"
    ]
   },
   "outputs": [
    {
     "data": {
      "application/vnd.plotly.v1+json": {
       "config": {
        "plotlyServerURL": "https://plotly.com"
       },
       "data": [
        {
         "mode": "lines+markers",
         "type": "scatter",
         "x": [
          0
         ],
         "y": [
          0
         ]
        }
       ],
       "frames": [
        {
         "data": [
          {
           "line": {
            "shape": "hv"
           },
           "mode": "lines+markers",
           "type": "scatter",
           "x": [
            0
           ],
           "y": [
            0
           ]
          }
         ],
         "name": "frame0"
        },
        {
         "data": [
          {
           "line": {
            "shape": "hvh"
           },
           "mode": "lines+markers",
           "type": "scatter",
           "x": [
            1
           ],
           "y": [
            -0.5
           ]
          }
         ],
         "layout": {
          "annotations": [
           {
            "font": {
             "color": "blue"
            },
            "text": "4W3M: JL,MV,CC,LB,JS,JV,SG",
            "x": 1,
            "xref": "x",
            "y": -0.5,
            "yref": "y"
           },
           {
            "font": {
             "color": "orange",
             "size": 18
            },
            "showarrow": false,
            "text": "FucZH 0-1 FSL",
            "x": 0.5,
            "xref": "paper",
            "y": 1.4,
            "yref": "y"
           },
           {
            "showarrow": false,
            "text": "Completed Passes: 0,Turns: 0",
            "x": 12,
            "xref": "x",
            "y": 1.3,
            "yref": "y"
           }
          ]
         },
         "name": "frame1"
        },
        {
         "data": [
          {
           "line": {
            "shape": "hvh"
           },
           "mode": "lines+markers",
           "type": "scatter",
           "x": [
            1,
            2
           ],
           "y": [
            -0.5,
            0.5
           ]
          }
         ],
         "layout": {
          "annotations": [
           {
            "font": {
             "color": "blue"
            },
            "text": "4W3M: AY,FS,SB,AL,SH,EL,GA",
            "x": 2,
            "xref": "x",
            "y": 0.5,
            "yref": "y"
           },
           {
            "font": {
             "color": "orange",
             "size": 18
            },
            "showarrow": false,
            "text": "FucZH 1-1 FSL",
            "x": 0.5,
            "xref": "paper",
            "y": 1.4,
            "yref": "y"
           },
           {
            "showarrow": false,
            "text": "Completed Passes: 4,Turns: 0",
            "x": 12,
            "xref": "x",
            "y": 1.3,
            "yref": "y"
           },
           {
            "showarrow": false,
            "text": "Assist: SB, Goal:AL",
            "x": 12,
            "xref": "x",
            "y": 1.4,
            "yref": "y"
           }
          ]
         },
         "name": "frame2"
        },
        {
         "data": [
          {
           "line": {
            "shape": "hvh"
           },
           "mode": "lines+markers",
           "type": "scatter",
           "x": [
            1,
            2,
            3
           ],
           "y": [
            -0.5,
            0.5,
            1
           ]
          }
         ],
         "layout": {
          "annotations": [
           {
            "font": {
             "color": "blue"
            },
            "text": "4M3W: JL,MV,CS,CC,JS,JV,SG",
            "x": 3,
            "xref": "x",
            "y": 1,
            "yref": "y"
           },
           {
            "font": {
             "color": "orange",
             "size": 18
            },
            "showarrow": false,
            "text": "FucZH 2-1 FSL",
            "x": 0.5,
            "xref": "paper",
            "y": 1.4,
            "yref": "y"
           },
           {
            "showarrow": false,
            "text": "Completed Passes: 0,Turns: 1",
            "x": 12,
            "xref": "x",
            "y": 1.3,
            "yref": "y"
           },
           {
            "showarrow": false,
            "text": "Assist: None, Goal:JV",
            "x": 12,
            "xref": "x",
            "y": 1.4,
            "yref": "y"
           }
          ]
         },
         "name": "frame3"
        },
        {
         "data": [
          {
           "line": {
            "shape": "hvh"
           },
           "mode": "lines+markers",
           "type": "scatter",
           "x": [
            1,
            2,
            3,
            4
           ],
           "y": [
            -0.5,
            0.5,
            1,
            -0.5
           ]
          }
         ],
         "layout": {
          "annotations": [
           {
            "font": {
             "color": "blue"
            },
            "text": "4W3M: MV,AL,LB,EL,JV,JS,SG",
            "x": 4,
            "xref": "x",
            "y": -0.5,
            "yref": "y"
           },
           {
            "font": {
             "color": "orange",
             "size": 18
            },
            "showarrow": false,
            "text": "FucZH 2-2 FSL",
            "x": 0.5,
            "xref": "paper",
            "y": 1.4,
            "yref": "y"
           },
           {
            "showarrow": false,
            "text": "Completed Passes: 0,Turns: 0",
            "x": 12,
            "xref": "x",
            "y": 1.3,
            "yref": "y"
           }
          ]
         },
         "name": "frame4"
        },
        {
         "data": [
          {
           "line": {
            "shape": "hvh"
           },
           "mode": "lines+markers",
           "type": "scatter",
           "x": [
            1,
            2,
            3,
            4,
            5
           ],
           "y": [
            -0.5,
            0.5,
            1,
            -0.5,
            0.5
           ]
          }
         ],
         "layout": {
          "annotations": [
           {
            "font": {
             "color": "blue"
            },
            "text": "4M3W: MV,CC,SH,LB,JV,JS,SG",
            "x": 5,
            "xref": "x",
            "y": 0.5,
            "yref": "y"
           },
           {
            "font": {
             "color": "orange",
             "size": 18
            },
            "showarrow": false,
            "text": "FucZH 3-2 FSL",
            "x": 0.5,
            "xref": "paper",
            "y": 1.4,
            "yref": "y"
           },
           {
            "showarrow": false,
            "text": "Completed Passes: 0,Turns: 0",
            "x": 12,
            "xref": "x",
            "y": 1.3,
            "yref": "y"
           },
           {
            "showarrow": false,
            "text": "Assist: None, Goal:Anonymous",
            "x": 12,
            "xref": "x",
            "y": 1.4,
            "yref": "y"
           }
          ]
         },
         "name": "frame5"
        },
        {
         "data": [
          {
           "line": {
            "shape": "hvh"
           },
           "mode": "lines+markers",
           "type": "scatter",
           "x": [
            1,
            2,
            3,
            4,
            5,
            6
           ],
           "y": [
            -0.5,
            0.5,
            1,
            -0.5,
            0.5,
            1
           ]
          }
         ],
         "layout": {
          "annotations": [
           {
            "font": {
             "color": "blue"
            },
            "text": "4M3W: JL,MV,SH,LB,JV,JS,SG",
            "x": 6,
            "xref": "x",
            "y": 1,
            "yref": "y"
           },
           {
            "font": {
             "color": "orange",
             "size": 18
            },
            "showarrow": false,
            "text": "FucZH 4-2 FSL",
            "x": 0.5,
            "xref": "paper",
            "y": 1.4,
            "yref": "y"
           },
           {
            "showarrow": false,
            "text": "Completed Passes: 1,Turns: 1",
            "x": 12,
            "xref": "x",
            "y": 1.3,
            "yref": "y"
           },
           {
            "showarrow": false,
            "text": "Assist: MV, Goal:JV",
            "x": 12,
            "xref": "x",
            "y": 1.4,
            "yref": "y"
           }
          ]
         },
         "name": "frame6"
        },
        {
         "data": [
          {
           "line": {
            "shape": "hvh"
           },
           "mode": "lines+markers",
           "type": "scatter",
           "x": [
            1,
            2,
            3,
            4,
            5,
            6,
            7
           ],
           "y": [
            -0.5,
            0.5,
            1,
            -0.5,
            0.5,
            1,
            1
           ]
          }
         ],
         "layout": {
          "annotations": [
           {
            "font": {
             "color": "blue"
            },
            "text": "4M3W: JL,MV,CS,EL,JS,JV,SG",
            "x": 7,
            "xref": "x",
            "y": 1,
            "yref": "y"
           },
           {
            "font": {
             "color": "orange",
             "size": 18
            },
            "showarrow": false,
            "text": "FucZH 5-2 FSL",
            "x": 0.5,
            "xref": "paper",
            "y": 1.4,
            "yref": "y"
           },
           {
            "showarrow": false,
            "text": "Completed Passes: 4,Turns: 1",
            "x": 12,
            "xref": "x",
            "y": 1.3,
            "yref": "y"
           },
           {
            "showarrow": false,
            "text": "Assist: SG, Goal:JL",
            "x": 12,
            "xref": "x",
            "y": 1.4,
            "yref": "y"
           }
          ]
         },
         "name": "frame7"
        },
        {
         "data": [
          {
           "line": {
            "shape": "hvh"
           },
           "mode": "lines+markers",
           "type": "scatter",
           "x": [
            1,
            2,
            3,
            4,
            5,
            6,
            7,
            8
           ],
           "y": [
            -0.5,
            0.5,
            1,
            -0.5,
            0.5,
            1,
            1,
            -0.5
           ]
          }
         ],
         "layout": {
          "annotations": [
           {
            "font": {
             "color": "blue"
            },
            "text": "4W3M: SB,AL,CS,CC,SH,LB,SG",
            "x": 8,
            "xref": "x",
            "y": -0.5,
            "yref": "y"
           },
           {
            "font": {
             "color": "orange",
             "size": 18
            },
            "showarrow": false,
            "text": "FucZH 5-3 FSL",
            "x": 0.5,
            "xref": "paper",
            "y": 1.4,
            "yref": "y"
           },
           {
            "showarrow": false,
            "text": "Completed Passes: 0,Turns: 2",
            "x": 12,
            "xref": "x",
            "y": 1.3,
            "yref": "y"
           }
          ]
         },
         "name": "frame8"
        },
        {
         "data": [
          {
           "line": {
            "shape": "hvh"
           },
           "mode": "lines+markers",
           "type": "scatter",
           "x": [
            1,
            2,
            3,
            4,
            5,
            6,
            7,
            8,
            9
           ],
           "y": [
            -0.5,
            0.5,
            1,
            -0.5,
            0.5,
            1,
            1,
            -0.5,
            -1
           ]
          }
         ],
         "layout": {
          "annotations": [
           {
            "font": {
             "color": "blue"
            },
            "text": "4W3M: JL,FS,AY,MV,SH,EL,GA",
            "x": 9,
            "xref": "x",
            "y": -1,
            "yref": "y"
           },
           {
            "font": {
             "color": "orange",
             "size": 18
            },
            "showarrow": false,
            "text": "FucZH 5-4 FSL",
            "x": 0.5,
            "xref": "paper",
            "y": 1.4,
            "yref": "y"
           },
           {
            "showarrow": false,
            "text": "Completed Passes: 1,Turns: 1",
            "x": 12,
            "xref": "x",
            "y": 1.3,
            "yref": "y"
           }
          ]
         },
         "name": "frame9"
        },
        {
         "data": [
          {
           "line": {
            "shape": "hvh"
           },
           "mode": "lines+markers",
           "type": "scatter",
           "x": [
            1,
            2,
            3,
            4,
            5,
            6,
            7,
            8,
            9,
            10
           ],
           "y": [
            -0.5,
            0.5,
            1,
            -0.5,
            0.5,
            1,
            1,
            -0.5,
            -1,
            0.5
           ]
          }
         ],
         "layout": {
          "annotations": [
           {
            "font": {
             "color": "blue"
            },
            "text": "4M3W: AY,SB,FS,AL,CS,SH,GA",
            "x": 10,
            "xref": "x",
            "y": 0.5,
            "yref": "y"
           },
           {
            "font": {
             "color": "orange",
             "size": 18
            },
            "showarrow": false,
            "text": "FucZH 6-4 FSL",
            "x": 0.5,
            "xref": "paper",
            "y": 1.4,
            "yref": "y"
           },
           {
            "showarrow": false,
            "text": "Completed Passes: 5,Turns: 2",
            "x": 12,
            "xref": "x",
            "y": 1.3,
            "yref": "y"
           },
           {
            "showarrow": false,
            "text": "Assist: FS, Goal:AL",
            "x": 12,
            "xref": "x",
            "y": 1.4,
            "yref": "y"
           }
          ]
         },
         "name": "frame10"
        },
        {
         "data": [
          {
           "line": {
            "shape": "hvh"
           },
           "mode": "lines+markers",
           "type": "scatter",
           "x": [
            1,
            2,
            3,
            4,
            5,
            6,
            7,
            8,
            9,
            10,
            11
           ],
           "y": [
            -0.5,
            0.5,
            1,
            -0.5,
            0.5,
            1,
            1,
            -0.5,
            -1,
            0.5,
            -0.5
           ]
          }
         ],
         "layout": {
          "annotations": [
           {
            "font": {
             "color": "blue"
            },
            "text": "4M3W: MV,CC,SH,EL,JS,JV,SG",
            "x": 11,
            "xref": "x",
            "y": -0.5,
            "yref": "y"
           },
           {
            "font": {
             "color": "orange",
             "size": 18
            },
            "showarrow": false,
            "text": "FucZH 6-5 FSL",
            "x": 0.5,
            "xref": "paper",
            "y": 1.4,
            "yref": "y"
           },
           {
            "showarrow": false,
            "text": "Completed Passes: 0,Turns: 2",
            "x": 12,
            "xref": "x",
            "y": 1.3,
            "yref": "y"
           }
          ]
         },
         "name": "frame11"
        },
        {
         "data": [
          {
           "line": {
            "shape": "hvh"
           },
           "mode": "lines+markers",
           "type": "scatter",
           "x": [
            1,
            2,
            3,
            4,
            5,
            6,
            7,
            8,
            9,
            10,
            11,
            12
           ],
           "y": [
            -0.5,
            0.5,
            1,
            -0.5,
            0.5,
            1,
            1,
            -0.5,
            -1,
            0.5,
            -0.5,
            0.5
           ]
          }
         ],
         "layout": {
          "annotations": [
           {
            "font": {
             "color": "blue"
            },
            "text": "4W3M: AY,SB,JL,FS,SH,LB,GA",
            "x": 12,
            "xref": "x",
            "y": 0.5,
            "yref": "y"
           },
           {
            "font": {
             "color": "orange",
             "size": 18
            },
            "showarrow": false,
            "text": "FucZH 7-5 FSL",
            "x": 0.5,
            "xref": "paper",
            "y": 1.4,
            "yref": "y"
           },
           {
            "showarrow": false,
            "text": "Completed Passes: 8,Turns: 2",
            "x": 12,
            "xref": "x",
            "y": 1.3,
            "yref": "y"
           },
           {
            "showarrow": false,
            "text": "Assist: FS, Goal:Anonymous",
            "x": 12,
            "xref": "x",
            "y": 1.4,
            "yref": "y"
           }
          ]
         },
         "name": "frame12"
        },
        {
         "data": [
          {
           "line": {
            "shape": "hvh"
           },
           "mode": "lines+markers",
           "type": "scatter",
           "x": [
            1,
            2,
            3,
            4,
            5,
            6,
            7,
            8,
            9,
            10,
            11,
            12,
            13
           ],
           "y": [
            -0.5,
            0.5,
            1,
            -0.5,
            0.5,
            1,
            1,
            -0.5,
            -1,
            0.5,
            -0.5,
            0.5,
            1
           ]
          }
         ],
         "layout": {
          "annotations": [
           {
            "font": {
             "color": "blue"
            },
            "text": "4W3M: MV,AL,CC,EL,JV,JS,SG",
            "x": 13,
            "xref": "x",
            "y": 1,
            "yref": "y"
           },
           {
            "font": {
             "color": "orange",
             "size": 18
            },
            "showarrow": false,
            "text": "FucZH 8-5 FSL",
            "x": 0.5,
            "xref": "paper",
            "y": 1.4,
            "yref": "y"
           },
           {
            "showarrow": false,
            "text": "Completed Passes: 4,Turns: 1",
            "x": 12,
            "xref": "x",
            "y": 1.3,
            "yref": "y"
           },
           {
            "showarrow": false,
            "text": "Assist: MV, Goal:JV",
            "x": 12,
            "xref": "x",
            "y": 1.4,
            "yref": "y"
           }
          ]
         },
         "name": "frame13"
        },
        {
         "data": [
          {
           "line": {
            "shape": "hvh"
           },
           "mode": "lines+markers",
           "type": "scatter",
           "x": [
            1,
            2,
            3,
            4,
            5,
            6,
            7,
            8,
            9,
            10,
            11,
            12,
            13,
            14
           ],
           "y": [
            -0.5,
            0.5,
            1,
            -0.5,
            0.5,
            1,
            1,
            -0.5,
            -1,
            0.5,
            -0.5,
            0.5,
            1,
            -0.5
           ]
          }
         ],
         "layout": {
          "annotations": [
           {
            "font": {
             "color": "blue"
            },
            "text": "4M3W: SB,JL,EL,JS,JV,SG,GA",
            "x": 14,
            "xref": "x",
            "y": -0.5,
            "yref": "y"
           },
           {
            "font": {
             "color": "orange",
             "size": 18
            },
            "showarrow": false,
            "text": "FucZH 8-6 FSL",
            "x": 0.5,
            "xref": "paper",
            "y": 1.4,
            "yref": "y"
           },
           {
            "showarrow": false,
            "text": "Completed Passes: 4,Turns: 2",
            "x": 12,
            "xref": "x",
            "y": 1.3,
            "yref": "y"
           }
          ]
         },
         "name": "frame14"
        }
       ],
       "layout": {
        "height": 600,
        "hovermode": "closest",
        "images": [
         {
          "sizex": 0.2,
          "sizey": 0.2,
          "source": "https://raw.githubusercontent.com/elastufka/presentations/master/images/ZU_logo1.png",
          "x": 0,
          "xanchor": "right",
          "xref": "paper",
          "y": 1.05,
          "yanchor": "bottom",
          "yref": "paper"
         }
        ],
        "sliders": [
         {
          "active": 0,
          "currentvalue": {
           "font": {
            "size": 14
           },
           "prefix": "Point:",
           "visible": true,
           "xanchor": "right"
          },
          "len": 0.9,
          "pad": {
           "b": 10,
           "t": 10
          },
          "steps": [
           {
            "args": [
             [
              "frame1"
             ],
             {
              "frame": {
               "duration": 300,
               "redraw": false
              },
              "mode": "immediate",
              "transition": {
               "duration": 300
              }
             }
            ],
            "label": "1",
            "method": "animate"
           },
           {
            "args": [
             [
              "frame2"
             ],
             {
              "frame": {
               "duration": 300,
               "redraw": false
              },
              "mode": "immediate",
              "transition": {
               "duration": 300
              }
             }
            ],
            "label": "2",
            "method": "animate"
           },
           {
            "args": [
             [
              "frame3"
             ],
             {
              "frame": {
               "duration": 300,
               "redraw": false
              },
              "mode": "immediate",
              "transition": {
               "duration": 300
              }
             }
            ],
            "label": "3",
            "method": "animate"
           },
           {
            "args": [
             [
              "frame4"
             ],
             {
              "frame": {
               "duration": 300,
               "redraw": false
              },
              "mode": "immediate",
              "transition": {
               "duration": 300
              }
             }
            ],
            "label": "4",
            "method": "animate"
           },
           {
            "args": [
             [
              "frame5"
             ],
             {
              "frame": {
               "duration": 300,
               "redraw": false
              },
              "mode": "immediate",
              "transition": {
               "duration": 300
              }
             }
            ],
            "label": "5",
            "method": "animate"
           },
           {
            "args": [
             [
              "frame6"
             ],
             {
              "frame": {
               "duration": 300,
               "redraw": false
              },
              "mode": "immediate",
              "transition": {
               "duration": 300
              }
             }
            ],
            "label": "6",
            "method": "animate"
           },
           {
            "args": [
             [
              "frame7"
             ],
             {
              "frame": {
               "duration": 300,
               "redraw": false
              },
              "mode": "immediate",
              "transition": {
               "duration": 300
              }
             }
            ],
            "label": "7",
            "method": "animate"
           },
           {
            "args": [
             [
              "frame8"
             ],
             {
              "frame": {
               "duration": 300,
               "redraw": false
              },
              "mode": "immediate",
              "transition": {
               "duration": 300
              }
             }
            ],
            "label": "8",
            "method": "animate"
           },
           {
            "args": [
             [
              "frame9"
             ],
             {
              "frame": {
               "duration": 300,
               "redraw": false
              },
              "mode": "immediate",
              "transition": {
               "duration": 300
              }
             }
            ],
            "label": "9",
            "method": "animate"
           },
           {
            "args": [
             [
              "frame10"
             ],
             {
              "frame": {
               "duration": 300,
               "redraw": false
              },
              "mode": "immediate",
              "transition": {
               "duration": 300
              }
             }
            ],
            "label": "10",
            "method": "animate"
           },
           {
            "args": [
             [
              "frame11"
             ],
             {
              "frame": {
               "duration": 300,
               "redraw": false
              },
              "mode": "immediate",
              "transition": {
               "duration": 300
              }
             }
            ],
            "label": "11",
            "method": "animate"
           },
           {
            "args": [
             [
              "frame12"
             ],
             {
              "frame": {
               "duration": 300,
               "redraw": false
              },
              "mode": "immediate",
              "transition": {
               "duration": 300
              }
             }
            ],
            "label": "12",
            "method": "animate"
           },
           {
            "args": [
             [
              "frame13"
             ],
             {
              "frame": {
               "duration": 300,
               "redraw": false
              },
              "mode": "immediate",
              "transition": {
               "duration": 300
              }
             }
            ],
            "label": "13",
            "method": "animate"
           },
           {
            "args": [
             [
              "frame14"
             ],
             {
              "frame": {
               "duration": 300,
               "redraw": false
              },
              "mode": "immediate",
              "transition": {
               "duration": 300
              }
             }
            ],
            "label": "14",
            "method": "animate"
           }
          ],
          "transition": {
           "duration": 300,
           "easing": "cubic-in-out"
          },
          "x": 1,
          "xanchor": "right",
          "y": -0.4,
          "yanchor": "bottom"
         }
        ],
        "template": {
         "layout": {
          "colorway": [
           "#000000",
           "#784F17",
           "#FF0018",
           "#FFA52C",
           "#FFFF41",
           "#008018",
           "#0000F9",
           "#86007D"
          ],
          "plot_bgcolor": "lightgrey"
         }
        },
        "title": {
         "text": "Game Flow"
        },
        "updatemenus": [
         {
          "buttons": [
           {
            "args": [
             null,
             {
              "frame": {
               "duration": 500,
               "redraw": false
              },
              "fromcurrent": true,
              "transition": {
               "duration": 300,
               "easing": "quadratic-in-out"
              }
             }
            ],
            "label": "Play",
            "method": "animate"
           },
           {
            "args": [
             [
              null
             ],
             {
              "frame": {
               "duration": 0,
               "redraw": false
              },
              "mode": "immediate",
              "transition": {
               "duration": 0
              }
             }
            ],
            "label": "Pause",
            "method": "animate"
           }
          ],
          "direction": "left",
          "pad": {
           "r": 10,
           "t": 87
          },
          "showactive": false,
          "type": "buttons",
          "x": 0.1,
          "xanchor": "right",
          "y": 0,
          "yanchor": "top"
         }
        ],
        "width": 850,
        "xaxis": {
         "range": [
          0.5,
          15.5
         ],
         "title": {
          "text": "Points"
         }
        },
        "yaxis": {
         "range": [
          -1.1,
          1.5
         ],
         "ticktext": [
          "Their Break",
          "Their Hold",
          "",
          "Our Hold",
          "Our Break"
         ],
         "tickvals": [
          -1,
          -0.5,
          0,
          0.5,
          1
         ],
         "title": {
          "text": "Point Type"
         }
        }
       }
      },
      "text/html": [
       "<div>                            <div id=\"b23216b8-c583-441e-bd56-25aa46c3756d\" class=\"plotly-graph-div\" style=\"height:600px; width:850px;\"></div>            <script type=\"text/javascript\">                require([\"plotly\"], function(Plotly) {                    window.PLOTLYENV=window.PLOTLYENV || {};                                    if (document.getElementById(\"b23216b8-c583-441e-bd56-25aa46c3756d\")) {                    Plotly.newPlot(                        \"b23216b8-c583-441e-bd56-25aa46c3756d\",                        [{\"mode\":\"lines+markers\",\"type\":\"scatter\",\"x\":[0],\"y\":[0]}],                        {\"height\":600,\"hovermode\":\"closest\",\"images\":[{\"sizex\":0.2,\"sizey\":0.2,\"source\":\"https://raw.githubusercontent.com/elastufka/presentations/master/images/ZU_logo1.png\",\"x\":0,\"xanchor\":\"right\",\"xref\":\"paper\",\"y\":1.05,\"yanchor\":\"bottom\",\"yref\":\"paper\"}],\"sliders\":[{\"active\":0,\"currentvalue\":{\"font\":{\"size\":14},\"prefix\":\"Point:\",\"visible\":true,\"xanchor\":\"right\"},\"len\":0.9,\"pad\":{\"b\":10,\"t\":10},\"steps\":[{\"args\":[[\"frame1\"],{\"frame\":{\"duration\":300,\"redraw\":false},\"mode\":\"immediate\",\"transition\":{\"duration\":300}}],\"label\":\"1\",\"method\":\"animate\"},{\"args\":[[\"frame2\"],{\"frame\":{\"duration\":300,\"redraw\":false},\"mode\":\"immediate\",\"transition\":{\"duration\":300}}],\"label\":\"2\",\"method\":\"animate\"},{\"args\":[[\"frame3\"],{\"frame\":{\"duration\":300,\"redraw\":false},\"mode\":\"immediate\",\"transition\":{\"duration\":300}}],\"label\":\"3\",\"method\":\"animate\"},{\"args\":[[\"frame4\"],{\"frame\":{\"duration\":300,\"redraw\":false},\"mode\":\"immediate\",\"transition\":{\"duration\":300}}],\"label\":\"4\",\"method\":\"animate\"},{\"args\":[[\"frame5\"],{\"frame\":{\"duration\":300,\"redraw\":false},\"mode\":\"immediate\",\"transition\":{\"duration\":300}}],\"label\":\"5\",\"method\":\"animate\"},{\"args\":[[\"frame6\"],{\"frame\":{\"duration\":300,\"redraw\":false},\"mode\":\"immediate\",\"transition\":{\"duration\":300}}],\"label\":\"6\",\"method\":\"animate\"},{\"args\":[[\"frame7\"],{\"frame\":{\"duration\":300,\"redraw\":false},\"mode\":\"immediate\",\"transition\":{\"duration\":300}}],\"label\":\"7\",\"method\":\"animate\"},{\"args\":[[\"frame8\"],{\"frame\":{\"duration\":300,\"redraw\":false},\"mode\":\"immediate\",\"transition\":{\"duration\":300}}],\"label\":\"8\",\"method\":\"animate\"},{\"args\":[[\"frame9\"],{\"frame\":{\"duration\":300,\"redraw\":false},\"mode\":\"immediate\",\"transition\":{\"duration\":300}}],\"label\":\"9\",\"method\":\"animate\"},{\"args\":[[\"frame10\"],{\"frame\":{\"duration\":300,\"redraw\":false},\"mode\":\"immediate\",\"transition\":{\"duration\":300}}],\"label\":\"10\",\"method\":\"animate\"},{\"args\":[[\"frame11\"],{\"frame\":{\"duration\":300,\"redraw\":false},\"mode\":\"immediate\",\"transition\":{\"duration\":300}}],\"label\":\"11\",\"method\":\"animate\"},{\"args\":[[\"frame12\"],{\"frame\":{\"duration\":300,\"redraw\":false},\"mode\":\"immediate\",\"transition\":{\"duration\":300}}],\"label\":\"12\",\"method\":\"animate\"},{\"args\":[[\"frame13\"],{\"frame\":{\"duration\":300,\"redraw\":false},\"mode\":\"immediate\",\"transition\":{\"duration\":300}}],\"label\":\"13\",\"method\":\"animate\"},{\"args\":[[\"frame14\"],{\"frame\":{\"duration\":300,\"redraw\":false},\"mode\":\"immediate\",\"transition\":{\"duration\":300}}],\"label\":\"14\",\"method\":\"animate\"}],\"transition\":{\"duration\":300,\"easing\":\"cubic-in-out\"},\"x\":1,\"xanchor\":\"right\",\"y\":-0.4,\"yanchor\":\"bottom\"}],\"template\":{\"layout\":{\"colorway\":[\"#000000\",\"#784F17\",\"#FF0018\",\"#FFA52C\",\"#FFFF41\",\"#008018\",\"#0000F9\",\"#86007D\"],\"plot_bgcolor\":\"lightgrey\"}},\"title\":{\"text\":\"Game Flow\"},\"updatemenus\":[{\"buttons\":[{\"args\":[null,{\"frame\":{\"duration\":500,\"redraw\":false},\"fromcurrent\":true,\"transition\":{\"duration\":300,\"easing\":\"quadratic-in-out\"}}],\"label\":\"Play\",\"method\":\"animate\"},{\"args\":[[null],{\"frame\":{\"duration\":0,\"redraw\":false},\"mode\":\"immediate\",\"transition\":{\"duration\":0}}],\"label\":\"Pause\",\"method\":\"animate\"}],\"direction\":\"left\",\"pad\":{\"r\":10,\"t\":87},\"showactive\":false,\"type\":\"buttons\",\"x\":0.1,\"xanchor\":\"right\",\"y\":0,\"yanchor\":\"top\"}],\"width\":850,\"xaxis\":{\"range\":[0.5,15.5],\"title\":{\"text\":\"Points\"}},\"yaxis\":{\"range\":[-1.1,1.5],\"ticktext\":[\"Their Break\",\"Their Hold\",\"\",\"Our Hold\",\"Our Break\"],\"tickvals\":[-1,-0.5,0,0.5,1],\"title\":{\"text\":\"Point Type\"}}},                        {\"responsive\": true}                    ).then(function(){\n",
       "                            Plotly.addFrames('b23216b8-c583-441e-bd56-25aa46c3756d', [{\"data\":[{\"line\":{\"shape\":\"hv\"},\"mode\":\"lines+markers\",\"type\":\"scatter\",\"x\":[0],\"y\":[0]}],\"name\":\"frame0\"},{\"data\":[{\"line\":{\"shape\":\"hvh\"},\"mode\":\"lines+markers\",\"type\":\"scatter\",\"x\":[1],\"y\":[-0.5]}],\"layout\":{\"annotations\":[{\"font\":{\"color\":\"blue\"},\"text\":\"4W3M: JL,MV,CC,LB,JS,JV,SG\",\"x\":1,\"xref\":\"x\",\"y\":-0.5,\"yref\":\"y\"},{\"font\":{\"color\":\"orange\",\"size\":18},\"showarrow\":false,\"text\":\"FucZH 0-1 FSL\",\"x\":0.5,\"xref\":\"paper\",\"y\":1.4,\"yref\":\"y\"},{\"showarrow\":false,\"text\":\"Completed Passes: 0,Turns: 0\",\"x\":12,\"xref\":\"x\",\"y\":1.3,\"yref\":\"y\"}]},\"name\":\"frame1\"},{\"data\":[{\"line\":{\"shape\":\"hvh\"},\"mode\":\"lines+markers\",\"type\":\"scatter\",\"x\":[1,2],\"y\":[-0.5,0.5]}],\"layout\":{\"annotations\":[{\"font\":{\"color\":\"blue\"},\"text\":\"4W3M: AY,FS,SB,AL,SH,EL,GA\",\"x\":2,\"xref\":\"x\",\"y\":0.5,\"yref\":\"y\"},{\"font\":{\"color\":\"orange\",\"size\":18},\"showarrow\":false,\"text\":\"FucZH 1-1 FSL\",\"x\":0.5,\"xref\":\"paper\",\"y\":1.4,\"yref\":\"y\"},{\"showarrow\":false,\"text\":\"Completed Passes: 4,Turns: 0\",\"x\":12,\"xref\":\"x\",\"y\":1.3,\"yref\":\"y\"},{\"showarrow\":false,\"text\":\"Assist: SB, Goal:AL\",\"x\":12,\"xref\":\"x\",\"y\":1.4,\"yref\":\"y\"}]},\"name\":\"frame2\"},{\"data\":[{\"line\":{\"shape\":\"hvh\"},\"mode\":\"lines+markers\",\"type\":\"scatter\",\"x\":[1,2,3],\"y\":[-0.5,0.5,1.0]}],\"layout\":{\"annotations\":[{\"font\":{\"color\":\"blue\"},\"text\":\"4M3W: JL,MV,CS,CC,JS,JV,SG\",\"x\":3,\"xref\":\"x\",\"y\":1.0,\"yref\":\"y\"},{\"font\":{\"color\":\"orange\",\"size\":18},\"showarrow\":false,\"text\":\"FucZH 2-1 FSL\",\"x\":0.5,\"xref\":\"paper\",\"y\":1.4,\"yref\":\"y\"},{\"showarrow\":false,\"text\":\"Completed Passes: 0,Turns: 1\",\"x\":12,\"xref\":\"x\",\"y\":1.3,\"yref\":\"y\"},{\"showarrow\":false,\"text\":\"Assist: None, Goal:JV\",\"x\":12,\"xref\":\"x\",\"y\":1.4,\"yref\":\"y\"}]},\"name\":\"frame3\"},{\"data\":[{\"line\":{\"shape\":\"hvh\"},\"mode\":\"lines+markers\",\"type\":\"scatter\",\"x\":[1,2,3,4],\"y\":[-0.5,0.5,1.0,-0.5]}],\"layout\":{\"annotations\":[{\"font\":{\"color\":\"blue\"},\"text\":\"4W3M: MV,AL,LB,EL,JV,JS,SG\",\"x\":4,\"xref\":\"x\",\"y\":-0.5,\"yref\":\"y\"},{\"font\":{\"color\":\"orange\",\"size\":18},\"showarrow\":false,\"text\":\"FucZH 2-2 FSL\",\"x\":0.5,\"xref\":\"paper\",\"y\":1.4,\"yref\":\"y\"},{\"showarrow\":false,\"text\":\"Completed Passes: 0,Turns: 0\",\"x\":12,\"xref\":\"x\",\"y\":1.3,\"yref\":\"y\"}]},\"name\":\"frame4\"},{\"data\":[{\"line\":{\"shape\":\"hvh\"},\"mode\":\"lines+markers\",\"type\":\"scatter\",\"x\":[1,2,3,4,5],\"y\":[-0.5,0.5,1.0,-0.5,0.5]}],\"layout\":{\"annotations\":[{\"font\":{\"color\":\"blue\"},\"text\":\"4M3W: MV,CC,SH,LB,JV,JS,SG\",\"x\":5,\"xref\":\"x\",\"y\":0.5,\"yref\":\"y\"},{\"font\":{\"color\":\"orange\",\"size\":18},\"showarrow\":false,\"text\":\"FucZH 3-2 FSL\",\"x\":0.5,\"xref\":\"paper\",\"y\":1.4,\"yref\":\"y\"},{\"showarrow\":false,\"text\":\"Completed Passes: 0,Turns: 0\",\"x\":12,\"xref\":\"x\",\"y\":1.3,\"yref\":\"y\"},{\"showarrow\":false,\"text\":\"Assist: None, Goal:Anonymous\",\"x\":12,\"xref\":\"x\",\"y\":1.4,\"yref\":\"y\"}]},\"name\":\"frame5\"},{\"data\":[{\"line\":{\"shape\":\"hvh\"},\"mode\":\"lines+markers\",\"type\":\"scatter\",\"x\":[1,2,3,4,5,6],\"y\":[-0.5,0.5,1.0,-0.5,0.5,1.0]}],\"layout\":{\"annotations\":[{\"font\":{\"color\":\"blue\"},\"text\":\"4M3W: JL,MV,SH,LB,JV,JS,SG\",\"x\":6,\"xref\":\"x\",\"y\":1.0,\"yref\":\"y\"},{\"font\":{\"color\":\"orange\",\"size\":18},\"showarrow\":false,\"text\":\"FucZH 4-2 FSL\",\"x\":0.5,\"xref\":\"paper\",\"y\":1.4,\"yref\":\"y\"},{\"showarrow\":false,\"text\":\"Completed Passes: 1,Turns: 1\",\"x\":12,\"xref\":\"x\",\"y\":1.3,\"yref\":\"y\"},{\"showarrow\":false,\"text\":\"Assist: MV, Goal:JV\",\"x\":12,\"xref\":\"x\",\"y\":1.4,\"yref\":\"y\"}]},\"name\":\"frame6\"},{\"data\":[{\"line\":{\"shape\":\"hvh\"},\"mode\":\"lines+markers\",\"type\":\"scatter\",\"x\":[1,2,3,4,5,6,7],\"y\":[-0.5,0.5,1.0,-0.5,0.5,1.0,1.0]}],\"layout\":{\"annotations\":[{\"font\":{\"color\":\"blue\"},\"text\":\"4M3W: JL,MV,CS,EL,JS,JV,SG\",\"x\":7,\"xref\":\"x\",\"y\":1.0,\"yref\":\"y\"},{\"font\":{\"color\":\"orange\",\"size\":18},\"showarrow\":false,\"text\":\"FucZH 5-2 FSL\",\"x\":0.5,\"xref\":\"paper\",\"y\":1.4,\"yref\":\"y\"},{\"showarrow\":false,\"text\":\"Completed Passes: 4,Turns: 1\",\"x\":12,\"xref\":\"x\",\"y\":1.3,\"yref\":\"y\"},{\"showarrow\":false,\"text\":\"Assist: SG, Goal:JL\",\"x\":12,\"xref\":\"x\",\"y\":1.4,\"yref\":\"y\"}]},\"name\":\"frame7\"},{\"data\":[{\"line\":{\"shape\":\"hvh\"},\"mode\":\"lines+markers\",\"type\":\"scatter\",\"x\":[1,2,3,4,5,6,7,8],\"y\":[-0.5,0.5,1.0,-0.5,0.5,1.0,1.0,-0.5]}],\"layout\":{\"annotations\":[{\"font\":{\"color\":\"blue\"},\"text\":\"4W3M: SB,AL,CS,CC,SH,LB,SG\",\"x\":8,\"xref\":\"x\",\"y\":-0.5,\"yref\":\"y\"},{\"font\":{\"color\":\"orange\",\"size\":18},\"showarrow\":false,\"text\":\"FucZH 5-3 FSL\",\"x\":0.5,\"xref\":\"paper\",\"y\":1.4,\"yref\":\"y\"},{\"showarrow\":false,\"text\":\"Completed Passes: 0,Turns: 2\",\"x\":12,\"xref\":\"x\",\"y\":1.3,\"yref\":\"y\"}]},\"name\":\"frame8\"},{\"data\":[{\"line\":{\"shape\":\"hvh\"},\"mode\":\"lines+markers\",\"type\":\"scatter\",\"x\":[1,2,3,4,5,6,7,8,9],\"y\":[-0.5,0.5,1.0,-0.5,0.5,1.0,1.0,-0.5,-1.0]}],\"layout\":{\"annotations\":[{\"font\":{\"color\":\"blue\"},\"text\":\"4W3M: JL,FS,AY,MV,SH,EL,GA\",\"x\":9,\"xref\":\"x\",\"y\":-1.0,\"yref\":\"y\"},{\"font\":{\"color\":\"orange\",\"size\":18},\"showarrow\":false,\"text\":\"FucZH 5-4 FSL\",\"x\":0.5,\"xref\":\"paper\",\"y\":1.4,\"yref\":\"y\"},{\"showarrow\":false,\"text\":\"Completed Passes: 1,Turns: 1\",\"x\":12,\"xref\":\"x\",\"y\":1.3,\"yref\":\"y\"}]},\"name\":\"frame9\"},{\"data\":[{\"line\":{\"shape\":\"hvh\"},\"mode\":\"lines+markers\",\"type\":\"scatter\",\"x\":[1,2,3,4,5,6,7,8,9,10],\"y\":[-0.5,0.5,1.0,-0.5,0.5,1.0,1.0,-0.5,-1.0,0.5]}],\"layout\":{\"annotations\":[{\"font\":{\"color\":\"blue\"},\"text\":\"4M3W: AY,SB,FS,AL,CS,SH,GA\",\"x\":10,\"xref\":\"x\",\"y\":0.5,\"yref\":\"y\"},{\"font\":{\"color\":\"orange\",\"size\":18},\"showarrow\":false,\"text\":\"FucZH 6-4 FSL\",\"x\":0.5,\"xref\":\"paper\",\"y\":1.4,\"yref\":\"y\"},{\"showarrow\":false,\"text\":\"Completed Passes: 5,Turns: 2\",\"x\":12,\"xref\":\"x\",\"y\":1.3,\"yref\":\"y\"},{\"showarrow\":false,\"text\":\"Assist: FS, Goal:AL\",\"x\":12,\"xref\":\"x\",\"y\":1.4,\"yref\":\"y\"}]},\"name\":\"frame10\"},{\"data\":[{\"line\":{\"shape\":\"hvh\"},\"mode\":\"lines+markers\",\"type\":\"scatter\",\"x\":[1,2,3,4,5,6,7,8,9,10,11],\"y\":[-0.5,0.5,1.0,-0.5,0.5,1.0,1.0,-0.5,-1.0,0.5,-0.5]}],\"layout\":{\"annotations\":[{\"font\":{\"color\":\"blue\"},\"text\":\"4M3W: MV,CC,SH,EL,JS,JV,SG\",\"x\":11,\"xref\":\"x\",\"y\":-0.5,\"yref\":\"y\"},{\"font\":{\"color\":\"orange\",\"size\":18},\"showarrow\":false,\"text\":\"FucZH 6-5 FSL\",\"x\":0.5,\"xref\":\"paper\",\"y\":1.4,\"yref\":\"y\"},{\"showarrow\":false,\"text\":\"Completed Passes: 0,Turns: 2\",\"x\":12,\"xref\":\"x\",\"y\":1.3,\"yref\":\"y\"}]},\"name\":\"frame11\"},{\"data\":[{\"line\":{\"shape\":\"hvh\"},\"mode\":\"lines+markers\",\"type\":\"scatter\",\"x\":[1,2,3,4,5,6,7,8,9,10,11,12],\"y\":[-0.5,0.5,1.0,-0.5,0.5,1.0,1.0,-0.5,-1.0,0.5,-0.5,0.5]}],\"layout\":{\"annotations\":[{\"font\":{\"color\":\"blue\"},\"text\":\"4W3M: AY,SB,JL,FS,SH,LB,GA\",\"x\":12,\"xref\":\"x\",\"y\":0.5,\"yref\":\"y\"},{\"font\":{\"color\":\"orange\",\"size\":18},\"showarrow\":false,\"text\":\"FucZH 7-5 FSL\",\"x\":0.5,\"xref\":\"paper\",\"y\":1.4,\"yref\":\"y\"},{\"showarrow\":false,\"text\":\"Completed Passes: 8,Turns: 2\",\"x\":12,\"xref\":\"x\",\"y\":1.3,\"yref\":\"y\"},{\"showarrow\":false,\"text\":\"Assist: FS, Goal:Anonymous\",\"x\":12,\"xref\":\"x\",\"y\":1.4,\"yref\":\"y\"}]},\"name\":\"frame12\"},{\"data\":[{\"line\":{\"shape\":\"hvh\"},\"mode\":\"lines+markers\",\"type\":\"scatter\",\"x\":[1,2,3,4,5,6,7,8,9,10,11,12,13],\"y\":[-0.5,0.5,1.0,-0.5,0.5,1.0,1.0,-0.5,-1.0,0.5,-0.5,0.5,1.0]}],\"layout\":{\"annotations\":[{\"font\":{\"color\":\"blue\"},\"text\":\"4W3M: MV,AL,CC,EL,JV,JS,SG\",\"x\":13,\"xref\":\"x\",\"y\":1.0,\"yref\":\"y\"},{\"font\":{\"color\":\"orange\",\"size\":18},\"showarrow\":false,\"text\":\"FucZH 8-5 FSL\",\"x\":0.5,\"xref\":\"paper\",\"y\":1.4,\"yref\":\"y\"},{\"showarrow\":false,\"text\":\"Completed Passes: 4,Turns: 1\",\"x\":12,\"xref\":\"x\",\"y\":1.3,\"yref\":\"y\"},{\"showarrow\":false,\"text\":\"Assist: MV, Goal:JV\",\"x\":12,\"xref\":\"x\",\"y\":1.4,\"yref\":\"y\"}]},\"name\":\"frame13\"},{\"data\":[{\"line\":{\"shape\":\"hvh\"},\"mode\":\"lines+markers\",\"type\":\"scatter\",\"x\":[1,2,3,4,5,6,7,8,9,10,11,12,13,14],\"y\":[-0.5,0.5,1.0,-0.5,0.5,1.0,1.0,-0.5,-1.0,0.5,-0.5,0.5,1.0,-0.5]}],\"layout\":{\"annotations\":[{\"font\":{\"color\":\"blue\"},\"text\":\"4M3W: SB,JL,EL,JS,JV,SG,GA\",\"x\":14,\"xref\":\"x\",\"y\":-0.5,\"yref\":\"y\"},{\"font\":{\"color\":\"orange\",\"size\":18},\"showarrow\":false,\"text\":\"FucZH 8-6 FSL\",\"x\":0.5,\"xref\":\"paper\",\"y\":1.4,\"yref\":\"y\"},{\"showarrow\":false,\"text\":\"Completed Passes: 4,Turns: 2\",\"x\":12,\"xref\":\"x\",\"y\":1.3,\"yref\":\"y\"}]},\"name\":\"frame14\"}]);\n",
       "                        }).then(function(){\n",
       "                            \n",
       "var gd = document.getElementById('b23216b8-c583-441e-bd56-25aa46c3756d');\n",
       "var x = new MutationObserver(function (mutations, observer) {{\n",
       "        var display = window.getComputedStyle(gd).display;\n",
       "        if (!display || display === 'none') {{\n",
       "            console.log([gd, 'removed!']);\n",
       "            Plotly.purge(gd);\n",
       "            observer.disconnect();\n",
       "        }}\n",
       "}});\n",
       "\n",
       "// Listen for the removal of the full notebook cells\n",
       "var notebookContainer = gd.closest('#notebook-container');\n",
       "if (notebookContainer) {{\n",
       "    x.observe(notebookContainer, {childList: true});\n",
       "}}\n",
       "\n",
       "// Listen for the clearing of the current output cell\n",
       "var outputEl = gd.closest('.output');\n",
       "if (outputEl) {{\n",
       "    x.observe(outputEl, {childList: true});\n",
       "}}\n",
       "\n",
       "                        })                };                });            </script>        </div>"
      ]
     },
     "metadata": {},
     "output_type": "display_data"
    }
   ],
   "source": [
    "fig=game_flow_fig(df,'FSL',slidew,slideh)\n",
    "fig.show()"
   ]
  },
  {
   "cell_type": "markdown",
   "metadata": {
    "slideshow": {
     "slide_type": "slide"
    }
   },
   "source": [
    "### Throwing and Receiving"
   ]
  },
  {
   "cell_type": "code",
   "execution_count": 17,
   "metadata": {
    "slideshow": {
     "slide_type": "skip"
    }
   },
   "outputs": [],
   "source": [
    "#throws per offense, throws per defense\n",
    "#fig=px.pie()\n",
    "odf=df.where(df.Line=='O').where(df.opponent_throwaway == 0).dropna(how='all').groupby('Opponent')\n",
    "ddf=df.where(df.Line=='D').where(df.opponent_throwaway == 0).dropna(how='all').groupby('Opponent')\n",
    "tadf=df.where(df.opponent_throwaway==1).groupby('Opponent')"
   ]
  },
  {
   "cell_type": "code",
   "execution_count": 18,
   "metadata": {
    "slideshow": {
     "slide_type": "skip"
    }
   },
   "outputs": [],
   "source": [
    "#defense_points=\n",
    "#total_points=\n",
    "offense_points=df.where(df.Offense_line==1).groupby('Opponent').PointID.nunique()\n",
    "defense_points=df.where(df.Offense_line==0).groupby('Opponent').PointID.nunique()\n",
    "total_points=offense_points+defense_points"
   ]
  },
  {
   "cell_type": "code",
   "execution_count": 671,
   "metadata": {
    "slideshow": {
     "slide_type": "fragment"
    },
    "tags": [
     "to_remove"
    ]
   },
   "outputs": [
    {
     "data": {
      "application/vnd.plotly.v1+json": {
       "config": {
        "plotlyServerURL": "https://plotly.com"
       },
       "data": [
        {
         "name": "Offense catches",
         "type": "bar",
         "x": [
          "FSL",
          "Fly High Lausanne",
          "Wombats Willisau",
          "Wizards Geneva"
         ],
         "y": [
          4,
          9.333333333333334,
          10.583333333333334,
          13.125
         ]
        },
        {
         "name": "Defense catches",
         "type": "bar",
         "x": [
          "FSL",
          "Fly High Lausanne",
          "Wombats Willisau",
          "Wizards Geneva"
         ],
         "y": [
          1.3,
          0.9,
          1.0714285714285714,
          1.6
         ]
        },
        {
         "name": "Offense throwaway",
         "type": "bar",
         "x": [
          "FSL",
          "Fly High Lausanne",
          "Wombats Willisau",
          "Wizards Geneva"
         ],
         "y": [
          0.6666666666666666,
          0.6666666666666666,
          0.25,
          0.375
         ]
        },
        {
         "name": "Defense throwaway",
         "type": "bar",
         "x": [
          "FSL",
          "Fly High Lausanne",
          "Wombats Willisau",
          "Wizards Geneva"
         ],
         "y": [
          0.2,
          0.5,
          0.35714285714285715,
          0.4
         ]
        },
        {
         "name": "Offense drops",
         "type": "bar",
         "x": [
          "FSL",
          "Fly High Lausanne",
          "Wombats Willisau",
          "Wizards Geneva"
         ],
         "y": [
          0,
          0.16666666666666666,
          0.16666666666666666,
          0.125
         ]
        },
        {
         "name": "Defense drops",
         "type": "bar",
         "x": [
          "FSL",
          "Fly High Lausanne",
          "Wombats Willisau",
          "Wizards Geneva"
         ],
         "y": [
          0.1,
          0,
          0,
          0
         ]
        },
        {
         "name": "Offense Ds",
         "type": "bar",
         "x": [
          "FSL",
          "Fly High Lausanne",
          "Wombats Willisau",
          "Wizards Geneva"
         ],
         "y": [
          0.16666666666666666,
          0.25,
          0.25,
          0.125
         ]
        },
        {
         "name": "Defense Ds",
         "type": "bar",
         "x": [
          "FSL",
          "Fly High Lausanne",
          "Wombats Willisau",
          "Wizards Geneva"
         ],
         "y": [
          0.2,
          0.3,
          0.21428571428571427,
          0.3
         ]
        },
        {
         "marker": {
          "color": "grey"
         },
         "name": "Opponent Throwaway",
         "type": "bar",
         "x": [
          "FSL",
          "Fly High Lausanne",
          "Wombats Willisau",
          "Wizards Geneva"
         ],
         "y": [
          0.4375,
          0.36363636363636365,
          0.19230769230769232,
          0.3333333333333333
         ]
        }
       ],
       "layout": {
        "images": [
         {
          "sizex": 0.2,
          "sizey": 0.2,
          "source": "https://raw.githubusercontent.com/elastufka/presentations/master/images/ZU_logo1.png",
          "x": 0,
          "xanchor": "right",
          "xref": "paper",
          "y": 1.05,
          "yanchor": "bottom",
          "yref": "paper"
         }
        ],
        "template": {
         "layout": {
          "colorway": [
           "#000000",
           "#784F17",
           "#FF0018",
           "#FFA52C",
           "#FFFF41",
           "#008018",
           "#0000F9",
           "#86007D"
          ],
          "plot_bgcolor": "lightgrey"
         }
        },
        "title": {
         "text": "Average Events per Point"
        }
       }
      },
      "text/html": [
       "<div>                            <div id=\"20c0a869-429b-4c95-891a-a0e39ecadc0a\" class=\"plotly-graph-div\" style=\"height:525px; width:100%;\"></div>            <script type=\"text/javascript\">                require([\"plotly\"], function(Plotly) {                    window.PLOTLYENV=window.PLOTLYENV || {};                                    if (document.getElementById(\"20c0a869-429b-4c95-891a-a0e39ecadc0a\")) {                    Plotly.newPlot(                        \"20c0a869-429b-4c95-891a-a0e39ecadc0a\",                        [{\"name\":\"Offense catches\",\"type\":\"bar\",\"x\":[\"FSL\",\"Fly High Lausanne\",\"Wombats Willisau\",\"Wizards Geneva\"],\"y\":[4.0,9.333333333333334,10.583333333333334,13.125]},{\"name\":\"Defense catches\",\"type\":\"bar\",\"x\":[\"FSL\",\"Fly High Lausanne\",\"Wombats Willisau\",\"Wizards Geneva\"],\"y\":[1.3,0.9,1.0714285714285714,1.6]},{\"name\":\"Offense throwaway\",\"type\":\"bar\",\"x\":[\"FSL\",\"Fly High Lausanne\",\"Wombats Willisau\",\"Wizards Geneva\"],\"y\":[0.6666666666666666,0.6666666666666666,0.25,0.375]},{\"name\":\"Defense throwaway\",\"type\":\"bar\",\"x\":[\"FSL\",\"Fly High Lausanne\",\"Wombats Willisau\",\"Wizards Geneva\"],\"y\":[0.2,0.5,0.35714285714285715,0.4]},{\"name\":\"Offense drops\",\"type\":\"bar\",\"x\":[\"FSL\",\"Fly High Lausanne\",\"Wombats Willisau\",\"Wizards Geneva\"],\"y\":[0.0,0.16666666666666666,0.16666666666666666,0.125]},{\"name\":\"Defense drops\",\"type\":\"bar\",\"x\":[\"FSL\",\"Fly High Lausanne\",\"Wombats Willisau\",\"Wizards Geneva\"],\"y\":[0.1,0.0,0.0,0.0]},{\"name\":\"Offense Ds\",\"type\":\"bar\",\"x\":[\"FSL\",\"Fly High Lausanne\",\"Wombats Willisau\",\"Wizards Geneva\"],\"y\":[0.16666666666666666,0.25,0.25,0.125]},{\"name\":\"Defense Ds\",\"type\":\"bar\",\"x\":[\"FSL\",\"Fly High Lausanne\",\"Wombats Willisau\",\"Wizards Geneva\"],\"y\":[0.2,0.3,0.21428571428571427,0.3]},{\"marker\":{\"color\":\"grey\"},\"name\":\"Opponent Throwaway\",\"type\":\"bar\",\"x\":[\"FSL\",\"Fly High Lausanne\",\"Wombats Willisau\",\"Wizards Geneva\"],\"y\":[0.4375,0.36363636363636365,0.19230769230769232,0.3333333333333333]}],                        {\"images\":[{\"sizex\":0.2,\"sizey\":0.2,\"source\":\"https://raw.githubusercontent.com/elastufka/presentations/master/images/ZU_logo1.png\",\"x\":0,\"xanchor\":\"right\",\"xref\":\"paper\",\"y\":1.05,\"yanchor\":\"bottom\",\"yref\":\"paper\"}],\"template\":{\"layout\":{\"colorway\":[\"#000000\",\"#784F17\",\"#FF0018\",\"#FFA52C\",\"#FFFF41\",\"#008018\",\"#0000F9\",\"#86007D\"],\"plot_bgcolor\":\"lightgrey\"}},\"title\":{\"text\":\"Average Events per Point\"}},                        {\"responsive\": true}                    ).then(function(){\n",
       "                            \n",
       "var gd = document.getElementById('20c0a869-429b-4c95-891a-a0e39ecadc0a');\n",
       "var x = new MutationObserver(function (mutations, observer) {{\n",
       "        var display = window.getComputedStyle(gd).display;\n",
       "        if (!display || display === 'none') {{\n",
       "            console.log([gd, 'removed!']);\n",
       "            Plotly.purge(gd);\n",
       "            observer.disconnect();\n",
       "        }}\n",
       "}});\n",
       "\n",
       "// Listen for the removal of the full notebook cells\n",
       "var notebookContainer = gd.closest('#notebook-container');\n",
       "if (notebookContainer) {{\n",
       "    x.observe(notebookContainer, {childList: true});\n",
       "}}\n",
       "\n",
       "// Listen for the clearing of the current output cell\n",
       "var outputEl = gd.closest('.output');\n",
       "if (outputEl) {{\n",
       "    x.observe(outputEl, {childList: true});\n",
       "}}\n",
       "\n",
       "                        })                };                });            </script>        </div>"
      ]
     },
     "metadata": {},
     "output_type": "display_data"
    }
   ],
   "source": [
    "fig=go.Figure()\n",
    "fig.add_trace(go.Bar(x=df.Opponent.unique(),y=odf.Catch.sum()/offense_points,name='Offense catches'))\n",
    "fig.add_trace(go.Bar(x=df.Opponent.unique(),y=ddf.Catch.sum()/defense_points,name='Defense catches'))\n",
    "fig.add_trace(go.Bar(x=df.Opponent.unique(),y=odf.Throwaway.sum()/offense_points,name='Offense throwaway'))\n",
    "fig.add_trace(go.Bar(x=df.Opponent.unique(),y=ddf.Throwaway.sum()/defense_points,name='Defense throwaway'))\n",
    "fig.add_trace(go.Bar(x=df.Opponent.unique(),y=odf.Drop.sum()/offense_points,name='Offense drops'))\n",
    "fig.add_trace(go.Bar(x=df.Opponent.unique(),y=ddf.Drop.sum()/defense_points,name='Defense drops'))\n",
    "fig.add_trace(go.Bar(x=df.Opponent.unique(),y=odf.D.sum()/offense_points,name='Offense Ds'))\n",
    "fig.add_trace(go.Bar(x=df.Opponent.unique(),y=ddf.D.sum()/defense_points,name='Defense Ds'))\n",
    "fig.add_trace(go.Bar(x=df.Opponent.unique(),y=tadf.Throwaway.sum()/total_points,marker_color='grey',name='Opponent Throwaway'))\n",
    "fig.update_layout(title='Average Events per Point')\n",
    "fig.update_layout(logo_layout)"
   ]
  },
  {
   "cell_type": "markdown",
   "metadata": {
    "slideshow": {
     "slide_type": "fragment"
    }
   },
   "source": [
    "\"Offense\" and \"Defense\" here refer to line, not if we were currently playing O or D"
   ]
  },
  {
   "cell_type": "code",
   "execution_count": 657,
   "metadata": {
    "slideshow": {
     "slide_type": "fragment"
    },
    "tags": [
     "to_remove"
    ]
   },
   "outputs": [
    {
     "data": {
      "application/vnd.plotly.v1+json": {
       "config": {
        "plotlyServerURL": "https://plotly.com"
       },
       "data": [
        {
         "marker": {
          "color": "#008018"
         },
         "name": "Hockey Assists",
         "type": "bar",
         "x": [
          "SH",
          "FS",
          "AY",
          "LB",
          "MV",
          "CC",
          "GA",
          "AL",
          "Anonymous",
          "CS",
          "EL",
          "JS"
         ],
         "y": [
          7,
          5,
          4,
          4,
          4,
          2,
          2,
          1,
          1,
          1,
          1,
          1
         ]
        },
        {
         "marker": {
          "color": "#0000F9"
         },
         "name": "Assists",
         "type": "bar",
         "x": [
          "SH",
          "FS",
          "GA",
          "MV",
          "SG",
          "AY",
          "CS",
          "MR",
          "Anonymous",
          "EL",
          "SB"
         ],
         "y": [
          9,
          5,
          4,
          3,
          3,
          2,
          2,
          2,
          1,
          1,
          1
         ]
        }
       ],
       "layout": {
        "barmode": "stack",
        "images": [
         {
          "sizex": 0.2,
          "sizey": 0.2,
          "source": "https://raw.githubusercontent.com/elastufka/presentations/master/images/ZU_logo1.png",
          "x": 0,
          "xanchor": "right",
          "xref": "paper",
          "y": 1.05,
          "yanchor": "bottom",
          "yref": "paper"
         }
        ],
        "template": {
         "layout": {
          "colorway": [
           "#000000",
           "#784F17",
           "#FF0018",
           "#FFA52C",
           "#FFFF41",
           "#008018",
           "#0000F9",
           "#86007D"
          ],
          "plot_bgcolor": "lightgrey"
         }
        },
        "title": {
         "text": "Assists and Hockey Assists"
        },
        "xaxis": {
         "categoryorder": "total descending",
         "title": {
          "text": "Player"
         }
        },
        "yaxis": {
         "title": {
          "text": "Number"
         }
        }
       }
      },
      "text/html": [
       "<div>                            <div id=\"f3e97a2b-03f8-4ae9-b424-6dd71cf894a4\" class=\"plotly-graph-div\" style=\"height:525px; width:100%;\"></div>            <script type=\"text/javascript\">                require([\"plotly\"], function(Plotly) {                    window.PLOTLYENV=window.PLOTLYENV || {};                                    if (document.getElementById(\"f3e97a2b-03f8-4ae9-b424-6dd71cf894a4\")) {                    Plotly.newPlot(                        \"f3e97a2b-03f8-4ae9-b424-6dd71cf894a4\",                        [{\"marker\":{\"color\":\"#008018\"},\"name\":\"Hockey Assists\",\"type\":\"bar\",\"x\":[\"SH\",\"FS\",\"AY\",\"LB\",\"MV\",\"CC\",\"GA\",\"AL\",\"Anonymous\",\"CS\",\"EL\",\"JS\"],\"y\":[7,5,4,4,4,2,2,1,1,1,1,1]},{\"marker\":{\"color\":\"#0000F9\"},\"name\":\"Assists\",\"type\":\"bar\",\"x\":[\"SH\",\"FS\",\"GA\",\"MV\",\"SG\",\"AY\",\"CS\",\"MR\",\"Anonymous\",\"EL\",\"SB\"],\"y\":[9,5,4,3,3,2,2,2,1,1,1]}],                        {\"barmode\":\"stack\",\"images\":[{\"sizex\":0.2,\"sizey\":0.2,\"source\":\"https://raw.githubusercontent.com/elastufka/presentations/master/images/ZU_logo1.png\",\"x\":0,\"xanchor\":\"right\",\"xref\":\"paper\",\"y\":1.05,\"yanchor\":\"bottom\",\"yref\":\"paper\"}],\"template\":{\"layout\":{\"colorway\":[\"#000000\",\"#784F17\",\"#FF0018\",\"#FFA52C\",\"#FFFF41\",\"#008018\",\"#0000F9\",\"#86007D\"],\"plot_bgcolor\":\"lightgrey\"}},\"title\":{\"text\":\"Assists and Hockey Assists\"},\"xaxis\":{\"categoryorder\":\"total descending\",\"title\":{\"text\":\"Player\"}},\"yaxis\":{\"title\":{\"text\":\"Number\"}}},                        {\"responsive\": true}                    ).then(function(){\n",
       "                            \n",
       "var gd = document.getElementById('f3e97a2b-03f8-4ae9-b424-6dd71cf894a4');\n",
       "var x = new MutationObserver(function (mutations, observer) {{\n",
       "        var display = window.getComputedStyle(gd).display;\n",
       "        if (!display || display === 'none') {{\n",
       "            console.log([gd, 'removed!']);\n",
       "            Plotly.purge(gd);\n",
       "            observer.disconnect();\n",
       "        }}\n",
       "}});\n",
       "\n",
       "// Listen for the removal of the full notebook cells\n",
       "var notebookContainer = gd.closest('#notebook-container');\n",
       "if (notebookContainer) {{\n",
       "    x.observe(notebookContainer, {childList: true});\n",
       "}}\n",
       "\n",
       "// Listen for the clearing of the current output cell\n",
       "var outputEl = gd.closest('.output');\n",
       "if (outputEl) {{\n",
       "    x.observe(outputEl, {childList: true});\n",
       "}}\n",
       "\n",
       "                        })                };                });            </script>        </div>"
      ]
     },
     "metadata": {},
     "output_type": "display_data"
    }
   ],
   "source": [
    "ag=df.groupby('Hockey_assist').count().sort_values('Action',ascending=False)\n",
    "aa=df.groupby('Assist').count().sort_values('Action',ascending=False)\n",
    "fig=go.Figure()\n",
    "fig.add_trace(go.Bar(x=ag.index,y=ag.Action.values,marker_color=pcolors[5],name='Hockey Assists'))\n",
    "fig.add_trace(go.Bar(x=aa.index,y=aa.Action.values,marker_color=pcolors[6],name='Assists'))\n",
    "fig.update_layout(barmode='stack',title='Assists and Hockey Assists',yaxis_title='Number',xaxis_title='Player',xaxis={'categoryorder':'total descending'})\n",
    "fig.update_layout(logo_layout)"
   ]
  },
  {
   "cell_type": "code",
   "execution_count": 672,
   "metadata": {
    "slideshow": {
     "slide_type": "fragment"
    },
    "tags": [
     "to_remove"
    ]
   },
   "outputs": [
    {
     "data": {
      "application/vnd.plotly.v1+json": {
       "config": {
        "plotlyServerURL": "https://plotly.com"
       },
       "data": [
        {
         "name": "FSL",
         "type": "bar",
         "x": [
          "MW",
          "WM",
          "MM",
          "MU",
          "UM",
          "UU",
          "WW",
          "WU"
         ],
         "y": [
          17,
          13,
          8,
          7,
          3,
          2,
          2,
          1
         ]
        },
        {
         "name": "Fly High Lausanne",
         "type": "bar",
         "x": [
          "MM",
          "WM",
          "MW",
          "MU",
          "WW",
          "WU",
          "UW",
          "UM",
          "UU"
         ],
         "y": [
          54,
          32,
          30,
          16,
          5,
          4,
          2,
          1,
          1
         ]
        },
        {
         "name": "Wombats Willisau",
         "type": "bar",
         "x": [
          "MW",
          "WM",
          "MM",
          "WW",
          "MU",
          "WU",
          "UW"
         ],
         "y": [
          40,
          40,
          36,
          10,
          6,
          5,
          2
         ]
        },
        {
         "name": "Wizards Geneva",
         "type": "bar",
         "x": [
          "MM",
          "WM",
          "MW",
          "WW",
          "MU",
          "UW",
          "WU",
          "UM",
          "UU"
         ],
         "y": [
          56,
          35,
          31,
          14,
          11,
          7,
          6,
          4,
          1
         ]
        }
       ],
       "layout": {
        "barmode": "stack",
        "images": [
         {
          "sizex": 0.2,
          "sizey": 0.2,
          "source": "https://raw.githubusercontent.com/elastufka/presentations/master/images/ZU_logo1.png",
          "x": 0,
          "xanchor": "right",
          "xref": "paper",
          "y": 1.05,
          "yanchor": "bottom",
          "yref": "paper"
         }
        ],
        "template": {
         "layout": {
          "colorway": [
           "#000000",
           "#784F17",
           "#FF0018",
           "#FFA52C",
           "#FFFF41",
           "#008018",
           "#0000F9",
           "#86007D"
          ],
          "plot_bgcolor": "lightgrey"
         }
        },
        "title": {
         "text": "Pass matchups"
        },
        "xaxis": {
         "categoryorder": "total descending",
         "title": {
          "text": "Gender Matchup"
         }
        },
        "yaxis": {
         "title": {
          "text": "Number of Passes"
         }
        }
       }
      },
      "text/html": [
       "<div>                            <div id=\"fe199c11-dc05-4d10-9440-7391f4ea9bf2\" class=\"plotly-graph-div\" style=\"height:525px; width:100%;\"></div>            <script type=\"text/javascript\">                require([\"plotly\"], function(Plotly) {                    window.PLOTLYENV=window.PLOTLYENV || {};                                    if (document.getElementById(\"fe199c11-dc05-4d10-9440-7391f4ea9bf2\")) {                    Plotly.newPlot(                        \"fe199c11-dc05-4d10-9440-7391f4ea9bf2\",                        [{\"name\":\"FSL\",\"type\":\"bar\",\"x\":[\"MW\",\"WM\",\"MM\",\"MU\",\"UM\",\"UU\",\"WW\",\"WU\"],\"y\":[17,13,8,7,3,2,2,1]},{\"name\":\"Fly High Lausanne\",\"type\":\"bar\",\"x\":[\"MM\",\"WM\",\"MW\",\"MU\",\"WW\",\"WU\",\"UW\",\"UM\",\"UU\"],\"y\":[54,32,30,16,5,4,2,1,1]},{\"name\":\"Wombats Willisau\",\"type\":\"bar\",\"x\":[\"MW\",\"WM\",\"MM\",\"WW\",\"MU\",\"WU\",\"UW\"],\"y\":[40,40,36,10,6,5,2]},{\"name\":\"Wizards Geneva\",\"type\":\"bar\",\"x\":[\"MM\",\"WM\",\"MW\",\"WW\",\"MU\",\"UW\",\"WU\",\"UM\",\"UU\"],\"y\":[56,35,31,14,11,7,6,4,1]}],                        {\"barmode\":\"stack\",\"images\":[{\"sizex\":0.2,\"sizey\":0.2,\"source\":\"https://raw.githubusercontent.com/elastufka/presentations/master/images/ZU_logo1.png\",\"x\":0,\"xanchor\":\"right\",\"xref\":\"paper\",\"y\":1.05,\"yanchor\":\"bottom\",\"yref\":\"paper\"}],\"template\":{\"layout\":{\"colorway\":[\"#000000\",\"#784F17\",\"#FF0018\",\"#FFA52C\",\"#FFFF41\",\"#008018\",\"#0000F9\",\"#86007D\"],\"plot_bgcolor\":\"lightgrey\"}},\"title\":{\"text\":\"Pass matchups\"},\"xaxis\":{\"categoryorder\":\"total descending\",\"title\":{\"text\":\"Gender Matchup\"}},\"yaxis\":{\"title\":{\"text\":\"Number of Passes\"}}},                        {\"responsive\": true}                    ).then(function(){\n",
       "                            \n",
       "var gd = document.getElementById('fe199c11-dc05-4d10-9440-7391f4ea9bf2');\n",
       "var x = new MutationObserver(function (mutations, observer) {{\n",
       "        var display = window.getComputedStyle(gd).display;\n",
       "        if (!display || display === 'none') {{\n",
       "            console.log([gd, 'removed!']);\n",
       "            Plotly.purge(gd);\n",
       "            observer.disconnect();\n",
       "        }}\n",
       "}});\n",
       "\n",
       "// Listen for the removal of the full notebook cells\n",
       "var notebookContainer = gd.closest('#notebook-container');\n",
       "if (notebookContainer) {{\n",
       "    x.observe(notebookContainer, {childList: true});\n",
       "}}\n",
       "\n",
       "// Listen for the clearing of the current output cell\n",
       "var outputEl = gd.closest('.output');\n",
       "if (outputEl) {{\n",
       "    x.observe(outputEl, {childList: true});\n",
       "}}\n",
       "\n",
       "                        })                };                });            </script>        </div>"
      ]
     },
     "metadata": {},
     "output_type": "display_data"
    }
   ],
   "source": [
    "## pass matchups by gender\n",
    "#ag=df.groupby('Pass_matchup').count().sort_values('Action',ascending=False)\n",
    "fig=go.Figure()\n",
    "for op in df.Opponent.unique():\n",
    "    ag=df.where(df.Opponent==op).groupby('Pass_matchup').count().sort_values('Action',ascending=False)\n",
    "    fig.add_trace(go.Bar(x=ag.index,y=ag.Action,name=op))\n",
    "fig.update_layout(barmode='stack',title='Pass matchups',yaxis_title='Number of Passes',xaxis_title='Gender Matchup',xaxis={'categoryorder':'total descending'})\n",
    "fig.update_layout(logo_layout)"
   ]
  },
  {
   "cell_type": "markdown",
   "metadata": {
    "slideshow": {
     "slide_type": "fragment"
    }
   },
   "source": [
    "Once again, here passes exclude goal-scoring passes.\n",
    "\n",
    "If thrower/receiver is unknown, their gender matchup is also unknown (U)"
   ]
  },
  {
   "cell_type": "code",
   "execution_count": 673,
   "metadata": {
    "slideshow": {
     "slide_type": "fragment"
    },
    "tags": [
     "to_remove"
    ]
   },
   "outputs": [
    {
     "data": {
      "application/vnd.plotly.v1+json": {
       "config": {
        "plotlyServerURL": "https://plotly.com"
       },
       "data": [
        {
         "name": "FSL",
         "type": "bar",
         "x": [
          "MW",
          "UM"
         ],
         "y": [
          3,
          1
         ]
        },
        {
         "name": "Fly High Lausanne",
         "type": "bar",
         "x": [
          "MM",
          "MW",
          "WM",
          "WW"
         ],
         "y": [
          13,
          13,
          5,
          1
         ]
        },
        {
         "name": "Wombats Willisau",
         "type": "bar",
         "x": [
          "MW",
          "MM",
          "WM",
          "WW"
         ],
         "y": [
          11,
          10,
          5,
          1
         ]
        },
        {
         "name": "Wizards Geneva",
         "type": "bar",
         "x": [
          "MM",
          "MW",
          "WM",
          "WW",
          "UW",
          "WU",
          "UM"
         ],
         "y": [
          18,
          15,
          9,
          4,
          3,
          2,
          1
         ]
        }
       ],
       "layout": {
        "barmode": "stack",
        "images": [
         {
          "sizex": 0.2,
          "sizey": 0.2,
          "source": "https://raw.githubusercontent.com/elastufka/presentations/master/images/ZU_logo1.png",
          "x": 0,
          "xanchor": "right",
          "xref": "paper",
          "y": 1.05,
          "yanchor": "bottom",
          "yref": "paper"
         }
        ],
        "template": {
         "layout": {
          "colorway": [
           "#000000",
           "#784F17",
           "#FF0018",
           "#FFA52C",
           "#FFFF41",
           "#008018",
           "#0000F9",
           "#86007D"
          ],
          "plot_bgcolor": "lightgrey"
         }
        },
        "title": {
         "text": "Give-and-go matchups"
        },
        "xaxis": {
         "categoryorder": "total descending",
         "title": {
          "text": "Gender Matchup"
         }
        },
        "yaxis": {
         "title": {
          "text": "Number of Give-and-Go Passes"
         }
        }
       }
      },
      "text/html": [
       "<div>                            <div id=\"f69848d9-5636-4a37-a717-ec7bf57d7ed2\" class=\"plotly-graph-div\" style=\"height:525px; width:100%;\"></div>            <script type=\"text/javascript\">                require([\"plotly\"], function(Plotly) {                    window.PLOTLYENV=window.PLOTLYENV || {};                                    if (document.getElementById(\"f69848d9-5636-4a37-a717-ec7bf57d7ed2\")) {                    Plotly.newPlot(                        \"f69848d9-5636-4a37-a717-ec7bf57d7ed2\",                        [{\"name\":\"FSL\",\"type\":\"bar\",\"x\":[\"MW\",\"UM\"],\"y\":[3,1]},{\"name\":\"Fly High Lausanne\",\"type\":\"bar\",\"x\":[\"MM\",\"MW\",\"WM\",\"WW\"],\"y\":[13,13,5,1]},{\"name\":\"Wombats Willisau\",\"type\":\"bar\",\"x\":[\"MW\",\"MM\",\"WM\",\"WW\"],\"y\":[11,10,5,1]},{\"name\":\"Wizards Geneva\",\"type\":\"bar\",\"x\":[\"MM\",\"MW\",\"WM\",\"WW\",\"UW\",\"WU\",\"UM\"],\"y\":[18,15,9,4,3,2,1]}],                        {\"barmode\":\"stack\",\"images\":[{\"sizex\":0.2,\"sizey\":0.2,\"source\":\"https://raw.githubusercontent.com/elastufka/presentations/master/images/ZU_logo1.png\",\"x\":0,\"xanchor\":\"right\",\"xref\":\"paper\",\"y\":1.05,\"yanchor\":\"bottom\",\"yref\":\"paper\"}],\"template\":{\"layout\":{\"colorway\":[\"#000000\",\"#784F17\",\"#FF0018\",\"#FFA52C\",\"#FFFF41\",\"#008018\",\"#0000F9\",\"#86007D\"],\"plot_bgcolor\":\"lightgrey\"}},\"title\":{\"text\":\"Give-and-go matchups\"},\"xaxis\":{\"categoryorder\":\"total descending\",\"title\":{\"text\":\"Gender Matchup\"}},\"yaxis\":{\"title\":{\"text\":\"Number of Give-and-Go Passes\"}}},                        {\"responsive\": true}                    ).then(function(){\n",
       "                            \n",
       "var gd = document.getElementById('f69848d9-5636-4a37-a717-ec7bf57d7ed2');\n",
       "var x = new MutationObserver(function (mutations, observer) {{\n",
       "        var display = window.getComputedStyle(gd).display;\n",
       "        if (!display || display === 'none') {{\n",
       "            console.log([gd, 'removed!']);\n",
       "            Plotly.purge(gd);\n",
       "            observer.disconnect();\n",
       "        }}\n",
       "}});\n",
       "\n",
       "// Listen for the removal of the full notebook cells\n",
       "var notebookContainer = gd.closest('#notebook-container');\n",
       "if (notebookContainer) {{\n",
       "    x.observe(notebookContainer, {childList: true});\n",
       "}}\n",
       "\n",
       "// Listen for the clearing of the current output cell\n",
       "var outputEl = gd.closest('.output');\n",
       "if (outputEl) {{\n",
       "    x.observe(outputEl, {childList: true});\n",
       "}}\n",
       "\n",
       "                        })                };                });            </script>        </div>"
      ]
     },
     "metadata": {},
     "output_type": "display_data"
    }
   ],
   "source": [
    "fig=go.Figure()\n",
    "for op in df.Opponent.unique():\n",
    "    ag=df.where(df.Opponent==op).groupby('give-and-go_matchup').count().sort_values('Action',ascending=False)\n",
    "    fig.add_trace(go.Bar(x=ag.index,y=ag.Action,name=op))\n",
    "fig.update_layout(barmode='stack',title='Give-and-go matchups',yaxis_title='Number of Give-and-Go Passes',xaxis_title='Gender Matchup',xaxis={'categoryorder':'total descending'})\n",
    "fig.update_layout(logo_layout)"
   ]
  },
  {
   "cell_type": "markdown",
   "metadata": {
    "slideshow": {
     "slide_type": "fragment"
    }
   },
   "source": [
    "A give-and-go was defined as a single instance where the thrower became the next receiver. So a sequence that looks like A-B-A-B-A is counted not as a single give-and-go, but as 3 (2 for A-B, 1 for B-A).\n",
    "\n",
    "The order of the person in the give-and-go-pair does not matter for counting purposes."
   ]
  },
  {
   "cell_type": "code",
   "execution_count": 677,
   "metadata": {
    "slideshow": {
     "slide_type": "fragment"
    },
    "tags": [
     "to_remove"
    ]
   },
   "outputs": [
    {
     "data": {
      "application/vnd.plotly.v1+json": {
       "config": {
        "plotlyServerURL": "https://plotly.com"
       },
       "data": [
        {
         "marker": {
          "color": [
           "#f0f921",
           "rgb(202.5, 71.0, 120.5)",
           "rgb(193.15384615384616, 59.923076923076934, 129.84615384615384)",
           "rgb(146.30769230769232, 17.92307692307693, 160.3076923076923)",
           "rgb(102.15384615384616, 1.538461538461538, 165.57692307692307)",
           "rgb(71.6923076923077, 2.923076923076923, 159.34615384615384)",
           "rgb(71.6923076923077, 2.923076923076923, 159.34615384615384)",
           "rgb(71.6923076923077, 2.923076923076923, 159.34615384615384)",
           "rgb(71.6923076923077, 2.923076923076923, 159.34615384615384)",
           "rgb(71.6923076923077, 2.923076923076923, 159.34615384615384)",
           "rgb(71.6923076923077, 2.923076923076923, 159.34615384615384)",
           "rgb(52.46153846153847, 4.538461538461538, 151.6153846153846)",
           "rgb(52.46153846153847, 4.538461538461538, 151.6153846153846)",
           "rgb(52.46153846153847, 4.538461538461538, 151.6153846153846)",
           "rgb(52.46153846153847, 4.538461538461538, 151.6153846153846)",
           "rgb(52.46153846153847, 4.538461538461538, 151.6153846153846)",
           "rgb(52.46153846153847, 4.538461538461538, 151.6153846153846)",
           "rgb(52.46153846153847, 4.538461538461538, 151.6153846153846)",
           "rgb(52.46153846153847, 4.538461538461538, 151.6153846153846)"
          ]
         },
         "type": "bar",
         "x": [
          "AY-SH",
          "FS-GA",
          "FS-SH",
          "AY-GA",
          "CS-SH",
          "AL-SB",
          "AY-Anonymous",
          "LB-MR",
          "JS-SH",
          "AY-FS",
          "GA-SH",
          "CC-FS",
          "MV-SG",
          "GA-SB",
          "GA-LB",
          "EL-SH",
          "CS-FS",
          "SB-SH",
          "AY-CS"
         ],
         "y": [
          26,
          13,
          12,
          8,
          5,
          3,
          3,
          3,
          3,
          3,
          3,
          2,
          2,
          2,
          2,
          2,
          2,
          2,
          2
         ]
        }
       ],
       "layout": {
        "images": [
         {
          "sizex": 0.2,
          "sizey": 0.2,
          "source": "https://raw.githubusercontent.com/elastufka/presentations/master/images/ZU_logo1.png",
          "x": 0,
          "xanchor": "right",
          "xref": "paper",
          "y": 1.05,
          "yanchor": "bottom",
          "yref": "paper"
         }
        ],
        "template": {
         "layout": {
          "colorway": [
           "#000000",
           "#784F17",
           "#FF0018",
           "#FFA52C",
           "#FFFF41",
           "#008018",
           "#0000F9",
           "#86007D"
          ],
          "plot_bgcolor": "lightgrey"
         }
        },
        "title": {
         "text": "Give-and-go Pairs"
        },
        "xaxis": {
         "title": {
          "text": "Pairs"
         }
        },
        "yaxis": {
         "title": {
          "text": "Number of Give-and-Go Passes"
         }
        }
       }
      },
      "text/html": [
       "<div>                            <div id=\"c59dc247-02fa-48cc-934f-24c78d9e0e2a\" class=\"plotly-graph-div\" style=\"height:525px; width:100%;\"></div>            <script type=\"text/javascript\">                require([\"plotly\"], function(Plotly) {                    window.PLOTLYENV=window.PLOTLYENV || {};                                    if (document.getElementById(\"c59dc247-02fa-48cc-934f-24c78d9e0e2a\")) {                    Plotly.newPlot(                        \"c59dc247-02fa-48cc-934f-24c78d9e0e2a\",                        [{\"marker\":{\"color\":[\"#f0f921\",\"rgb(202.5, 71.0, 120.5)\",\"rgb(193.15384615384616, 59.923076923076934, 129.84615384615384)\",\"rgb(146.30769230769232, 17.92307692307693, 160.3076923076923)\",\"rgb(102.15384615384616, 1.538461538461538, 165.57692307692307)\",\"rgb(71.6923076923077, 2.923076923076923, 159.34615384615384)\",\"rgb(71.6923076923077, 2.923076923076923, 159.34615384615384)\",\"rgb(71.6923076923077, 2.923076923076923, 159.34615384615384)\",\"rgb(71.6923076923077, 2.923076923076923, 159.34615384615384)\",\"rgb(71.6923076923077, 2.923076923076923, 159.34615384615384)\",\"rgb(71.6923076923077, 2.923076923076923, 159.34615384615384)\",\"rgb(52.46153846153847, 4.538461538461538, 151.6153846153846)\",\"rgb(52.46153846153847, 4.538461538461538, 151.6153846153846)\",\"rgb(52.46153846153847, 4.538461538461538, 151.6153846153846)\",\"rgb(52.46153846153847, 4.538461538461538, 151.6153846153846)\",\"rgb(52.46153846153847, 4.538461538461538, 151.6153846153846)\",\"rgb(52.46153846153847, 4.538461538461538, 151.6153846153846)\",\"rgb(52.46153846153847, 4.538461538461538, 151.6153846153846)\",\"rgb(52.46153846153847, 4.538461538461538, 151.6153846153846)\"]},\"type\":\"bar\",\"x\":[\"AY-SH\",\"FS-GA\",\"FS-SH\",\"AY-GA\",\"CS-SH\",\"AL-SB\",\"AY-Anonymous\",\"LB-MR\",\"JS-SH\",\"AY-FS\",\"GA-SH\",\"CC-FS\",\"MV-SG\",\"GA-SB\",\"GA-LB\",\"EL-SH\",\"CS-FS\",\"SB-SH\",\"AY-CS\"],\"y\":[26,13,12,8,5,3,3,3,3,3,3,2,2,2,2,2,2,2,2]}],                        {\"images\":[{\"sizex\":0.2,\"sizey\":0.2,\"source\":\"https://raw.githubusercontent.com/elastufka/presentations/master/images/ZU_logo1.png\",\"x\":0,\"xanchor\":\"right\",\"xref\":\"paper\",\"y\":1.05,\"yanchor\":\"bottom\",\"yref\":\"paper\"}],\"template\":{\"layout\":{\"colorway\":[\"#000000\",\"#784F17\",\"#FF0018\",\"#FFA52C\",\"#FFFF41\",\"#008018\",\"#0000F9\",\"#86007D\"],\"plot_bgcolor\":\"lightgrey\"}},\"title\":{\"text\":\"Give-and-go Pairs\"},\"xaxis\":{\"title\":{\"text\":\"Pairs\"}},\"yaxis\":{\"title\":{\"text\":\"Number of Give-and-Go Passes\"}}},                        {\"responsive\": true}                    ).then(function(){\n",
       "                            \n",
       "var gd = document.getElementById('c59dc247-02fa-48cc-934f-24c78d9e0e2a');\n",
       "var x = new MutationObserver(function (mutations, observer) {{\n",
       "        var display = window.getComputedStyle(gd).display;\n",
       "        if (!display || display === 'none') {{\n",
       "            console.log([gd, 'removed!']);\n",
       "            Plotly.purge(gd);\n",
       "            observer.disconnect();\n",
       "        }}\n",
       "}});\n",
       "\n",
       "// Listen for the removal of the full notebook cells\n",
       "var notebookContainer = gd.closest('#notebook-container');\n",
       "if (notebookContainer) {{\n",
       "    x.observe(notebookContainer, {childList: true});\n",
       "}}\n",
       "\n",
       "// Listen for the clearing of the current output cell\n",
       "var outputEl = gd.closest('.output');\n",
       "if (outputEl) {{\n",
       "    x.observe(outputEl, {childList: true});\n",
       "}}\n",
       "\n",
       "                        })                };                });            </script>        </div>"
      ]
     },
     "metadata": {},
     "output_type": "display_data"
    }
   ],
   "source": [
    "ag=df.groupby('give-and-go_pairs').count().sort_values('Action',ascending=False).head(19)\n",
    "xax=[p[0]+'-'+p[1] for p in ag.index.values]\n",
    "colorscale = plotly.colors.sequential.Plasma\n",
    "cdict=[[i/(len(colorscale)-1),c] for i,c in enumerate(colorscale)]\n",
    "ccolors=[get_continuous_color(cdict,en/ag.Action.max()) for en in ag.Action.values]\n",
    "fig=go.Figure()\n",
    "fig.add_trace(go.Bar(x=xax,y=ag.Action.values,marker_color=ccolors))\n",
    "fig.update_layout(title='Give-and-go Pairs',yaxis_title='Number of Give-and-Go Passes',xaxis_title='Pairs')#,xaxis={'categoryorder':'total descending'})\n",
    "fig.update_layout(logo_layout)"
   ]
  },
  {
   "cell_type": "code",
   "execution_count": 520,
   "metadata": {
    "slideshow": {
     "slide_type": "skip"
    }
   },
   "outputs": [],
   "source": [
    "#gender score - touch ratio / gender ratio\n",
    "maj_men,maj_women=[],[]\n",
    "for op in df.Opponent.unique():\n",
    "    opdf=df.where(df.Opponent==op).dropna(how='all').groupby('PointID')\n",
    "    tdf=opdf.agg({'W4_M3':np.median,'Touch_M':sum,'Touch_W':sum,'Touch_U':sum})\n",
    "    aa=tdf.groupby('W4_M3')[['Touch_M','Touch_W','Touch_U']].mean()\n",
    "    maj_men.append(aa.iloc[0].values)\n",
    "    maj_women.append(aa.iloc[1].values)"
   ]
  },
  {
   "cell_type": "code",
   "execution_count": 565,
   "metadata": {
    "slideshow": {
     "slide_type": "skip"
    }
   },
   "outputs": [
    {
     "data": {
      "text/plain": [
       "((4, 3), array([2.        , 6.7       , 7.        , 3.18181818]))"
      ]
     },
     "execution_count": 565,
     "metadata": {},
     "output_type": "execute_result"
    }
   ],
   "source": [
    "maj_men=np.array(maj_men)\n",
    "maj_women=np.array(maj_women)\n",
    "maj_men.shape,maj_men[:,0]"
   ]
  },
  {
   "cell_type": "code",
   "execution_count": 686,
   "metadata": {
    "slideshow": {
     "slide_type": "fragment"
    },
    "tags": [
     "to_remove"
    ]
   },
   "outputs": [
    {
     "data": {
      "application/vnd.plotly.v1+json": {
       "config": {
        "plotlyServerURL": "https://plotly.com"
       },
       "data": [
        {
         "marker": {
          "color": "green"
         },
         "name": "M touches (4M)",
         "orientation": "h",
         "type": "bar",
         "x": [
          2,
          6.7,
          7,
          3.1818181818181817
         ],
         "xaxis": "x",
         "yaxis": "y"
        },
        {
         "marker": {
          "color": "orange"
         },
         "name": "W touches (4M)",
         "orientation": "h",
         "type": "bar",
         "x": [
          0.8571428571428571,
          2.2,
          3.75,
          1
         ],
         "xaxis": "x",
         "yaxis": "y"
        },
        {
         "marker": {
          "color": "green"
         },
         "name": "M touches (4W)",
         "orientation": "h",
         "type": "bar",
         "x": [
          -2.125,
          -3.3,
          -2.888888888888889,
          -4.846153846153846
         ],
         "xaxis": "x",
         "yaxis": "y2"
        },
        {
         "marker": {
          "color": "orange"
         },
         "name": "W touches (4W)",
         "orientation": "h",
         "type": "bar",
         "x": [
          -1.375,
          -1.9,
          -2.6666666666666665,
          -3.3846153846153846
         ],
         "xaxis": "x",
         "yaxis": "y2"
        },
        {
         "marker": {
          "color": "black",
          "symbol": "cross"
         },
         "mode": "markers",
         "name": "m/f touch ratio",
         "type": "scatter",
         "x": [
          2.3333333333333335,
          3.0454545454545454,
          1.8666666666666667,
          3.1818181818181817
         ],
         "xaxis": "x",
         "y": [
          0,
          1,
          2,
          3
         ],
         "yaxis": "y"
        },
        {
         "marker": {
          "color": "black",
          "symbol": "cross"
         },
         "mode": "markers",
         "name": "f/m touch ratio",
         "type": "scatter",
         "x": [
          -0.6470588235294118,
          -0.5757575757575758,
          -0.923076923076923,
          -0.6984126984126985
         ],
         "xaxis": "x",
         "y": [
          0,
          1,
          2,
          3
         ],
         "yaxis": "y2"
        }
       ],
       "layout": {
        "images": [
         {
          "sizex": 0.2,
          "sizey": 0.2,
          "source": "https://raw.githubusercontent.com/elastufka/presentations/master/images/ZU_logo1.png",
          "x": 0,
          "xanchor": "right",
          "xref": "paper",
          "y": 1.05,
          "yanchor": "bottom",
          "yref": "paper"
         }
        ],
        "shapes": [
         {
          "fillcolor": "purple",
          "opacity": 0.2,
          "type": "rect",
          "x0": -6,
          "x1": 0,
          "xref": "x",
          "y0": 0,
          "y1": 1,
          "yref": "y domain"
         },
         {
          "line": {
           "dash": "dash",
           "width": 0.5
          },
          "type": "line",
          "x0": 1.3333333333333333,
          "x1": 1.3333333333333333,
          "xref": "x",
          "y0": 0,
          "y1": 1,
          "yref": "y domain"
         },
         {
          "line": {
           "dash": "dash",
           "width": 0.5
          },
          "name": "4:3 ratio",
          "type": "line",
          "x0": -1.3333333333333333,
          "x1": -1.3333333333333333,
          "xref": "x",
          "y0": 0,
          "y1": 1,
          "yref": "y domain"
         }
        ],
        "template": {
         "layout": {
          "colorway": [
           "#000000",
           "#784F17",
           "#FF0018",
           "#FFA52C",
           "#FFFF41",
           "#008018",
           "#0000F9",
           "#86007D"
          ],
          "plot_bgcolor": "lightgrey"
         }
        },
        "title": {
         "text": "Average Touches per Point"
        },
        "xaxis": {
         "anchor": "y",
         "domain": [
          0,
          0.94
         ],
         "ticktext": [
          4,
          2,
          0,
          2,
          4,
          6
         ],
         "tickvals": [
          -4,
          -2,
          0,
          2,
          4,
          6
         ],
         "title": {
          "text": "Touches per Point"
         }
        },
        "yaxis": {
         "anchor": "x",
         "domain": [
          0,
          1
         ],
         "ticktext": [],
         "tickvals": []
        },
        "yaxis2": {
         "anchor": "x",
         "overlaying": "y",
         "side": "right",
         "ticktext": [
          "FSL",
          "Fly High Lausanne",
          "Wombats Willisau",
          "Wizards Geneva"
         ],
         "tickvals": [
          0,
          1,
          2,
          3
         ]
        }
       }
      },
      "text/html": [
       "<div>                            <div id=\"40f36575-e90e-4e4c-bcf3-bd444a6fb09f\" class=\"plotly-graph-div\" style=\"height:525px; width:100%;\"></div>            <script type=\"text/javascript\">                require([\"plotly\"], function(Plotly) {                    window.PLOTLYENV=window.PLOTLYENV || {};                                    if (document.getElementById(\"40f36575-e90e-4e4c-bcf3-bd444a6fb09f\")) {                    Plotly.newPlot(                        \"40f36575-e90e-4e4c-bcf3-bd444a6fb09f\",                        [{\"marker\":{\"color\":\"green\"},\"name\":\"M touches (4M)\",\"orientation\":\"h\",\"type\":\"bar\",\"x\":[2.0,6.7,7.0,3.1818181818181817],\"xaxis\":\"x\",\"yaxis\":\"y\"},{\"marker\":{\"color\":\"orange\"},\"name\":\"W touches (4M)\",\"orientation\":\"h\",\"type\":\"bar\",\"x\":[0.8571428571428571,2.2,3.75,1.0],\"xaxis\":\"x\",\"yaxis\":\"y\"},{\"marker\":{\"color\":\"green\"},\"name\":\"M touches (4W)\",\"orientation\":\"h\",\"type\":\"bar\",\"x\":[-2.125,-3.3,-2.888888888888889,-4.846153846153846],\"xaxis\":\"x\",\"yaxis\":\"y2\"},{\"marker\":{\"color\":\"orange\"},\"name\":\"W touches (4W)\",\"orientation\":\"h\",\"type\":\"bar\",\"x\":[-1.375,-1.9,-2.6666666666666665,-3.3846153846153846],\"xaxis\":\"x\",\"yaxis\":\"y2\"},{\"marker\":{\"color\":\"black\",\"symbol\":\"cross\"},\"mode\":\"markers\",\"name\":\"m/f touch ratio\",\"type\":\"scatter\",\"x\":[2.3333333333333335,3.0454545454545454,1.8666666666666667,3.1818181818181817],\"xaxis\":\"x\",\"y\":[0,1,2,3],\"yaxis\":\"y\"},{\"marker\":{\"color\":\"black\",\"symbol\":\"cross\"},\"mode\":\"markers\",\"name\":\"f/m touch ratio\",\"type\":\"scatter\",\"x\":[-0.6470588235294118,-0.5757575757575758,-0.923076923076923,-0.6984126984126985],\"xaxis\":\"x\",\"y\":[0,1,2,3],\"yaxis\":\"y2\"}],                        {\"images\":[{\"sizex\":0.2,\"sizey\":0.2,\"source\":\"https://raw.githubusercontent.com/elastufka/presentations/master/images/ZU_logo1.png\",\"x\":0,\"xanchor\":\"right\",\"xref\":\"paper\",\"y\":1.05,\"yanchor\":\"bottom\",\"yref\":\"paper\"}],\"shapes\":[{\"fillcolor\":\"purple\",\"opacity\":0.2,\"type\":\"rect\",\"x0\":-6,\"x1\":0,\"xref\":\"x\",\"y0\":0,\"y1\":1,\"yref\":\"y domain\"},{\"line\":{\"dash\":\"dash\",\"width\":0.5},\"type\":\"line\",\"x0\":1.3333333333333333,\"x1\":1.3333333333333333,\"xref\":\"x\",\"y0\":0,\"y1\":1,\"yref\":\"y domain\"},{\"line\":{\"dash\":\"dash\",\"width\":0.5},\"name\":\"4:3 ratio\",\"type\":\"line\",\"x0\":-1.3333333333333333,\"x1\":-1.3333333333333333,\"xref\":\"x\",\"y0\":0,\"y1\":1,\"yref\":\"y domain\"}],\"template\":{\"layout\":{\"colorway\":[\"#000000\",\"#784F17\",\"#FF0018\",\"#FFA52C\",\"#FFFF41\",\"#008018\",\"#0000F9\",\"#86007D\"],\"plot_bgcolor\":\"lightgrey\"}},\"title\":{\"text\":\"Average Touches per Point\"},\"xaxis\":{\"anchor\":\"y\",\"domain\":[0.0,0.94],\"ticktext\":[4,2,0,2,4,6],\"tickvals\":[-4,-2,0,2,4,6],\"title\":{\"text\":\"Touches per Point\"}},\"yaxis\":{\"anchor\":\"x\",\"domain\":[0.0,1.0],\"ticktext\":[],\"tickvals\":[]},\"yaxis2\":{\"anchor\":\"x\",\"overlaying\":\"y\",\"side\":\"right\",\"ticktext\":[\"FSL\",\"Fly High Lausanne\",\"Wombats Willisau\",\"Wizards Geneva\"],\"tickvals\":[0,1,2,3]}},                        {\"responsive\": true}                    ).then(function(){\n",
       "                            \n",
       "var gd = document.getElementById('40f36575-e90e-4e4c-bcf3-bd444a6fb09f');\n",
       "var x = new MutationObserver(function (mutations, observer) {{\n",
       "        var display = window.getComputedStyle(gd).display;\n",
       "        if (!display || display === 'none') {{\n",
       "            console.log([gd, 'removed!']);\n",
       "            Plotly.purge(gd);\n",
       "            observer.disconnect();\n",
       "        }}\n",
       "}});\n",
       "\n",
       "// Listen for the removal of the full notebook cells\n",
       "var notebookContainer = gd.closest('#notebook-container');\n",
       "if (notebookContainer) {{\n",
       "    x.observe(notebookContainer, {childList: true});\n",
       "}}\n",
       "\n",
       "// Listen for the clearing of the current output cell\n",
       "var outputEl = gd.closest('.output');\n",
       "if (outputEl) {{\n",
       "    x.observe(outputEl, {childList: true});\n",
       "}}\n",
       "\n",
       "                        })                };                });            </script>        </div>"
      ]
     },
     "metadata": {},
     "output_type": "display_data"
    }
   ],
   "source": [
    "#fig=go.Figure()\n",
    "#for i,g in enumerate(['M','W']):\n",
    "#    for j,op in enumerate(df.Opponent.unique()[:1]):\n",
    "#        fig.add_trace(go.Bar(x=[-maj_women[j][i],maj_men[j][i]],name=op,hovertext=g))\n",
    "#fig.show()\n",
    "from plotly.subplots import make_subplots\n",
    "fig = make_subplots(specs=[[{\"secondary_y\": True}]])\n",
    "fig.add_trace(go.Bar(x=maj_men[:,0],name='M touches (4M)',orientation='h',marker_color='green'),secondary_y=False)\n",
    "fig.add_trace(go.Bar(x=maj_men[:,1],name='W touches (4M)',orientation='h',marker_color='orange'),secondary_y=False)\n",
    "fig.add_vrect(x0=-6,x1=0,fillcolor='purple',opacity=.2)\n",
    "fig.add_trace(go.Bar(x=-1*maj_women[:,0],name='M touches (4W)',orientation='h',marker_color='green'),secondary_y=True)\n",
    "fig.add_trace(go.Bar(x=-1*maj_women[:,1],name='W touches (4W)',orientation='h',marker_color='orange'),secondary_y=True)\n",
    "fig.add_trace(go.Scatter(x=maj_men[:,0]/maj_men[:,1],y=list(range(4)),mode='markers',marker_symbol='cross',marker_color='black',name='m/f touch ratio'),secondary_y=False)\n",
    "fig.add_trace(go.Scatter(x=-maj_women[:,1]/maj_women[:,0],y=list(range(4)),mode='markers',marker_symbol='cross',marker_color='black',name='f/m touch ratio'),secondary_y=True)\n",
    "fig.add_vline(x=4/3,line_dash='dash',line_width=.5)\n",
    "fig.add_vline(x=-4/3,line_dash='dash',line_width=.5,name='4:3 ratio')\n",
    "fig.update_yaxes(ticktext=[],tickvals=[])\n",
    "fig.update_xaxes(ticktext=[4,2,0,2,4,6],tickvals=[-4,-2,0,2,4,6])\n",
    "fig.update_yaxes(ticktext=df.Opponent.unique(),tickvals=[0,1,2,3],secondary_y=True)\n",
    "fig.update_layout(title='Average Touches per Point',xaxis_title='Touches per Point')\n",
    "fig.update_layout(logo_layout)"
   ]
  },
  {
   "cell_type": "markdown",
   "metadata": {
    "slideshow": {
     "slide_type": "fragment"
    }
   },
   "source": [
    "The dashed lines indicate the 4:3 ratio\n",
    "    \n",
    "Shaded area is where we played 4W 3M, unshaded is 4M 3W\n"
   ]
  },
  {
   "cell_type": "code",
   "execution_count": null,
   "metadata": {
    "slideshow": {
     "slide_type": "skip"
    }
   },
   "outputs": [],
   "source": []
  }
 ],
 "metadata": {
  "celltoolbar": "Edit Metadata",
  "kernelspec": {
   "display_name": "Python 3",
   "language": "python",
   "name": "python3"
  },
  "language_info": {
   "codemirror_mode": {
    "name": "ipython",
    "version": 3
   },
   "file_extension": ".py",
   "mimetype": "text/x-python",
   "name": "python",
   "nbconvert_exporter": "python",
   "pygments_lexer": "ipython3",
   "version": "3.7.8"
  }
 },
 "nbformat": 4,
 "nbformat_minor": 4
}
